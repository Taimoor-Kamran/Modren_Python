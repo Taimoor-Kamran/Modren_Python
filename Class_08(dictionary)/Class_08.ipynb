{
 "cells": [
  {
   "cell_type": "code",
   "execution_count": null,
   "metadata": {},
   "outputs": [],
   "source": [
    "from typing import Dict, Union, Optional\n",
    "import pprint\n",
    "# List     \n",
    "\n",
    "key = Union[int, str] # create custom tyep\n",
    "Value = Union[int, str, list, dict, tuple, set]\n",
    "\n",
    "data: Dict[key,Value] = {\"name\" : \"Taimoor\",\n",
    "                         \"fname\": \"Kamran\",\n",
    "                        \"education\" : \"MSDS\",}\n"
   ]
  }
 ],
 "metadata": {
  "kernelspec": {
   "display_name": "my-app",
   "language": "python",
   "name": "python3"
  },
  "language_info": {
   "name": "python",
   "version": "3.12.0"
  }
 },
 "nbformat": 4,
 "nbformat_minor": 2
}
