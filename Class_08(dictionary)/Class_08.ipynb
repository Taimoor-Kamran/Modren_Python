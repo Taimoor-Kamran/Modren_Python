{
 "cells": [
  {
   "cell_type": "code",
   "execution_count": 9,
   "metadata": {},
   "outputs": [
    {
     "name": "stdout",
     "output_type": "stream",
     "text": [
      "Before {'name': 'Taimoor', 'fname': 'Kamran', 'education': 'MSDS'}\n",
      "After {}\n",
      "['clear', 'copy', 'fromkeys', 'get', 'items', 'keys', 'pop', 'popitem', 'setdefault', 'update', 'values']\n"
     ]
    }
   ],
   "source": [
    "from typing import Dict, Union, Optional\n",
    "import pprint\n",
    "# List     \n",
    "\n",
    "key = Union[int, str] # create custom tyep\n",
    "Value = Union[int, str, list, dict, tuple, set]\n",
    "\n",
    "data: Dict[key,Value] = {\"name\" : \"Taimoor\",\n",
    "                         \"fname\": \"Kamran\",\n",
    "                        \"education\" : \"MSDS\",}\n",
    "\n",
    "print(\"Before\", data)\n",
    "\n",
    "data.clear()\n",
    "print(\"After\", data)\n",
    "\n",
    "methods : list[str] = [m for m in dir(data) if \"__\" not in m]\n",
    "print(methods)"
   ]
  },
  {
   "cell_type": "code",
   "execution_count": 11,
   "metadata": {},
   "outputs": [
    {
     "name": "stdout",
     "output_type": "stream",
     "text": [
      "Before {'name': 'Taimoor', 'fname': 'Kamran', 'education': 'MSDS'}\n"
     ]
    },
    {
     "ename": "NameError",
     "evalue": "name 'data' is not defined",
     "output_type": "error",
     "traceback": [
      "\u001b[1;31m---------------------------------------------------------------------------\u001b[0m",
      "\u001b[1;31mNameError\u001b[0m                                 Traceback (most recent call last)",
      "Cell \u001b[1;32mIn[11], line 15\u001b[0m\n\u001b[0;32m     12\u001b[0m \u001b[38;5;28mprint\u001b[39m(\u001b[38;5;124m\"\u001b[39m\u001b[38;5;124mBefore\u001b[39m\u001b[38;5;124m\"\u001b[39m, data)\n\u001b[0;32m     14\u001b[0m \u001b[38;5;28;01mdel\u001b[39;00m data\n\u001b[1;32m---> 15\u001b[0m \u001b[38;5;28mprint\u001b[39m(\u001b[38;5;124m\"\u001b[39m\u001b[38;5;124mAfter\u001b[39m\u001b[38;5;124m\"\u001b[39m, \u001b[43mdata\u001b[49m)\n\u001b[0;32m     17\u001b[0m methods : \u001b[38;5;28mlist\u001b[39m[\u001b[38;5;28mstr\u001b[39m] \u001b[38;5;241m=\u001b[39m [m \u001b[38;5;28;01mfor\u001b[39;00m m \u001b[38;5;129;01min\u001b[39;00m \u001b[38;5;28mdir\u001b[39m(data) \u001b[38;5;28;01mif\u001b[39;00m \u001b[38;5;124m\"\u001b[39m\u001b[38;5;124m__\u001b[39m\u001b[38;5;124m\"\u001b[39m \u001b[38;5;129;01mnot\u001b[39;00m \u001b[38;5;129;01min\u001b[39;00m m]\n\u001b[0;32m     18\u001b[0m \u001b[38;5;28mprint\u001b[39m(methods)\n",
      "\u001b[1;31mNameError\u001b[0m: name 'data' is not defined"
     ]
    }
   ],
   "source": [
    "from typing import Dict, Union, Optional\n",
    "import pprint\n",
    "# List     \n",
    "\n",
    "key = Union[int, str] # create custom tyep\n",
    "Value = Union[int, str, list, dict, tuple, set]\n",
    "\n",
    "data: Dict[key,Value] = {\"name\" : \"Taimoor\",\n",
    "                         \"fname\": \"Kamran\",\n",
    "                        \"education\" : \"MSDS\",}\n",
    "\n",
    "print(\"Before\", data)\n",
    "\n",
    "del data\n",
    "print(\"After\", data)\n",
    "\n",
    "methods : list[str] = [m for m in dir(data) if \"__\" not in m]\n",
    "print(methods)"
   ]
  },
  {
   "cell_type": "code",
   "execution_count": 19,
   "metadata": {},
   "outputs": [
    {
     "name": "stdout",
     "output_type": "stream",
     "text": [
      "Before {'name': 'Taimoor', 'fname': 'Kamran', 'education': 'MSDS'}\n",
      "MSDS\n",
      "After {'name': 'Taimoor', 'fname': 'Kamran'}\n",
      "['clear', 'copy', 'fromkeys', 'get', 'items', 'keys', 'pop', 'popitem', 'setdefault', 'update', 'values']\n"
     ]
    }
   ],
   "source": [
    "from typing import Dict, Union, Optional\n",
    "import pprint\n",
    "# List     \n",
    "\n",
    "key = Union[int, str] # create custom tyep\n",
    "Value = Union[int, str, list, dict, tuple, set]\n",
    "\n",
    "data: Dict[key,Value] = {\"name\" : \"Taimoor\",\n",
    "                         \"fname\": \"Kamran\",\n",
    "                        \"education\" : \"MSDS\",}\n",
    "\n",
    "print(\"Before\", data)\n",
    "\n",
    "a : str = data.pop(\"education\")\n",
    "print(a)\n",
    "print(\"After\", data)\n",
    "\n",
    "methods : list[str] = [m for m in dir(data) if \"__\" not in m]\n",
    "print(methods)"
   ]
  },
  {
   "cell_type": "code",
   "execution_count": 23,
   "metadata": {},
   "outputs": [
    {
     "name": "stdout",
     "output_type": "stream",
     "text": [
      "Before {'name': 'Taimoor', 'fname': 'Kamran', 'education': 'MSDS'}\n",
      "Na\n",
      "After {'name': 'Taimoor', 'fname': 'Kamran', 'education': 'MSDS'}\n",
      "['clear', 'copy', 'fromkeys', 'get', 'items', 'keys', 'pop', 'popitem', 'setdefault', 'update', 'values']\n"
     ]
    }
   ],
   "source": [
    "from typing import Dict, Union, Optional\n",
    "import pprint\n",
    "# List     \n",
    "\n",
    "key = Union[int, str] # create custom tyep\n",
    "Value = Union[int, str, list, dict, tuple, set]\n",
    "\n",
    "data: Dict[key,Value] = {\"name\" : \"Taimoor\",\n",
    "                         \"fname\": \"Kamran\",\n",
    "                        \"education\" : \"MSDS\",}\n",
    "\n",
    "print(\"Before\", data)\n",
    "\n",
    "a : str = data.get(\"Pakistan\", \"Na\")\n",
    "print(a)\n",
    "print(\"After\", data)\n",
    "\n",
    "methods : list[str] = [m for m in dir(data) if \"__\" not in m]\n",
    "print(methods)"
   ]
  },
  {
   "cell_type": "code",
   "execution_count": 27,
   "metadata": {},
   "outputs": [
    {
     "name": "stdout",
     "output_type": "stream",
     "text": [
      "Before {'name': 'Taimoor', 'fname': 'Kamran', 'education': 'MSDS'}\n",
      "Empty Value\n",
      "After {'name': 'Taimoor', 'fname': 'Kamran', 'education': 'MSDS', 'Pakistan': 'Empty Value'}\n",
      "['clear', 'copy', 'fromkeys', 'get', 'items', 'keys', 'pop', 'popitem', 'setdefault', 'update', 'values']\n"
     ]
    }
   ],
   "source": [
    "from typing import Dict, Union, Optional\n",
    "import pprint\n",
    "# List     \n",
    "\n",
    "key = Union[int, str] # create custom tyep\n",
    "Value = Union[int, str, list, dict, tuple, set]\n",
    "\n",
    "data: Dict[key,Value] = {\"name\" : \"Taimoor\",\n",
    "                         \"fname\": \"Kamran\",\n",
    "                        \"education\" : \"MSDS\",}\n",
    "\n",
    "print(\"Before\", data)\n",
    "\n",
    "a : str = data.setdefault(\"Pakistan\",\"Empty Value\")\n",
    "print(a)\n",
    "print(\"After\", data)\n",
    "\n",
    "methods : list[str] = [m for m in dir(data) if \"__\" not in m]\n",
    "print(methods)"
   ]
  },
  {
   "cell_type": "code",
   "execution_count": 31,
   "metadata": {},
   "outputs": [
    {
     "name": "stdout",
     "output_type": "stream",
     "text": [
      "{'name': 'M.Taimoor', 'fname': 'Kamran', 'education': 'MSDS', 'age': 18, 'Height': '6 Feet'}\n"
     ]
    }
   ],
   "source": [
    "from typing import Dict, Union, Optional\n",
    "import pprint\n",
    "# List     \n",
    "\n",
    "key = Union[int, str] # create custom tyep\n",
    "Value = Union[int, str, list, dict, tuple, set]\n",
    "\n",
    "data: Dict[key,Value] = {\"name\" : \"Taimoor\",\n",
    "                         \"fname\": \"Kamran\",\n",
    "                        \"education\" : \"MSDS\",}\n",
    "\n",
    "data1: Dict[key, Value] = {\"name\": \"M.Taimoor\",\n",
    "                           \"age\": 18,\n",
    "                           \"Height\": \"6 Feet\"\n",
    "                           }\n",
    "\n",
    "data.update(data1)\n",
    "\n",
    "print(data)"
   ]
  },
  {
   "cell_type": "code",
   "execution_count": 36,
   "metadata": {},
   "outputs": [
    {
     "data": {
      "text/html": [
       "<div>\n",
       "<style scoped>\n",
       "    .dataframe tbody tr th:only-of-type {\n",
       "        vertical-align: middle;\n",
       "    }\n",
       "\n",
       "    .dataframe tbody tr th {\n",
       "        vertical-align: top;\n",
       "    }\n",
       "\n",
       "    .dataframe thead th {\n",
       "        text-align: right;\n",
       "    }\n",
       "</style>\n",
       "<table border=\"1\" class=\"dataframe\">\n",
       "  <thead>\n",
       "    <tr style=\"text-align: right;\">\n",
       "      <th></th>\n",
       "      <th>roll no</th>\n",
       "      <th>Name</th>\n",
       "      <th>education</th>\n",
       "    </tr>\n",
       "  </thead>\n",
       "  <tbody>\n",
       "    <tr>\n",
       "      <th>0</th>\n",
       "      <td>1</td>\n",
       "      <td>Sir Zia</td>\n",
       "      <td>Master</td>\n",
       "    </tr>\n",
       "    <tr>\n",
       "      <th>1</th>\n",
       "      <td>2</td>\n",
       "      <td>Sir Inam</td>\n",
       "      <td>Master</td>\n",
       "    </tr>\n",
       "    <tr>\n",
       "      <th>2</th>\n",
       "      <td>3</td>\n",
       "      <td>Muhammad Qasim</td>\n",
       "      <td>Master</td>\n",
       "    </tr>\n",
       "  </tbody>\n",
       "</table>\n",
       "</div>"
      ],
      "text/plain": [
       "   roll no            Name education\n",
       "0        1         Sir Zia    Master\n",
       "1        2        Sir Inam    Master\n",
       "2        3  Muhammad Qasim    Master"
      ]
     },
     "execution_count": 36,
     "metadata": {},
     "output_type": "execute_result"
    }
   ],
   "source": [
    "import pandas as pd\n",
    "from typing import Any\n",
    "\n",
    "student_data: dict[str, list[Any]] = {\n",
    "    \"roll no\": [1,2,3],\n",
    "    \"Name\": [\"Sir Zia\", \"Sir Inam\", \"Muhammad Qasim\"],\n",
    "    \"education\": [\"Master\", \"Master\", \"Master\"]\n",
    "}\n",
    "\n",
    "df: pd.DataFrame = pd.DataFrame(student_data)\n",
    "\n",
    "df"
   ]
  },
  {
   "cell_type": "code",
   "execution_count": null,
   "metadata": {},
   "outputs": [],
   "source": []
  }
 ],
 "metadata": {
  "kernelspec": {
   "display_name": "my-app",
   "language": "python",
   "name": "python3"
  },
  "language_info": {
   "codemirror_mode": {
    "name": "ipython",
    "version": 3
   },
   "file_extension": ".py",
   "mimetype": "text/x-python",
   "name": "python",
   "nbconvert_exporter": "python",
   "pygments_lexer": "ipython3",
   "version": "3.12.0"
  }
 },
 "nbformat": 4,
 "nbformat_minor": 2
}
