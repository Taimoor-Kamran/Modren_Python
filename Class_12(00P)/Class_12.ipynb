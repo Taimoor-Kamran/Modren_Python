{
 "cells": [
  {
   "cell_type": "code",
   "execution_count": 2,
   "id": "bbddc180",
   "metadata": {},
   "outputs": [],
   "source": [
    "def obj1_speak():pass\n",
    "def obj2_speak():pass\n",
    "\n",
    "obj1_name:str = \"Sir Zia\"\n",
    "obj2_name:str = \"Sir Qasim\""
   ]
  },
  {
   "cell_type": "markdown",
   "id": "a6001fa4",
   "metadata": {},
   "source": [
    "## OOP (Object Oriented Programming)\n",
    "* Class\n",
    "    * method\n",
    "        * first argument must be additional varibales (self, this, or anything else)\n",
    "    * attribute\n",
    "        * connect with individual \n",
    "    * class variables\n",
    "    * constructor\n",
    "        * def ```__init__(self,arg1,arg2)```\n",
    "\n",
    "    * Class Variable\n",
    "        * this value use for all objects\n",
    "            * `ClassName.class_varible`\n",
    "```\n",
    "class ClassName():\n",
    "    class_variable1 : type = value\n",
    "```\n",
    "## syntax of class\n",
    "\n",
    "```\n",
    "class class_name():\n",
    "    pass\n",
    "```"
   ]
  },
  {
   "cell_type": "code",
   "execution_count": 1,
   "id": "2c39b94d",
   "metadata": {},
   "outputs": [],
   "source": [
    "class Teacher():\n",
    "    def __init__(self, teacher_id:int, teacher_name: str) -> None:\n",
    "        self.name : str = teacher_name\n",
    "        self.teacher_id : int = teacher_id\n",
    "        self.organization_name: str = \"PIAIC\"\n",
    "\n",
    "    def speak(self, words : str ) -> None:\n",
    "        print(f\"{self.name} is speaking {words}\")\n",
    "\n",
    "    def teaching(self, subject: str ) -> None:\n",
    "        print(f\"{self.name} is teaching {subject}...!\")"
   ]
  },
  {
   "cell_type": "code",
   "execution_count": null,
   "id": "295489c2",
   "metadata": {},
   "outputs": [],
   "source": [
    "obj1: Teacher = Teacher(1, \"Sir Zia Khan\") #intialize object->Caliing constructor method only this time\n",
    "# obj1 = object , teacher class instance\n",
    "\n",
    "obj2: Teacher = Teacher(2, \"Sir Qasim\")"
   ]
  },
  {
   "cell_type": "code",
   "execution_count": 33,
   "id": "38798d9a",
   "metadata": {},
   "outputs": [
    {
     "ename": "TypeError",
     "evalue": "Teacher.__init__() missing 1 required positional argument: 'teacher_name'",
     "output_type": "error",
     "traceback": [
      "\u001b[1;31m---------------------------------------------------------------------------\u001b[0m",
      "\u001b[1;31mTypeError\u001b[0m                                 Traceback (most recent call last)",
      "Cell \u001b[1;32mIn[33], line 1\u001b[0m\n\u001b[1;32m----> 1\u001b[0m abc: Teacher \u001b[38;5;241m=\u001b[39m \u001b[43mTeacher\u001b[49m\u001b[43m(\u001b[49m\u001b[38;5;241;43m3\u001b[39;49m\u001b[43m)\u001b[49m\n",
      "\u001b[1;31mTypeError\u001b[0m: Teacher.__init__() missing 1 required positional argument: 'teacher_name'"
     ]
    }
   ],
   "source": [
    "abc: Teacher = Teacher(3)"
   ]
  },
  {
   "cell_type": "code",
   "execution_count": 21,
   "id": "3bf20c6f",
   "metadata": {},
   "outputs": [
    {
     "name": "stdout",
     "output_type": "stream",
     "text": [
      "Sir Zia Khan\n",
      "1\n",
      "PIAIC\n",
      "Sir Qasim\n",
      "1\n",
      "PIAIC\n"
     ]
    }
   ],
   "source": [
    "print(obj1.name)\n",
    "print(obj1.teacher_id)\n",
    "print(obj1.organization_name)\n",
    "\n",
    "print(obj2.name)\n",
    "print(obj2.teacher_id)\n",
    "print(obj2.organization_name)"
   ]
  },
  {
   "cell_type": "code",
   "execution_count": 24,
   "id": "54532bad",
   "metadata": {},
   "outputs": [
    {
     "name": "stdout",
     "output_type": "stream",
     "text": [
      "Sir Zia Khan is teaching Generative AI...!\n"
     ]
    }
   ],
   "source": [
    "obj1.teaching(\"Generative AI\")"
   ]
  },
  {
   "cell_type": "code",
   "execution_count": 25,
   "id": "dd24b79c",
   "metadata": {},
   "outputs": [
    {
     "name": "stdout",
     "output_type": "stream",
     "text": [
      "Sir Qasim is teaching Deep Learning...!\n"
     ]
    }
   ],
   "source": [
    "obj2.teaching(\"Deep Learning\")"
   ]
  },
  {
   "cell_type": "code",
   "execution_count": 17,
   "id": "e81a1e34",
   "metadata": {},
   "outputs": [
    {
     "data": {
      "text/plain": [
       "['__class__',\n",
       " '__delattr__',\n",
       " '__dict__',\n",
       " '__dir__',\n",
       " '__doc__',\n",
       " '__eq__',\n",
       " '__format__',\n",
       " '__ge__',\n",
       " '__getattribute__',\n",
       " '__getstate__',\n",
       " '__gt__',\n",
       " '__hash__',\n",
       " '__init__',\n",
       " '__init_subclass__',\n",
       " '__le__',\n",
       " '__lt__',\n",
       " '__module__',\n",
       " '__ne__',\n",
       " '__new__',\n",
       " '__reduce__',\n",
       " '__reduce_ex__',\n",
       " '__repr__',\n",
       " '__setattr__',\n",
       " '__sizeof__',\n",
       " '__str__',\n",
       " '__subclasshook__',\n",
       " '__weakref__',\n",
       " 'name',\n",
       " 'organization_name',\n",
       " 'speak',\n",
       " 'teacher_id',\n",
       " 'teaching']"
      ]
     },
     "execution_count": 17,
     "metadata": {},
     "output_type": "execute_result"
    }
   ],
   "source": [
    "dir(obj1)"
   ]
  },
  {
   "cell_type": "code",
   "execution_count": 34,
   "id": "9cd7d8e9",
   "metadata": {},
   "outputs": [],
   "source": [
    "class Teacher():\n",
    "    def __init__(this, teacher_id:int, teacher_name: str) -> None:\n",
    "        this.name : str = teacher_name\n",
    "        this.teacher_id : int = teacher_id\n",
    "        this.organization_name: str = \"PIAIC\"\n",
    "\n",
    "    def speak(this, words : str ) -> None:\n",
    "        print(f\"{this.name} is speaking {words}\")\n",
    "\n",
    "    def teaching(this, subject: str ) -> None:\n",
    "        print(f\"{this.name} is teaching {subject}...!\")\n",
    "\n",
    "obj1: Teacher = Teacher(1, \"Sir Zia Khan\")\n",
    "obj2: Teacher = Teacher(1, \"Sir Qasim\")"
   ]
  },
  {
   "cell_type": "markdown",
   "id": "e64433c0",
   "metadata": {},
   "source": [
    "# Class Variable\n",
    "\n",
    "* Class Variable\n",
    "* this value use for all objects\n",
    "    * `ClassName.class_varible`\n",
    "    * `object_name.class_variable`\n",
    "```\n",
    "class ClassName():\n",
    "    class_variable1 : type = value\n",
    "```"
   ]
  },
  {
   "cell_type": "code",
   "execution_count": 3,
   "id": "04ab7641",
   "metadata": {},
   "outputs": [
    {
     "name": "stdout",
     "output_type": "stream",
     "text": [
      "1 1\n"
     ]
    }
   ],
   "source": [
    "class Teacher():\n",
    "    counter: int = 0 # Class variable 1\n",
    "    help_line_number: str = \"123456789\" # Class variable 1\n",
    "\n",
    "\n",
    "    def __init__(self, teacher_id:int, teacher_name: str) -> None:\n",
    "        self.name : str = teacher_name\n",
    "        self.teacher_id : int = teacher_id\n",
    "        self.organization_name: str = \"PIAIC\"\n",
    "        Teacher.counter += 1\n",
    "        \n",
    "\n",
    "    def speak(self, words : str ) -> None:\n",
    "        print(f\"{self.name} is speaking {words}\")\n",
    "\n",
    "    def teaching(self, subject: str ) -> None:\n",
    "        print(f\"{self.name} is teaching {subject}...!\")\n",
    "\n",
    "    def details(self)->None:\n",
    "        information: str = f\"\"\"\"\n",
    "        Teacher Name is {self.name}\n",
    "        our help line number is {Teacher.help_line_number}\n",
    "        \"\"\"\n",
    "\n",
    "obj1: Teacher = Teacher(1, \"Sir Zia Khan\")\n",
    "\n",
    "print(Teacher.counter , obj1.counter)"
   ]
  },
  {
   "cell_type": "code",
   "execution_count": 4,
   "id": "aaf25e71",
   "metadata": {},
   "outputs": [],
   "source": [
    "obj2: Teacher = Teacher(1, \"Sir Qasim\")"
   ]
  },
  {
   "cell_type": "code",
   "execution_count": 6,
   "id": "c47f15bc",
   "metadata": {},
   "outputs": [
    {
     "name": "stdout",
     "output_type": "stream",
     "text": [
      "2\n",
      "2\n",
      "123456789\n",
      "123456789\n",
      "123456789\n",
      "123456789\n"
     ]
    }
   ],
   "source": [
    "print(obj1.counter)\n",
    "print(obj2.counter)\n",
    "print(Teacher.help_line_number)\n",
    "\n",
    "print(obj1.help_line_number)\n",
    "print(obj2.help_line_number)\n",
    "print(Teacher.help_line_number)"
   ]
  },
  {
   "cell_type": "code",
   "execution_count": 8,
   "id": "a9be7fcb",
   "metadata": {},
   "outputs": [],
   "source": [
    "obj1.details()"
   ]
  },
  {
   "cell_type": "code",
   "execution_count": 41,
   "id": "73353e5b",
   "metadata": {},
   "outputs": [],
   "source": [
    "class Teacher:\n",
    "    def __init__(self,  teacher_id: int, teacher_name : str) -> None:\n",
    "        self.name : str = teacher_name\n",
    "        self.teacher_id : int = teacher_id\n",
    "        self.Organization : str = \"GIAIC\"\n",
    "\n",
    "\n",
    "    def speak(self, words: str) -> None:\n",
    "        print(f\"{self.name} is speaking {words}\")\n",
    "\n",
    "    def teaching(self, subject: str) -> None:\n",
    "        print(f\"{self.name} is teaching {subject}...!\")"
   ]
  },
  {
   "cell_type": "code",
   "execution_count": 43,
   "id": "f4b25221",
   "metadata": {},
   "outputs": [],
   "source": [
    "obj1: Teacher = Teacher(1,\"Sir Hamza Alvi\")\n",
    "obj2: Teacher = Teacher(2,\"Sir Fahad Khan\")"
   ]
  },
  {
   "cell_type": "code",
   "execution_count": 45,
   "id": "691e4bef",
   "metadata": {},
   "outputs": [
    {
     "name": "stdout",
     "output_type": "stream",
     "text": [
      "Sir Hamza Alvi\n",
      "1\n",
      "GIAIC\n",
      "Sir Fahad Khan\n",
      "2\n",
      "GIAIC\n"
     ]
    }
   ],
   "source": [
    "print(f\"{obj1.name}\")\n",
    "print(f\"{obj1.teacher_id}\")\n",
    "print(f\"{obj1.Organization}\")\n",
    "\n",
    "print(f\"{obj2.name}\")\n",
    "print(f\"{obj2.teacher_id}\")\n",
    "print(f\"{obj2.Organization}\")"
   ]
  },
  {
   "cell_type": "code",
   "execution_count": 47,
   "id": "8258de26",
   "metadata": {},
   "outputs": [
    {
     "name": "stdout",
     "output_type": "stream",
     "text": [
      "Sir Hamza Alvi is teaching Deep Learning...!\n"
     ]
    }
   ],
   "source": [
    "obj1.teaching(\"Deep Learning\")"
   ]
  },
  {
   "cell_type": "code",
   "execution_count": 40,
   "id": "2862e984",
   "metadata": {},
   "outputs": [
    {
     "name": "stdout",
     "output_type": "stream",
     "text": [
      "Sir Fahad Khan is teaching Data Science\n"
     ]
    }
   ],
   "source": [
    "obj2.teaching(\"Data Science\")"
   ]
  },
  {
   "cell_type": "code",
   "execution_count": 37,
   "id": "977fbed5",
   "metadata": {},
   "outputs": [
    {
     "data": {
      "text/plain": [
       "['Organization',\n",
       " '__class__',\n",
       " '__delattr__',\n",
       " '__dict__',\n",
       " '__dir__',\n",
       " '__doc__',\n",
       " '__eq__',\n",
       " '__format__',\n",
       " '__ge__',\n",
       " '__getattribute__',\n",
       " '__getstate__',\n",
       " '__gt__',\n",
       " '__hash__',\n",
       " '__init__',\n",
       " '__init_subclass__',\n",
       " '__le__',\n",
       " '__lt__',\n",
       " '__module__',\n",
       " '__ne__',\n",
       " '__new__',\n",
       " '__reduce__',\n",
       " '__reduce_ex__',\n",
       " '__repr__',\n",
       " '__setattr__',\n",
       " '__sizeof__',\n",
       " '__str__',\n",
       " '__subclasshook__',\n",
       " '__weakref__',\n",
       " 'name',\n",
       " 'speak',\n",
       " 'teacher_id',\n",
       " 'teaching']"
      ]
     },
     "execution_count": 37,
     "metadata": {},
     "output_type": "execute_result"
    }
   ],
   "source": [
    "dir(obj1)"
   ]
  },
  {
   "cell_type": "code",
   "execution_count": null,
   "id": "8edfacb8",
   "metadata": {},
   "outputs": [],
   "source": [
    "class Teacher:\n",
    "    def __init__(this,  teacher_id: int, teacher_name : str) -> None:\n",
    "        this.name : str = teacher_name\n",
    "        this.teacher_id : int = teacher_id\n",
    "        this.Organization : str = \"GIAIC\"\n",
    "\n",
    "\n",
    "    def speak(this, words: str) -> None:\n",
    "        print(f\"{this.name} is speaking {words}\")\n",
    "\n",
    "    def teaching(this, subject: str) -> None:\n",
    "        print(f\"{this.name} is teaching {subject}...!\")\n",
    "\n",
    "\n",
    "obj1: Teacher = Teacher(1,\"Sir Hamza Alvi\")\n",
    "obj2: Teacher = Teacher(2,\"Sir Fahad Khan\")"
   ]
  }
 ],
 "metadata": {
  "kernelspec": {
   "display_name": "Python 3",
   "language": "python",
   "name": "python3"
  },
  "language_info": {
   "codemirror_mode": {
    "name": "ipython",
    "version": 3
   },
   "file_extension": ".py",
   "mimetype": "text/x-python",
   "name": "python",
   "nbconvert_exporter": "python",
   "pygments_lexer": "ipython3",
   "version": "3.12.6"
  }
 },
 "nbformat": 4,
 "nbformat_minor": 5
}
