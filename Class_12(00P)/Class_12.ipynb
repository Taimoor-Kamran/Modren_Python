{
 "cells": [
  {
   "cell_type": "code",
   "execution_count": 1,
   "id": "bbddc180",
   "metadata": {},
   "outputs": [],
   "source": [
    "def obj1_speak():pass\n",
    "def obj2_speak():pass\n",
    "\n",
    "obj1_name:str = \"Sir Zia\"\n",
    "obj2_name:str = \"Sir Qasim\""
   ]
  },
  {
   "cell_type": "markdown",
   "id": "a6001fa4",
   "metadata": {},
   "source": [
    "## OOP (Object Oriented Programming)\n",
    "* Class\n",
    "    * method\n",
    "        * first argument must be additional varibales (self, this, or anything else)\n",
    "    * attribute\n",
    "        * connect with individual \n",
    "    * class variables\n",
    "    * constructor\n",
    "        * def ```__init__(self,arg1,arg2)```\n",
    "\n",
    "## syntax of class\n",
    "\n",
    "```\n",
    "class class_name():\n",
    "    pass\n",
    "```"
   ]
  },
  {
   "cell_type": "code",
   "execution_count": 65,
   "id": "2c39b94d",
   "metadata": {},
   "outputs": [],
   "source": [
    "class Teacher():\n",
    "    def __init__(self, teacher_id:int, teacher_name: str) -> None:\n",
    "        self.name : str = teacher_name\n",
    "        self.teacher_id : int = teacher_id\n",
    "        self.organization_name: str = \"PIAIC\"\n",
    "\n",
    "    def speak(self, words : str ) -> None:\n",
    "        print(f\"{self.name} is speaking {words}\")\n",
    "\n",
    "    def teaching(self, subject: str ) -> None:\n",
    "        print(f\"{self.name} is teaching {subject}...!\")"
   ]
  },
  {
   "cell_type": "code",
   "execution_count": null,
   "id": "295489c2",
   "metadata": {},
   "outputs": [],
   "source": [
    "obj1: Teacher = Teacher(1, \"Sir Zia Khan\") #intialize object->Caliing constructor method only this time\n",
    "# obj1 = object , teacher class instance \n",
    "\n",
    "\n",
    "obj2: Teacher = Teacher(2, \"Sir Qasim\")"
   ]
  },
  {
   "cell_type": "code",
   "execution_count": null,
   "id": "38798d9a",
   "metadata": {},
   "outputs": [],
   "source": [
    "abc: Teacher = Teacher(3)"
   ]
  },
  {
   "cell_type": "code",
   "execution_count": 60,
   "id": "3bf20c6f",
   "metadata": {},
   "outputs": [
    {
     "name": "stdout",
     "output_type": "stream",
     "text": [
      "Sir Zia Khan\n",
      "1\n",
      "PIAIC\n",
      "Sir Qasim\n",
      "2\n",
      "PIAIC\n"
     ]
    }
   ],
   "source": [
    "print(obj1.name)\n",
    "print(obj1.teacher_id)\n",
    "print(obj1.organization_name)\n",
    "\n",
    "print(obj2.name)\n",
    "print(obj2.teacher_id)\n",
    "print(obj2.organization_name)"
   ]
  },
  {
   "cell_type": "code",
   "execution_count": 62,
   "id": "54532bad",
   "metadata": {},
   "outputs": [
    {
     "name": "stdout",
     "output_type": "stream",
     "text": [
      "Sir Zia Khan is teaching Generative AI...!\n"
     ]
    }
   ],
   "source": [
    "obj1.teaching(\"Generative AI\")"
   ]
  },
  {
   "cell_type": "code",
   "execution_count": 63,
   "id": "dd24b79c",
   "metadata": {},
   "outputs": [
    {
     "name": "stdout",
     "output_type": "stream",
     "text": [
      "Sir Qasim is teaching Deep Learning...!\n"
     ]
    }
   ],
   "source": [
    "obj2.teaching(\"Deep Learning\")"
   ]
  },
  {
   "cell_type": "code",
   "execution_count": 20,
   "id": "e81a1e34",
   "metadata": {},
   "outputs": [
    {
     "data": {
      "text/plain": [
       "['__class__',\n",
       " '__delattr__',\n",
       " '__dict__',\n",
       " '__dir__',\n",
       " '__doc__',\n",
       " '__eq__',\n",
       " '__format__',\n",
       " '__ge__',\n",
       " '__getattribute__',\n",
       " '__getstate__',\n",
       " '__gt__',\n",
       " '__hash__',\n",
       " '__init__',\n",
       " '__init_subclass__',\n",
       " '__le__',\n",
       " '__lt__',\n",
       " '__module__',\n",
       " '__ne__',\n",
       " '__new__',\n",
       " '__reduce__',\n",
       " '__reduce_ex__',\n",
       " '__repr__',\n",
       " '__setattr__',\n",
       " '__sizeof__',\n",
       " '__str__',\n",
       " '__subclasshook__',\n",
       " '__weakref__',\n",
       " 'name',\n",
       " 'organization_name',\n",
       " 'speak',\n",
       " 'teaching',\n",
       " 'tid']"
      ]
     },
     "execution_count": 20,
     "metadata": {},
     "output_type": "execute_result"
    }
   ],
   "source": [
    "dir(obj1)"
   ]
  },
  {
   "cell_type": "code",
   "execution_count": 67,
   "id": "9cd7d8e9",
   "metadata": {},
   "outputs": [],
   "source": [
    "class Teacher():\n",
    "    def __init__(this, teacher_id:int, teacher_name: str) -> None:\n",
    "        this.name : str = teacher_name\n",
    "        this.teacher_id : int = teacher_id\n",
    "        this.organization_name: str = \"PIAIC\"\n",
    "\n",
    "    def speak(this, words : str ) -> None:\n",
    "        print(f\"{this.name} is speaking {words}\")\n",
    "\n",
    "    def teaching(this, subject: str ) -> None:\n",
    "        print(f\"{this.name} is teaching {subject}...!\")"
   ]
  }
 ],
 "metadata": {
  "kernelspec": {
   "display_name": "Python 3",
   "language": "python",
   "name": "python3"
  },
  "language_info": {
   "codemirror_mode": {
    "name": "ipython",
    "version": 3
   },
   "file_extension": ".py",
   "mimetype": "text/x-python",
   "name": "python",
   "nbconvert_exporter": "python",
   "pygments_lexer": "ipython3",
   "version": "3.12.6"
  }
 },
 "nbformat": 4,
 "nbformat_minor": 5
}
