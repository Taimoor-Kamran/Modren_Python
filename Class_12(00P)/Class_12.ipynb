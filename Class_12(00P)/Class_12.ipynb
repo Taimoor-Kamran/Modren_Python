{
 "cells": [
  {
   "cell_type": "code",
   "execution_count": 2,
   "id": "bbddc180",
   "metadata": {},
   "outputs": [],
   "source": [
    "def obj1_speak():pass\n",
    "def obj2_speak():pass\n",
    "\n",
    "obj1_name:str = \"Sir Zia\"\n",
    "obj2_name:str = \"Sir Qasim\""
   ]
  },
  {
   "cell_type": "markdown",
   "id": "a6001fa4",
   "metadata": {},
   "source": [
    "## OOP (Object Oriented Programming)\n",
    "* Class\n",
    "    * method\n",
    "        * first argument must be additional varibales (self, this, or anything else)\n",
    "    * attribute\n",
    "        * connect with individual object\n",
    "    * class variables\n",
    "    * constructor\n",
    "        * def ```__init__(self,arg1,arg2)```\n",
    "\n",
    "    * Class Variable\n",
    "        * this value use for all objects\n",
    "            * `ClassName.class_varible`\n",
    "```\n",
    "class ClassName():\n",
    "    class_variable1 : type = value\n",
    "```\n",
    "## syntax of class\n",
    "\n",
    "```\n",
    "class class_name():\n",
    "    pass\n",
    "```"
   ]
  },
  {
   "cell_type": "code",
   "execution_count": 1,
   "id": "2c39b94d",
   "metadata": {},
   "outputs": [],
   "source": [
    "class Teacher():\n",
    "    def __init__(self, teacher_id:int, teacher_name: str) -> None:\n",
    "        self.name : str = teacher_name\n",
    "        self.teacher_id : int = teacher_id\n",
    "        self.organization_name: str = \"PIAIC\"\n",
    "\n",
    "    def speak(self, words : str ) -> None:\n",
    "        print(f\"{self.name} is speaking {words}\")\n",
    "\n",
    "    def teaching(self, subject: str ) -> None:\n",
    "        print(f\"{self.name} is teaching {subject}...!\")"
   ]
  },
  {
   "cell_type": "code",
   "execution_count": null,
   "id": "295489c2",
   "metadata": {},
   "outputs": [],
   "source": [
    "obj1: Teacher = Teacher(1, \"Sir Zia Khan\") #intialize object->Caliing constructor method only this time\n",
    "# obj1 = object , teacher class instance\n",
    "\n",
    "obj2: Teacher = Teacher(2, \"Sir Qasim\")"
   ]
  },
  {
   "cell_type": "code",
   "execution_count": 33,
   "id": "38798d9a",
   "metadata": {},
   "outputs": [
    {
     "ename": "TypeError",
     "evalue": "Teacher.__init__() missing 1 required positional argument: 'teacher_name'",
     "output_type": "error",
     "traceback": [
      "\u001b[1;31m---------------------------------------------------------------------------\u001b[0m",
      "\u001b[1;31mTypeError\u001b[0m                                 Traceback (most recent call last)",
      "Cell \u001b[1;32mIn[33], line 1\u001b[0m\n\u001b[1;32m----> 1\u001b[0m abc: Teacher \u001b[38;5;241m=\u001b[39m \u001b[43mTeacher\u001b[49m\u001b[43m(\u001b[49m\u001b[38;5;241;43m3\u001b[39;49m\u001b[43m)\u001b[49m\n",
      "\u001b[1;31mTypeError\u001b[0m: Teacher.__init__() missing 1 required positional argument: 'teacher_name'"
     ]
    }
   ],
   "source": [
    "abc: Teacher = Teacher(3)"
   ]
  },
  {
   "cell_type": "code",
   "execution_count": 21,
   "id": "3bf20c6f",
   "metadata": {},
   "outputs": [
    {
     "name": "stdout",
     "output_type": "stream",
     "text": [
      "Sir Zia Khan\n",
      "1\n",
      "PIAIC\n",
      "Sir Qasim\n",
      "1\n",
      "PIAIC\n"
     ]
    }
   ],
   "source": [
    "print(obj1.name)\n",
    "print(obj1.teacher_id)\n",
    "print(obj1.organization_name)\n",
    "\n",
    "print(obj2.name)\n",
    "print(obj2.teacher_id)\n",
    "print(obj2.organization_name)"
   ]
  },
  {
   "cell_type": "code",
   "execution_count": 24,
   "id": "54532bad",
   "metadata": {},
   "outputs": [
    {
     "name": "stdout",
     "output_type": "stream",
     "text": [
      "Sir Zia Khan is teaching Generative AI...!\n"
     ]
    }
   ],
   "source": [
    "obj1.teaching(\"Generative AI\")"
   ]
  },
  {
   "cell_type": "code",
   "execution_count": 25,
   "id": "dd24b79c",
   "metadata": {},
   "outputs": [
    {
     "name": "stdout",
     "output_type": "stream",
     "text": [
      "Sir Qasim is teaching Deep Learning...!\n"
     ]
    }
   ],
   "source": [
    "obj2.teaching(\"Deep Learning\")"
   ]
  },
  {
   "cell_type": "code",
   "execution_count": 17,
   "id": "e81a1e34",
   "metadata": {},
   "outputs": [
    {
     "data": {
      "text/plain": [
       "['__class__',\n",
       " '__delattr__',\n",
       " '__dict__',\n",
       " '__dir__',\n",
       " '__doc__',\n",
       " '__eq__',\n",
       " '__format__',\n",
       " '__ge__',\n",
       " '__getattribute__',\n",
       " '__getstate__',\n",
       " '__gt__',\n",
       " '__hash__',\n",
       " '__init__',\n",
       " '__init_subclass__',\n",
       " '__le__',\n",
       " '__lt__',\n",
       " '__module__',\n",
       " '__ne__',\n",
       " '__new__',\n",
       " '__reduce__',\n",
       " '__reduce_ex__',\n",
       " '__repr__',\n",
       " '__setattr__',\n",
       " '__sizeof__',\n",
       " '__str__',\n",
       " '__subclasshook__',\n",
       " '__weakref__',\n",
       " 'name',\n",
       " 'organization_name',\n",
       " 'speak',\n",
       " 'teacher_id',\n",
       " 'teaching']"
      ]
     },
     "execution_count": 17,
     "metadata": {},
     "output_type": "execute_result"
    }
   ],
   "source": [
    "dir(obj1)"
   ]
  },
  {
   "cell_type": "code",
   "execution_count": 34,
   "id": "9cd7d8e9",
   "metadata": {},
   "outputs": [],
   "source": [
    "class Teacher():\n",
    "    def __init__(this, teacher_id:int, teacher_name: str) -> None:\n",
    "        this.name : str = teacher_name\n",
    "        this.teacher_id : int = teacher_id\n",
    "        this.organization_name: str = \"PIAIC\"\n",
    "\n",
    "    def speak(this, words : str ) -> None:\n",
    "        print(f\"{this.name} is speaking {words}\")\n",
    "\n",
    "    def teaching(this, subject: str ) -> None:\n",
    "        print(f\"{this.name} is teaching {subject}...!\")\n",
    "\n",
    "obj1: Teacher = Teacher(1, \"Sir Zia Khan\")\n",
    "obj2: Teacher = Teacher(1, \"Sir Qasim\")"
   ]
  },
  {
   "cell_type": "markdown",
   "id": "e64433c0",
   "metadata": {},
   "source": [
    "# Class Variable\n",
    "\n",
    "* Class Variable\n",
    "* this value use for all objects\n",
    "    * `ClassName.class_varible`\n",
    "    * `object_name.class_variable`\n",
    "```\n",
    "class ClassName():\n",
    "    class_variable1 : type = value\n",
    "```"
   ]
  },
  {
   "cell_type": "code",
   "execution_count": 86,
   "id": "04ab7641",
   "metadata": {},
   "outputs": [
    {
     "name": "stdout",
     "output_type": "stream",
     "text": [
      "1 1\n"
     ]
    }
   ],
   "source": [
    "class Teacher():\n",
    "    counter : int = 0 # Class variable 1\n",
    "    help_line_number: str = \"0341-3739780\" # Class variable 2\n",
    "\n",
    "\n",
    "    def __init__(self, teacher_id:int, teacher_name: str) -> None:\n",
    "        self.name : str = teacher_name\n",
    "        self.teacher_id : int = teacher_id\n",
    "        self.organization_name: str = \"PIAIC\"     \n",
    "        Teacher.counter += 1   \n",
    "\n",
    "    def speak(self, words : str ) -> None:\n",
    "        print(f\"{self.name} is speaking {words}\")\n",
    "\n",
    "    def teaching(self, subject: str ) -> None:\n",
    "        print(f\"{self.name} is teaching {subject}...!\")\n",
    "\n",
    "    def details(self) -> None:\n",
    "        information: str = f\"\"\"\n",
    "Teacher name is {self.name} \n",
    "our help number is {Teacher.help_line_number}\n",
    "\"\"\"\n",
    "\n",
    "        print(information)\n",
    "\n",
    "obj1: Teacher = Teacher(1, \"Sir Hamza ALvi\")\n",
    "\n",
    "print(Teacher.counter, obj1.counter)"
   ]
  },
  {
   "cell_type": "code",
   "execution_count": 88,
   "id": "38eac507",
   "metadata": {},
   "outputs": [
    {
     "name": "stdout",
     "output_type": "stream",
     "text": [
      "3 3\n"
     ]
    }
   ],
   "source": [
    "obj2: Teacher = Teacher(2, \"Sir Ameen Alam\")\n",
    "print(Teacher.counter, obj1.counter)"
   ]
  },
  {
   "cell_type": "code",
   "execution_count": 89,
   "id": "9dcf9404",
   "metadata": {},
   "outputs": [
    {
     "name": "stdout",
     "output_type": "stream",
     "text": [
      "3\n",
      "3\n",
      "3\n",
      "0341-3739780\n",
      "0341-3739780\n",
      "0341-3739780\n"
     ]
    }
   ],
   "source": [
    "print(obj1.counter)\n",
    "print(obj2.counter)\n",
    "print(Teacher.counter)\n",
    "\n",
    "print(obj1.help_line_number)\n",
    "print(obj2.help_line_number)\n",
    "print(Teacher.help_line_number)"
   ]
  },
  {
   "cell_type": "code",
   "execution_count": 80,
   "id": "efe37b97",
   "metadata": {},
   "outputs": [
    {
     "name": "stdout",
     "output_type": "stream",
     "text": [
      "\n",
      "Teacher name is Sir Hamza ALvi \n",
      "our help number is 0341-3739780\n",
      "\n",
      "\n",
      "Teacher name is Sir Ameen Alam \n",
      "our help number is 0341-3739780\n",
      "\n"
     ]
    }
   ],
   "source": [
    "obj1.details()\n",
    "obj2.details()"
   ]
  },
  {
   "cell_type": "markdown",
   "id": "28c00427",
   "metadata": {},
   "source": [
    "## 3.Inheritance :\n",
    "\n",
    "```\n",
    "class ChildClass(ParentClass)\n",
    "    pass\n",
    "```"
   ]
  },
  {
   "cell_type": "code",
   "execution_count": 9,
   "id": "49fbee4d",
   "metadata": {},
   "outputs": [
    {
     "name": "stdout",
     "output_type": "stream",
     "text": [
      "Brown\n",
      "Black\n",
      "Parent method speak: Pakistan Zinda bad!\n",
      "You are looking TV!\n",
      "============Child Object============\n",
      "You are looking Cenima!\n",
      "None\n",
      "Parent method speak: Hello World\n",
      "None\n",
      "Brown\n",
      "Black\n"
     ]
    }
   ],
   "source": [
    "class Parents:\n",
    "    def __init__(self) -> None:\n",
    "        self.eye_color: str = \"Brown\"\n",
    "        self.hair_color = \"Black\"\n",
    "\n",
    "    def speak(self, words: str):\n",
    "        print(f\"Parent method speak: {words}\")\n",
    "\n",
    "    def watching(self, object_name):\n",
    "        print(f\"You are looking {object_name}!\")\n",
    "\n",
    "class Child(Parents):\n",
    "    pass\n",
    "\n",
    "obj1: Parents = Parents()\n",
    "print(obj1.eye_color)\n",
    "print(obj1.hair_color)\n",
    "obj1.speak(\"Pakistan Zinda bad!\")\n",
    "obj1.watching(\"TV\")\n",
    "\n",
    "print(\"============Child Object============\")\n",
    "# Child object\n",
    "\n",
    "obj2: Child = Child()\n",
    "print(obj2.watching(\"Cenima\"))\n",
    "print(obj2.speak(\"Hello World\"))\n",
    "print(obj2.eye_color)\n",
    "print(obj2.hair_color)"
   ]
  },
  {
   "cell_type": "code",
   "execution_count": 10,
   "id": "c86298c6",
   "metadata": {},
   "outputs": [
    {
     "name": "stdout",
     "output_type": "stream",
     "text": [
      "Brown\n",
      "Black\n",
      "Parent method speak: Pakistan Zinda bad!\n",
      "You are looking TV!\n",
      "============Child Object============\n",
      "You are looking Cenima!\n",
      "None\n",
      "Parent method speak: Hello World\n",
      "None\n",
      "Brown\n",
      "Black\n",
      "Child method for teaching : Generative AI\n"
     ]
    }
   ],
   "source": [
    "class Parents:\n",
    "    def __init__(self) -> None:\n",
    "        self.eye_color: str = \"Brown\"\n",
    "        self.hair_color = \"Black\"\n",
    "\n",
    "    def speak(self, words: str):\n",
    "        print(f\"Parent method speak: {words}\")\n",
    "\n",
    "    def watching(self, object_name):\n",
    "        print(f\"You are looking {object_name}!\")\n",
    "\n",
    "class Child(Parents):\n",
    "    def teaching(self, subject : str = None)-> None:\n",
    "        print(f'Child method for teaching : {subject}')\n",
    "\n",
    "\n",
    "\n",
    "obj1: Parents = Parents()\n",
    "print(obj1.eye_color)\n",
    "print(obj1.hair_color)\n",
    "obj1.speak(\"Pakistan Zinda bad!\")\n",
    "obj1.watching(\"TV\")\n",
    "\n",
    "print(\"============Child Object============\")\n",
    "# Child object\n",
    "\n",
    "obj2: Child = Child()\n",
    "print(obj2.watching(\"Cenima\"))\n",
    "print(obj2.speak(\"Hello World\"))\n",
    "print(obj2.eye_color)\n",
    "print(obj2.hair_color)\n",
    "obj2.teaching(\"Generative AI\")"
   ]
  },
  {
   "cell_type": "code",
   "execution_count": null,
   "id": "5f224b11",
   "metadata": {},
   "outputs": [],
   "source": [
    "class Employee():\n",
    "    def __init__(self) -> None:\n",
    "        self.name : str = \"\" \n",
    "        self.education : str = \"\"\n",
    "        self.department : str = \"\"\n",
    "\n",
    "\n",
    "class Designer(Employee):\n",
    "    def __init__(self, title) -> None:\n",
    "        super().__init__()\n",
    "        self.title = title\n",
    "\n",
    "\n",
    "class Developers(Employee) :\n",
    "    def __init__(self, title) -> None:\n",
    "        super().__init__()\n",
    "        self.programming : list[str] = []\n",
    "        self.title: str = title\n",
    "\n",
    "designer1: Designer = Designer(\"Animation Artist\")\n",
    "\n",
    "dev1: Developers = Developers(\"GenAI Engineer\")\n",
    "\n",
    "print(designer1.department, designer1.education)"
   ]
  },
  {
   "cell_type": "code",
   "execution_count": null,
   "id": "b5f7c70a",
   "metadata": {},
   "outputs": [],
   "source": []
  },
  {
   "cell_type": "markdown",
   "id": "3409de35",
   "metadata": {},
   "source": [
    "## 1.Encapsulation :\n",
    "\n",
    "Wrapping data and code into a single unit and restricting access.\n",
    "\n",
    "## 2.Abstraction :\n",
    "\n",
    "Hiding complex details and showing only essential features.\n",
    "\n",
    "## 3.Inheritance :\n",
    "\n",
    "One class inherits properties and behaviors from another.\n",
    "\n",
    "## 4.Polymorphism : \n",
    "\n",
    "Same method behaves differently based on the object (e.g., override).\n",
    "\n"
   ]
  },
  {
   "cell_type": "code",
   "execution_count": null,
   "id": "678be12c",
   "metadata": {},
   "outputs": [],
   "source": []
  },
  {
   "cell_type": "code",
   "execution_count": null,
   "id": "bc22479a",
   "metadata": {},
   "outputs": [],
   "source": []
  },
  {
   "cell_type": "code",
   "execution_count": null,
   "id": "1100e4eb",
   "metadata": {},
   "outputs": [],
   "source": []
  }
 ],
 "metadata": {
  "kernelspec": {
   "display_name": "Python 3",
   "language": "python",
   "name": "python3"
  },
  "language_info": {
   "codemirror_mode": {
    "name": "ipython",
    "version": 3
   },
   "file_extension": ".py",
   "mimetype": "text/x-python",
   "name": "python",
   "nbconvert_exporter": "python",
   "pygments_lexer": "ipython3",
   "version": "3.12.6"
  }
 },
 "nbformat": 4,
 "nbformat_minor": 5
}
