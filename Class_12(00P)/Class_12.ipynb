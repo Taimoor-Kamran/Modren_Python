{
 "cells": [
  {
   "cell_type": "code",
   "execution_count": 1,
   "id": "bbddc180",
   "metadata": {},
   "outputs": [],
   "source": [
    "def obj1_speak():pass\n",
    "def obj2_speak():pass\n",
    "\n",
    "obj1_name:str = \"Sir Zia\"\n",
    "obj2_name:str = \"Sir Qasim\""
   ]
  },
  {
   "cell_type": "markdown",
   "id": "a6001fa4",
   "metadata": {},
   "source": [
    "## OOP (Object Oriented Programming)\n",
    "* Class\n",
    "    * method\n",
    "        * first argument must be additional varibales (self, this, or anything else)\n",
    "    * attribute\n",
    "    * class variables\n",
    "    * constructor\n",
    "        * def ```__init__```\n",
    "\n",
    "## syntax of class\n",
    "\n",
    "```\n",
    "class class_name():\n",
    "    pass\n",
    "```"
   ]
  },
  {
   "cell_type": "code",
   "execution_count": null,
   "id": "2c39b94d",
   "metadata": {},
   "outputs": [],
   "source": []
  }
 ],
 "metadata": {
  "kernelspec": {
   "display_name": "Python 3",
   "language": "python",
   "name": "python3"
  },
  "language_info": {
   "codemirror_mode": {
    "name": "ipython",
    "version": 3
   },
   "file_extension": ".py",
   "mimetype": "text/x-python",
   "name": "python",
   "nbconvert_exporter": "python",
   "pygments_lexer": "ipython3",
   "version": "3.12.6"
  }
 },
 "nbformat": 4,
 "nbformat_minor": 5
}
