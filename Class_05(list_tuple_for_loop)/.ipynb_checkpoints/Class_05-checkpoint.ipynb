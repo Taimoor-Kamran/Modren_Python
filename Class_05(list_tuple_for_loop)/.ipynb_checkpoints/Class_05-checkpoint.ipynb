{
 "cells": [
  {
   "cell_type": "markdown",
   "id": "dcf97335-b193-4cbc-9888-b8c6c7841f4c",
   "metadata": {},
   "source": [
    "# List \n",
    "* Iteration operation with loop\n",
    "* apply any operation on element"
   ]
  },
  {
   "cell_type": "code",
   "execution_count": null,
   "id": "9531d45d-5364-4180-bda0-b99f8a7fde4f",
   "metadata": {},
   "outputs": [],
   "source": [
    "names: list[str] = [\"Sir Zia\", \"Taimoor\", \"Sir Ameen Alam\"]"
   ]
  }
 ],
 "metadata": {
  "kernelspec": {
   "display_name": "Python 3 (ipykernel)",
   "language": "python",
   "name": "python3"
  },
  "language_info": {
   "codemirror_mode": {
    "name": "ipython",
    "version": 3
   },
   "file_extension": ".py",
   "mimetype": "text/x-python",
   "name": "python",
   "nbconvert_exporter": "python",
   "pygments_lexer": "ipython3",
   "version": "3.12.0"
  }
 },
 "nbformat": 4,
 "nbformat_minor": 5
}
