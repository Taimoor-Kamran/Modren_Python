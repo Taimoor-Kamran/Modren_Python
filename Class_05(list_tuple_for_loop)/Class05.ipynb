{
 "cells": [
  {
   "cell_type": "markdown",
   "id": "a74ca69c-206b-4fef-9b27-2bd47dbfaec1",
   "metadata": {},
   "source": [
    "# List\n",
    "* iteration operation with loop\n",
    "* apply any operation on element"
   ]
  },
  {
   "cell_type": "code",
   "execution_count": null,
   "id": "2534563f-be1a-4631-96f8-b748db900966",
   "metadata": {},
   "outputs": [
    {
     "name": "stdout",
     "output_type": "stream",
     "text": [
      "['Sir Zia', 'Sir Ameen Alam', 'Sir Qasim']\n"
     ]
    }
   ],
   "source": [
    "names: list[str] = [\"Sir Zia\", \"Sir Ameen Alam\", \"Sir Qasim\"]\n",
    "print(names)"
   ]
  },
  {
   "cell_type": "code",
   "execution_count": 10,
   "id": "e17c6014-f6dc-4454-832a-065ee08878ad",
   "metadata": {},
   "outputs": [
    {
     "name": "stdout",
     "output_type": "stream",
     "text": [
      "Sir Zia\n",
      "Sir Ameen Alam\n",
      "Sir Qasim\n"
     ]
    }
   ],
   "source": [
    "names: list[str] = [\"Sir Zia\", \"Sir Ameen Alam\", \"Sir Qasim\"]\n",
    "\n",
    "for name in names:\n",
    "    print(name)"
   ]
  },
  {
   "cell_type": "code",
   "execution_count": 11,
   "id": "11a6d1e3-fca0-4264-95f6-24fe45880cd0",
   "metadata": {},
   "outputs": [
    {
     "name": "stdout",
     "output_type": "stream",
     "text": [
      "Sir Zia\n",
      "Sir Ameen Alam\n",
      "Sir Qasim\n"
     ]
    }
   ],
   "source": [
    "names: list[str] = [\"Sir Zia\", \"Sir Ameen Alam\", \"Sir Qasim\"]\n",
    "\n",
    "i: int = 0\n",
    "\n",
    "while i<len(names):\n",
    "    print(names[i])\n",
    "    i += 1\n",
    "    "
   ]
  },
  {
   "cell_type": "code",
   "execution_count": 20,
   "id": "49d9c758-e24c-4efc-9ac3-1d9fa57d9a37",
   "metadata": {},
   "outputs": [
    {
     "name": "stdout",
     "output_type": "stream",
     "text": [
      "Welcome Dear Teacher SIR ZIA\n",
      "Welcome Dear Teacher SIR AMEEN ALAM\n",
      "Welcome Dear Teacher SIR QASIM\n"
     ]
    }
   ],
   "source": [
    "for name in names:\n",
    "    print(f\"Welcome Dear Teacher {name.upper()}\")"
   ]
  },
  {
   "cell_type": "code",
   "execution_count": 23,
   "id": "d952fd94-26e8-4ef6-af3a-360475329c8c",
   "metadata": {},
   "outputs": [
    {
     "name": "stdout",
     "output_type": "stream",
     "text": [
      "Welcome Dear Teacher SIR ZIA\n",
      "PIAIC GENERATIVE AI TEAM\n",
      "Welcome Dear Teacher SIR AMEEN ALAM\n",
      "PIAIC GENERATIVE AI TEAM\n",
      "Welcome Dear Teacher SIR QASIM\n",
      "PIAIC GENERATIVE AI TEAM\n"
     ]
    }
   ],
   "source": [
    "for name in names:\n",
    "    print(f\"Welcome Dear Teacher {name.upper()}\")\n",
    "    print(\"PIAIC GENERATIVE AI TEAM\")"
   ]
  },
  {
   "cell_type": "code",
   "execution_count": 31,
   "id": "1c50fa5c-cf33-45ec-a645-e2e8af79ad48",
   "metadata": {},
   "outputs": [
    {
     "name": "stdout",
     "output_type": "stream",
     "text": [
      "Welcome Dear Teacher SIR ZIA\n",
      "PIAIC GENERATIVE AI TEAM\n",
      "\n",
      "Welcome Dear Teacher SIR AMEEN ALAM\n",
      "PIAIC GENERATIVE AI TEAM\n",
      "\n",
      "Welcome Dear Teacher SIR QASIM\n",
      "PIAIC GENERATIVE AI TEAM\n",
      "\n",
      "Pakistan Zinda bad\n"
     ]
    }
   ],
   "source": [
    "names: list[str] = [\"Sir Zia\", \"Sir Ameen Alam\", \"Sir Qasim\"]\n",
    "\n",
    "for name in names:\n",
    "    print(f\"Welcome Dear Teacher {name.upper()}\")\n",
    "    print(\"PIAIC GENERATIVE AI TEAM\\n\")\n",
    "\n",
    "print(\"Pakistan Zinda bad\")"
   ]
  },
  {
   "cell_type": "code",
   "execution_count": 34,
   "id": "1a24fca9-6fd7-44cb-9569-01140ba11b89",
   "metadata": {},
   "outputs": [
    {
     "name": "stdout",
     "output_type": "stream",
     "text": [
      "Welcome Dear Teacher SIR AMEEN ALAM\n",
      "PIAIC GENERATIVE AI TEAM\n",
      "\n",
      "Welcome Dear Teacher SIR QASIM\n",
      "PIAIC GENERATIVE AI TEAM\n",
      "\n",
      "Pakistan Zinda bad\n"
     ]
    }
   ],
   "source": [
    "names: list[str] = [\"Sir Zia\", \"Sir Ameen Alam\", \"Sir Qasim\"]\n",
    "\n",
    "for name in names[-2:]:\n",
    "    print(f\"Welcome Dear Teacher {name.upper()}\")\n",
    "    print(\"PIAIC GENERATIVE AI TEAM\\n\")\n",
    "\n",
    "print(\"Pakistan Zinda bad\")"
   ]
  },
  {
   "cell_type": "code",
   "execution_count": 35,
   "id": "bbae14ee-3a32-440a-a04c-bda44c13b0a7",
   "metadata": {},
   "outputs": [
    {
     "name": "stdout",
     "output_type": "stream",
     "text": [
      "('Taimoor', '123')\n",
      "('Sir Zia', '345')\n",
      "('Sir Ameen Alam', '978')\n"
     ]
    }
   ],
   "source": [
    "data_base : list[tuple] = [(\"Taimoor\", '123'),\n",
    "                           (\"Sir Zia\", \"345\"),\n",
    "                           (\"Sir Ameen Alam\", \"978\")]\n",
    "\n",
    "for row in data_base:\n",
    "    print(row)\n"
   ]
  },
  {
   "cell_type": "code",
   "execution_count": 38,
   "id": "e025cd69-9d54-4115-917d-97a9bd823328",
   "metadata": {},
   "outputs": [
    {
     "name": "stdout",
     "output_type": "stream",
     "text": [
      "Taimoor 123\n",
      "Sir Zia 345\n",
      "Sir Ameen Alam 978\n"
     ]
    }
   ],
   "source": [
    "data_base : list[tuple] = [(\"Taimoor\", '123'),\n",
    "                           (\"Sir Zia\", \"345\"),\n",
    "                           (\"Sir Ameen Alam\", \"978\")]\n",
    "\n",
    "for row in data_base:\n",
    "    user, password = row\n",
    "    print(user, password)\n"
   ]
  },
  {
   "cell_type": "code",
   "execution_count": 39,
   "id": "afd5801b-424b-4071-b6ae-ba30ac590398",
   "metadata": {},
   "outputs": [
    {
     "name": "stdout",
     "output_type": "stream",
     "text": [
      "Enter user name Taimoor Kamran Pakistan Zindabad \n"
     ]
    },
    {
     "name": "stdout",
     "output_type": "stream",
     "text": [
      "Taimoor Kamran Pakistan Zindabad \n"
     ]
    }
   ],
   "source": [
    "input_user: str = input(\"Enter user name\")\n",
    "print(input_user)"
   ]
  },
  {
   "cell_type": "code",
   "execution_count": 50,
   "id": "2467fc40-066a-4ed8-b5fd-081e08151cf0",
   "metadata": {},
   "outputs": [
    {
     "name": "stdout",
     "output_type": "stream",
     "text": [
      "Enter user name taimoor\n",
      "Enter user password 123\n"
     ]
    },
    {
     "name": "stdout",
     "output_type": "stream",
     "text": [
      "Valid User\n"
     ]
    }
   ],
   "source": [
    "data_base: list[tuple[str, str]] = [(\"taimoor\", '123'),\n",
    "                                   (\"sirzia\", '345'),\n",
    "                                   (\"ameenbhai\", '678')]\n",
    "\n",
    "input_user: str = input(\"Enter user name\")\n",
    "input_password: str = input(\"Enter user password\")\n",
    "\n",
    "for row in data_base:\n",
    "    user, password = row\n",
    "    if input_user == user and input_password == password:\n",
    "        print(\"Valid User\")\n",
    "        break\n",
    "else:\n",
    "    print(\"Not Found or invalid input\")"
   ]
  },
  {
   "cell_type": "code",
   "execution_count": 52,
   "id": "924be261-3a3d-44fe-af0d-c1ccd8a40081",
   "metadata": {},
   "outputs": [
    {
     "name": "stdout",
     "output_type": "stream",
     "text": [
      "Enter user name taimoor\n",
      "Enter user password 123\n",
      "Enter user id 1\n"
     ]
    },
    {
     "name": "stdout",
     "output_type": "stream",
     "text": [
      "Not Found or invalid input\n"
     ]
    }
   ],
   "source": [
    "data_base: list[tuple[str, str, int]] = [(\"taimoor\", '123', 1),\n",
    "                                   (\"sirzia\", '345', 2),\n",
    "                                   (\"ameenbhai\", '678', 3)]\n",
    "\n",
    "input_user: str = input(\"Enter user name\")\n",
    "input_password: str = input(\"Enter user password\")\n",
    "input_id: int = input(\"Enter user id\")\n",
    "\n",
    "for row in data_base:\n",
    "    user, password, id = row\n",
    "    if input_user == user and input_password == password and input_id == id:\n",
    "        print(\"Valid User\")\n",
    "        break\n",
    "else:\n",
    "    print(\"Not Found or invalid input\")"
   ]
  },
  {
   "cell_type": "code",
   "execution_count": 2,
   "id": "30542f06-23e9-48b8-8cd6-e968246629d0",
   "metadata": {},
   "outputs": [
    {
     "name": "stdin",
     "output_type": "stream",
     "text": [
      "Enter user name:  taimoor\n",
      "Enter user password:  123\n",
      "Enter user id:  1\n"
     ]
    },
    {
     "name": "stdout",
     "output_type": "stream",
     "text": [
      "Valid User\n"
     ]
    }
   ],
   "source": [
    "# Define the database\n",
    "data_base: list[tuple[str, str, int]] = [\n",
    "    (\"taimoor\", '123', 1),\n",
    "    (\"sirzia\", '345', 2),\n",
    "    (\"ameenbhai\", '678', 3)\n",
    "]\n",
    "\n",
    "# Take user input\n",
    "input_user: str = input(\"Enter user name: \")\n",
    "input_password: str = input(\"Enter user password: \")\n",
    "input_id: int = int(input(\"Enter user id: \"))  # Convert to int\n",
    "\n",
    "# Check credentials\n",
    "for row in data_base:\n",
    "    user, password, id = row\n",
    "    if input_user == user and input_password == password and input_id == id:\n",
    "        print(\"Valid User\")\n",
    "        break\n",
    "else:\n",
    "    print(\"Not Found or Invalid Input\")\n"
   ]
  },
  {
   "cell_type": "code",
   "execution_count": 4,
   "id": "cf5c95cd-efc2-4d9c-8544-99b4743d5582",
   "metadata": {},
   "outputs": [
    {
     "name": "stdout",
     "output_type": "stream",
     "text": [
      "Sir Zia\n",
      "Sir Ameen Alam\n",
      "Sir Qasim\n",
      "Hello World\n"
     ]
    }
   ],
   "source": [
    "names: list[str] = [\"Sir Zia\", \"Sir Ameen Alam\", \"Sir Qasim\"]\n",
    "\n",
    "for name in names:\n",
    "    print(name)\n",
    "else: \n",
    "    print(\"Hello World\")"
   ]
  },
  {
   "cell_type": "code",
   "execution_count": 8,
   "id": "06ff9755-7c78-430f-bf41-0dfa64b2aa24",
   "metadata": {},
   "outputs": [
    {
     "name": "stdout",
     "output_type": "stream",
     "text": [
      "Alice, thats was a great trick\n",
      "David, thats was a great trick\n",
      "Carolina, thats was a great trick\n",
      "I can't wait to see your next trick, Carolina.\n",
      "\n"
     ]
    }
   ],
   "source": [
    "magicians: list[str] = [\"alice\", \"david\", \"carolina\"]\n",
    "\n",
    "for magician in magicians:\n",
    "    print(f\"{magician.title()}, thats was a great trick\")\n",
    "\n",
    "print(f\"I can't wait to see your next trick, {magician.title()}.\\n\")"
   ]
  },
  {
   "cell_type": "markdown",
   "id": "2d81de0c-cc60-48f8-9917-3bc651de135f",
   "metadata": {},
   "source": [
    "# Numbers with loop\n",
    "* `range(start,end,step)`"
   ]
  },
  {
   "cell_type": "code",
   "execution_count": 2,
   "id": "f818e71e-ed79-4cd3-9f4b-e017e00c6a88",
   "metadata": {},
   "outputs": [
    {
     "data": {
      "text/plain": [
       "range(0, 10)"
      ]
     },
     "execution_count": 2,
     "metadata": {},
     "output_type": "execute_result"
    }
   ],
   "source": [
    "range(10)"
   ]
  },
  {
   "cell_type": "code",
   "execution_count": 4,
   "id": "67f8de5e-8ce6-450b-b10a-6f8db6d8f4d0",
   "metadata": {},
   "outputs": [
    {
     "data": {
      "text/plain": [
       "[0, 1, 2, 3, 4, 5, 6, 7, 8, 9, 10, 11]"
      ]
     },
     "execution_count": 4,
     "metadata": {},
     "output_type": "execute_result"
    }
   ],
   "source": [
    "list(range(12))"
   ]
  },
  {
   "cell_type": "code",
   "execution_count": 16,
   "id": "ec0d255d-b5d1-4af1-809c-c314427a45ab",
   "metadata": {},
   "outputs": [
    {
     "data": {
      "text/plain": [
       "[2, 4, 6, 8, 10, 12, 14, 16, 18, 20]"
      ]
     },
     "execution_count": 16,
     "metadata": {},
     "output_type": "execute_result"
    }
   ],
   "source": [
    "list(range(2,22,2))"
   ]
  },
  {
   "cell_type": "code",
   "execution_count": 8,
   "id": "44de7c5f-6431-453d-8046-01553b0ec816",
   "metadata": {},
   "outputs": [
    {
     "name": "stdout",
     "output_type": "stream",
     "text": [
      "2\n",
      "4\n",
      "6\n",
      "8\n",
      "10\n",
      "12\n",
      "14\n",
      "16\n",
      "18\n",
      "20\n"
     ]
    }
   ],
   "source": [
    "for n in range(2, 21, 2):\n",
    "    print(n)"
   ]
  },
  {
   "cell_type": "code",
   "execution_count": 11,
   "id": "4969952f-c82a-4108-a09e-2d6246c1fc81",
   "metadata": {},
   "outputs": [
    {
     "name": "stdout",
     "output_type": "stream",
     "text": [
      "1 * 1 = 1\n",
      "1 * 2 = 2\n",
      "1 * 3 = 3\n",
      "1 * 4 = 4\n",
      "1 * 5 = 5\n",
      "1 * 6 = 6\n",
      "1 * 7 = 7\n",
      "1 * 8 = 8\n",
      "1 * 9 = 9\n",
      "1 * 10 = 10\n"
     ]
    }
   ],
   "source": [
    "for n in range(1, 11):\n",
    "    print(f\"1 * {n} = {n}\")\n"
   ]
  },
  {
   "cell_type": "code",
   "execution_count": 18,
   "id": "478cdd24-bb62-49d1-a182-5aad9988a7fc",
   "metadata": {},
   "outputs": [
    {
     "name": "stdout",
     "output_type": "stream",
     "text": [
      "[1, 4, 9, 16, 25, 36, 49, 64, 81]\n"
     ]
    }
   ],
   "source": [
    "squares: list[int] = []\n",
    "for value in range(1, 10):\n",
    "    sqaure = value ** 2\n",
    "    squares.append(sqaure)\n",
    "print(squares)"
   ]
  },
  {
   "cell_type": "markdown",
   "id": "d7940396-6a29-40c9-8935-9737ad3c5b47",
   "metadata": {},
   "source": [
    "# List Coprehansive\n",
    "```\n",
    "for item in items_list:\n",
    "    loop_body\n",
    "```\n",
    "\n",
    "# Coprehansive Style\n",
    "```\n",
    "[loop_bodyfor item in items_list:]\n",
    "   \n",
    "```\n"
   ]
  },
  {
   "cell_type": "code",
   "execution_count": 26,
   "id": "13f4a08b-89a3-4c84-9542-c360cf9145f4",
   "metadata": {},
   "outputs": [
    {
     "data": {
      "text/plain": [
       "[1, 2, 3, 4, 5, 6, 7, 8, 9, 10]"
      ]
     },
     "execution_count": 26,
     "metadata": {},
     "output_type": "execute_result"
    }
   ],
   "source": [
    "list(range(1, 11))"
   ]
  },
  {
   "cell_type": "code",
   "execution_count": 36,
   "id": "aa05a638-9a6f-438d-9051-2238e8defc7e",
   "metadata": {},
   "outputs": [
    {
     "data": {
      "text/plain": [
       "[1, 4, 9, 16, 25, 36, 49, 64, 81, 100]"
      ]
     },
     "execution_count": 36,
     "metadata": {},
     "output_type": "execute_result"
    }
   ],
   "source": [
    "[i**2 for i in range(1, 11)]\n"
   ]
  },
  {
   "cell_type": "code",
   "execution_count": 50,
   "id": "e392090a-adcd-411b-ac03-c921136cf018",
   "metadata": {},
   "outputs": [
    {
     "name": "stdout",
     "output_type": "stream",
     "text": [
      "[1, 2, 3, 4, 5, 6, 7, 8, 9]\n",
      "9\n",
      "1\n",
      "45\n"
     ]
    }
   ],
   "source": [
    "digits: list[int] = [1,2,3,4,5,6,7,8,9]\n",
    "\n",
    "print(digits)\n",
    "print(max(digits))\n",
    "print(min(digits))\n",
    "print(sum(digits))"
   ]
  },
  {
   "cell_type": "code",
   "execution_count": 54,
   "id": "cba8471b-bc6b-4324-a798-b5aa2200e546",
   "metadata": {},
   "outputs": [
    {
     "name": "stdout",
     "output_type": "stream",
     "text": [
      "['Pizza', 'falafel', 'carrot cake']\n",
      "['Pizza', 'falafel', 'carrot cake']\n",
      "['Pizza', 'falafel', 'carrot cake']\n",
      "['Tikka', 'falafel', 'carrot cake']\n"
     ]
    }
   ],
   "source": [
    "my_foods: list[str] = [\"Pizza\", \"falafel\", \"carrot cake\"]\n",
    "friends_food = my_foods[:]\n",
    "\n",
    "print(my_foods)\n",
    "print(friends_food)\n",
    "\n",
    "friends_food[0] = \"Tikka\"\n",
    "\n",
    "print(my_foods)\n",
    "print(friends_food)"
   ]
  },
  {
   "cell_type": "markdown",
   "id": "c1b1fac1-cad5-4840-b7ec-965f1f14c0b2",
   "metadata": {},
   "source": [
    "# Tuples"
   ]
  },
  {
   "cell_type": "code",
   "execution_count": 62,
   "id": "4d3f4345-0a0b-41a8-be86-823f1f983c68",
   "metadata": {},
   "outputs": [
    {
     "name": "stdout",
     "output_type": "stream",
     "text": [
      "A\n",
      "['A', 'B']\n"
     ]
    }
   ],
   "source": [
    "names: tuple[str,str] = ['A', \"B\", 'c']\n",
    "\n",
    "print(names[0])\n",
    "print(names[0:2])"
   ]
  },
  {
   "cell_type": "code",
   "execution_count": 6,
   "id": "7decd137-5b57-4142-a455-3970f5a53d58",
   "metadata": {},
   "outputs": [
    {
     "name": "stdout",
     "output_type": "stream",
     "text": [
      "['A', 'B', 'c']\n",
      "['Pakistan', 'B', 'c']\n"
     ]
    }
   ],
   "source": [
    "names: tuple[str,str] = ['A', \"B\", 'c']\n",
    "\n",
    "print(names)\n",
    "names[0] = \"Pakistan\"\n",
    "\n",
    "\n",
    "print(names)\n"
   ]
  },
  {
   "cell_type": "code",
   "execution_count": 18,
   "id": "c39c3199-731c-45f9-a9a6-a69e099b6661",
   "metadata": {},
   "outputs": [
    {
     "name": "stdout",
     "output_type": "stream",
     "text": [
      "[1, 2, 3]\n",
      "['A', [1, 2, 3, 20], True]\n"
     ]
    }
   ],
   "source": [
    "from typing import Any\n",
    "\n",
    "data: tuple[Any] = [\"A\", [1,2,3], True]\n",
    "\n",
    "print(data[1])\n",
    "data[1].append(20)\n",
    "print(data)"
   ]
  },
  {
   "cell_type": "code",
   "execution_count": 24,
   "id": "8c108fd9-e882-4184-8bc1-9447356916b4",
   "metadata": {},
   "outputs": [
    {
     "name": "stdin",
     "output_type": "stream",
     "text": [
      "Taimoor 123\n"
     ]
    },
    {
     "name": "stdout",
     "output_type": "stream",
     "text": [
      "<class 'str'>\n",
      "123\n"
     ]
    }
   ],
   "source": [
    "a = input(\"Taimoor\") # String Return \n",
    "print(type(a))\n",
    "print(a)"
   ]
  },
  {
   "cell_type": "code",
   "execution_count": 30,
   "id": "7885f6cb-b4e7-4140-a247-f04ff578820d",
   "metadata": {},
   "outputs": [
    {
     "data": {
      "text/plain": [
       "[1, 3, 4, 5, 7, 8]"
      ]
     },
     "execution_count": 30,
     "metadata": {},
     "output_type": "execute_result"
    }
   ],
   "source": [
    "sorted([1,5,4,3,7,8])"
   ]
  },
  {
   "cell_type": "code",
   "execution_count": null,
   "id": "222ac809-aae6-48f3-9803-3bf26d38f8bb",
   "metadata": {},
   "outputs": [],
   "source": []
  }
 ],
 "metadata": {
  "kernelspec": {
   "display_name": "Python 3 (ipykernel)",
   "language": "python",
   "name": "python3"
  },
  "language_info": {
   "codemirror_mode": {
    "name": "ipython",
    "version": 3
   },
   "file_extension": ".py",
   "mimetype": "text/x-python",
   "name": "python",
   "nbconvert_exporter": "python",
   "pygments_lexer": "ipython3",
   "version": "3.12.7"
  }
 },
 "nbformat": 4,
 "nbformat_minor": 5
}
