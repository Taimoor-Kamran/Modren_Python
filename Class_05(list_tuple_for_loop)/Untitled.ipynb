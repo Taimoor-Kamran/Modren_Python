{
 "cells": [
  {
   "cell_type": "markdown",
   "id": "a74ca69c-206b-4fef-9b27-2bd47dbfaec1",
   "metadata": {},
   "source": [
    "# List\n",
    "* iteration operation with loop\n",
    "* apply any operation on element"
   ]
  },
  {
   "cell_type": "code",
   "execution_count": null,
   "id": "2534563f-be1a-4631-96f8-b748db900966",
   "metadata": {},
   "outputs": [
    {
     "name": "stdout",
     "output_type": "stream",
     "text": [
      "['Sir Zia', 'Sir Ameen Alam', 'Sir Qasim']\n"
     ]
    }
   ],
   "source": [
    "names: list[str] = [\"Sir Zia\", \"Sir Ameen Alam\", \"Sir Qasim\"]\n",
    "print(names)"
   ]
  },
  {
   "cell_type": "code",
   "execution_count": 10,
   "id": "e17c6014-f6dc-4454-832a-065ee08878ad",
   "metadata": {},
   "outputs": [
    {
     "name": "stdout",
     "output_type": "stream",
     "text": [
      "Sir Zia\n",
      "Sir Ameen Alam\n",
      "Sir Qasim\n"
     ]
    }
   ],
   "source": [
    "names: list[str] = [\"Sir Zia\", \"Sir Ameen Alam\", \"Sir Qasim\"]\n",
    "\n",
    "for name in names:\n",
    "    print(name)"
   ]
  },
  {
   "cell_type": "code",
   "execution_count": 11,
   "id": "11a6d1e3-fca0-4264-95f6-24fe45880cd0",
   "metadata": {},
   "outputs": [
    {
     "name": "stdout",
     "output_type": "stream",
     "text": [
      "Sir Zia\n",
      "Sir Ameen Alam\n",
      "Sir Qasim\n"
     ]
    }
   ],
   "source": [
    "names: list[str] = [\"Sir Zia\", \"Sir Ameen Alam\", \"Sir Qasim\"]\n",
    "\n",
    "i: int = 0\n",
    "\n",
    "while i<len(names):\n",
    "    print(names[i])\n",
    "    i += 1\n",
    "    "
   ]
  },
  {
   "cell_type": "code",
   "execution_count": 20,
   "id": "49d9c758-e24c-4efc-9ac3-1d9fa57d9a37",
   "metadata": {},
   "outputs": [
    {
     "name": "stdout",
     "output_type": "stream",
     "text": [
      "Welcome Dear Teacher SIR ZIA\n",
      "Welcome Dear Teacher SIR AMEEN ALAM\n",
      "Welcome Dear Teacher SIR QASIM\n"
     ]
    }
   ],
   "source": [
    "for name in names:\n",
    "    print(f\"Welcome Dear Teacher {name.upper()}\")"
   ]
  },
  {
   "cell_type": "code",
   "execution_count": 23,
   "id": "d952fd94-26e8-4ef6-af3a-360475329c8c",
   "metadata": {},
   "outputs": [
    {
     "name": "stdout",
     "output_type": "stream",
     "text": [
      "Welcome Dear Teacher SIR ZIA\n",
      "PIAIC GENERATIVE AI TEAM\n",
      "Welcome Dear Teacher SIR AMEEN ALAM\n",
      "PIAIC GENERATIVE AI TEAM\n",
      "Welcome Dear Teacher SIR QASIM\n",
      "PIAIC GENERATIVE AI TEAM\n"
     ]
    }
   ],
   "source": [
    "for name in names:\n",
    "    print(f\"Welcome Dear Teacher {name.upper()}\")\n",
    "    print(\"PIAIC GENERATIVE AI TEAM\")"
   ]
  },
  {
   "cell_type": "code",
   "execution_count": 31,
   "id": "1c50fa5c-cf33-45ec-a645-e2e8af79ad48",
   "metadata": {},
   "outputs": [
    {
     "name": "stdout",
     "output_type": "stream",
     "text": [
      "Welcome Dear Teacher SIR ZIA\n",
      "PIAIC GENERATIVE AI TEAM\n",
      "\n",
      "Welcome Dear Teacher SIR AMEEN ALAM\n",
      "PIAIC GENERATIVE AI TEAM\n",
      "\n",
      "Welcome Dear Teacher SIR QASIM\n",
      "PIAIC GENERATIVE AI TEAM\n",
      "\n",
      "Pakistan Zinda bad\n"
     ]
    }
   ],
   "source": [
    "names: list[str] = [\"Sir Zia\", \"Sir Ameen Alam\", \"Sir Qasim\"]\n",
    "\n",
    "for name in names:\n",
    "    print(f\"Welcome Dear Teacher {name.upper()}\")\n",
    "    print(\"PIAIC GENERATIVE AI TEAM\\n\")\n",
    "\n",
    "print(\"Pakistan Zinda bad\")"
   ]
  },
  {
   "cell_type": "code",
   "execution_count": 34,
   "id": "1a24fca9-6fd7-44cb-9569-01140ba11b89",
   "metadata": {},
   "outputs": [
    {
     "name": "stdout",
     "output_type": "stream",
     "text": [
      "Welcome Dear Teacher SIR AMEEN ALAM\n",
      "PIAIC GENERATIVE AI TEAM\n",
      "\n",
      "Welcome Dear Teacher SIR QASIM\n",
      "PIAIC GENERATIVE AI TEAM\n",
      "\n",
      "Pakistan Zinda bad\n"
     ]
    }
   ],
   "source": [
    "names: list[str] = [\"Sir Zia\", \"Sir Ameen Alam\", \"Sir Qasim\"]\n",
    "\n",
    "for name in names[-2:]:\n",
    "    print(f\"Welcome Dear Teacher {name.upper()}\")\n",
    "    print(\"PIAIC GENERATIVE AI TEAM\\n\")\n",
    "\n",
    "print(\"Pakistan Zinda bad\")"
   ]
  },
  {
   "cell_type": "code",
   "execution_count": 35,
   "id": "bbae14ee-3a32-440a-a04c-bda44c13b0a7",
   "metadata": {},
   "outputs": [
    {
     "name": "stdout",
     "output_type": "stream",
     "text": [
      "('Taimoor', '123')\n",
      "('Sir Zia', '345')\n",
      "('Sir Ameen Alam', '978')\n"
     ]
    }
   ],
   "source": [
    "data_base : list[tuple] = [(\"Taimoor\", '123'),\n",
    "                           (\"Sir Zia\", \"345\"),\n",
    "                           (\"Sir Ameen Alam\", \"978\")]\n",
    "\n",
    "for row in data_base:\n",
    "    print(row)\n"
   ]
  }
 ],
 "metadata": {
  "kernelspec": {
   "display_name": "Python 3 (ipykernel)",
   "language": "python",
   "name": "python3"
  },
  "language_info": {
   "codemirror_mode": {
    "name": "ipython",
    "version": 3
   },
   "file_extension": ".py",
   "mimetype": "text/x-python",
   "name": "python",
   "nbconvert_exporter": "python",
   "pygments_lexer": "ipython3",
   "version": "3.12.0"
  }
 },
 "nbformat": 4,
 "nbformat_minor": 5
}
