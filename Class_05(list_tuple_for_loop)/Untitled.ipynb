{
 "cells": [
  {
   "cell_type": "markdown",
   "id": "a74ca69c-206b-4fef-9b27-2bd47dbfaec1",
   "metadata": {},
   "source": [
    "# List\n",
    "* iteration operation with loop\n",
    "* apply any operation on element"
   ]
  },
  {
   "cell_type": "code",
   "execution_count": null,
   "id": "2534563f-be1a-4631-96f8-b748db900966",
   "metadata": {},
   "outputs": [
    {
     "name": "stdout",
     "output_type": "stream",
     "text": [
      "['Sir Zia', 'Sir Ameen Alam', 'Sir Qasim']\n"
     ]
    }
   ],
   "source": [
    "names: list[str] = [\"Sir Zia\", \"Sir Ameen Alam\", \"Sir Qasim\"]\n",
    "print(names)"
   ]
  },
  {
   "cell_type": "code",
   "execution_count": 10,
   "id": "e17c6014-f6dc-4454-832a-065ee08878ad",
   "metadata": {},
   "outputs": [
    {
     "name": "stdout",
     "output_type": "stream",
     "text": [
      "Sir Zia\n",
      "Sir Ameen Alam\n",
      "Sir Qasim\n"
     ]
    }
   ],
   "source": [
    "names: list[str] = [\"Sir Zia\", \"Sir Ameen Alam\", \"Sir Qasim\"]\n",
    "\n",
    "for name in names:\n",
    "    print(name)"
   ]
  },
  {
   "cell_type": "code",
   "execution_count": 11,
   "id": "11a6d1e3-fca0-4264-95f6-24fe45880cd0",
   "metadata": {},
   "outputs": [
    {
     "name": "stdout",
     "output_type": "stream",
     "text": [
      "Sir Zia\n",
      "Sir Ameen Alam\n",
      "Sir Qasim\n"
     ]
    }
   ],
   "source": [
    "names: list[str] = [\"Sir Zia\", \"Sir Ameen Alam\", \"Sir Qasim\"]\n",
    "\n",
    "i: int = 0\n",
    "\n",
    "while i<len(names):\n",
    "    print(names[i])\n",
    "    i += 1\n",
    "    "
   ]
  },
  {
   "cell_type": "code",
   "execution_count": 20,
   "id": "49d9c758-e24c-4efc-9ac3-1d9fa57d9a37",
   "metadata": {},
   "outputs": [
    {
     "name": "stdout",
     "output_type": "stream",
     "text": [
      "Welcome Dear Teacher SIR ZIA\n",
      "Welcome Dear Teacher SIR AMEEN ALAM\n",
      "Welcome Dear Teacher SIR QASIM\n"
     ]
    }
   ],
   "source": [
    "for name in names:\n",
    "    print(f\"Welcome Dear Teacher {name.upper()}\")"
   ]
  },
  {
   "cell_type": "code",
   "execution_count": 23,
   "id": "d952fd94-26e8-4ef6-af3a-360475329c8c",
   "metadata": {},
   "outputs": [
    {
     "name": "stdout",
     "output_type": "stream",
     "text": [
      "Welcome Dear Teacher SIR ZIA\n",
      "PIAIC GENERATIVE AI TEAM\n",
      "Welcome Dear Teacher SIR AMEEN ALAM\n",
      "PIAIC GENERATIVE AI TEAM\n",
      "Welcome Dear Teacher SIR QASIM\n",
      "PIAIC GENERATIVE AI TEAM\n"
     ]
    }
   ],
   "source": [
    "for name in names:\n",
    "    print(f\"Welcome Dear Teacher {name.upper()}\")\n",
    "    print(\"PIAIC GENERATIVE AI TEAM\")"
   ]
  },
  {
   "cell_type": "code",
   "execution_count": 31,
   "id": "1c50fa5c-cf33-45ec-a645-e2e8af79ad48",
   "metadata": {},
   "outputs": [
    {
     "name": "stdout",
     "output_type": "stream",
     "text": [
      "Welcome Dear Teacher SIR ZIA\n",
      "PIAIC GENERATIVE AI TEAM\n",
      "\n",
      "Welcome Dear Teacher SIR AMEEN ALAM\n",
      "PIAIC GENERATIVE AI TEAM\n",
      "\n",
      "Welcome Dear Teacher SIR QASIM\n",
      "PIAIC GENERATIVE AI TEAM\n",
      "\n",
      "Pakistan Zinda bad\n"
     ]
    }
   ],
   "source": [
    "names: list[str] = [\"Sir Zia\", \"Sir Ameen Alam\", \"Sir Qasim\"]\n",
    "\n",
    "for name in names:\n",
    "    print(f\"Welcome Dear Teacher {name.upper()}\")\n",
    "    print(\"PIAIC GENERATIVE AI TEAM\\n\")\n",
    "\n",
    "print(\"Pakistan Zinda bad\")"
   ]
  },
  {
   "cell_type": "code",
   "execution_count": 34,
   "id": "1a24fca9-6fd7-44cb-9569-01140ba11b89",
   "metadata": {},
   "outputs": [
    {
     "name": "stdout",
     "output_type": "stream",
     "text": [
      "Welcome Dear Teacher SIR AMEEN ALAM\n",
      "PIAIC GENERATIVE AI TEAM\n",
      "\n",
      "Welcome Dear Teacher SIR QASIM\n",
      "PIAIC GENERATIVE AI TEAM\n",
      "\n",
      "Pakistan Zinda bad\n"
     ]
    }
   ],
   "source": [
    "names: list[str] = [\"Sir Zia\", \"Sir Ameen Alam\", \"Sir Qasim\"]\n",
    "\n",
    "for name in names[-2:]:\n",
    "    print(f\"Welcome Dear Teacher {name.upper()}\")\n",
    "    print(\"PIAIC GENERATIVE AI TEAM\\n\")\n",
    "\n",
    "print(\"Pakistan Zinda bad\")"
   ]
  },
  {
   "cell_type": "code",
   "execution_count": 35,
   "id": "bbae14ee-3a32-440a-a04c-bda44c13b0a7",
   "metadata": {},
   "outputs": [
    {
     "name": "stdout",
     "output_type": "stream",
     "text": [
      "('Taimoor', '123')\n",
      "('Sir Zia', '345')\n",
      "('Sir Ameen Alam', '978')\n"
     ]
    }
   ],
   "source": [
    "data_base : list[tuple] = [(\"Taimoor\", '123'),\n",
    "                           (\"Sir Zia\", \"345\"),\n",
    "                           (\"Sir Ameen Alam\", \"978\")]\n",
    "\n",
    "for row in data_base:\n",
    "    print(row)\n"
   ]
  },
  {
   "cell_type": "code",
   "execution_count": 38,
   "id": "e025cd69-9d54-4115-917d-97a9bd823328",
   "metadata": {},
   "outputs": [
    {
     "name": "stdout",
     "output_type": "stream",
     "text": [
      "Taimoor 123\n",
      "Sir Zia 345\n",
      "Sir Ameen Alam 978\n"
     ]
    }
   ],
   "source": [
    "data_base : list[tuple] = [(\"Taimoor\", '123'),\n",
    "                           (\"Sir Zia\", \"345\"),\n",
    "                           (\"Sir Ameen Alam\", \"978\")]\n",
    "\n",
    "for row in data_base:\n",
    "    user, password = row\n",
    "    print(user, password)\n"
   ]
  },
  {
   "cell_type": "code",
   "execution_count": 39,
   "id": "afd5801b-424b-4071-b6ae-ba30ac590398",
   "metadata": {},
   "outputs": [
    {
     "name": "stdout",
     "output_type": "stream",
     "text": [
      "Enter user name Taimoor Kamran Pakistan Zindabad \n"
     ]
    },
    {
     "name": "stdout",
     "output_type": "stream",
     "text": [
      "Taimoor Kamran Pakistan Zindabad \n"
     ]
    }
   ],
   "source": [
    "input_user: str = input(\"Enter user name\")\n",
    "print(input_user)"
   ]
  },
  {
   "cell_type": "code",
   "execution_count": 50,
   "id": "2467fc40-066a-4ed8-b5fd-081e08151cf0",
   "metadata": {},
   "outputs": [
    {
     "name": "stdout",
     "output_type": "stream",
     "text": [
      "Enter user name taimoor\n",
      "Enter user password 123\n"
     ]
    },
    {
     "name": "stdout",
     "output_type": "stream",
     "text": [
      "Valid User\n"
     ]
    }
   ],
   "source": [
    "data_base: list[tuple[str, str]] = [(\"taimoor\", '123'),\n",
    "                                   (\"sirzia\", '345'),\n",
    "                                   (\"ameenbhai\", '678')]\n",
    "\n",
    "input_user: str = input(\"Enter user name\")\n",
    "input_password: str = input(\"Enter user password\")\n",
    "\n",
    "for row in data_base:\n",
    "    user, password = row\n",
    "    if input_user == user and input_password == password:\n",
    "        print(\"Valid User\")\n",
    "        break\n",
    "else:\n",
    "    print(\"Not Found or invalid input\")"
   ]
  },
  {
   "cell_type": "code",
   "execution_count": 52,
   "id": "924be261-3a3d-44fe-af0d-c1ccd8a40081",
   "metadata": {},
   "outputs": [
    {
     "name": "stdout",
     "output_type": "stream",
     "text": [
      "Enter user name taimoor\n",
      "Enter user password 123\n",
      "Enter user id 1\n"
     ]
    },
    {
     "name": "stdout",
     "output_type": "stream",
     "text": [
      "Not Found or invalid input\n"
     ]
    }
   ],
   "source": [
    "data_base: list[tuple[str, str, int]] = [(\"taimoor\", '123', 1),\n",
    "                                   (\"sirzia\", '345', 2),\n",
    "                                   (\"ameenbhai\", '678', 3)]\n",
    "\n",
    "input_user: str = input(\"Enter user name\")\n",
    "input_password: str = input(\"Enter user password\")\n",
    "input_id: int = input(\"Enter user id\")\n",
    "\n",
    "for row in data_base:\n",
    "    user, password, id = row\n",
    "    if input_user == user and input_password == password and input_id == id:\n",
    "        print(\"Valid User\")\n",
    "        break\n",
    "else:\n",
    "    print(\"Not Found or invalid input\")"
   ]
  },
  {
   "cell_type": "code",
   "execution_count": 2,
   "id": "30542f06-23e9-48b8-8cd6-e968246629d0",
   "metadata": {},
   "outputs": [
    {
     "name": "stdout",
     "output_type": "stream",
     "text": [
      "Enter user name:  taimoor\n",
      "Enter user password:  123\n",
      "Enter user id:  1\n"
     ]
    },
    {
     "name": "stdout",
     "output_type": "stream",
     "text": [
      "Valid User\n"
     ]
    }
   ],
   "source": [
    "# Define the database\n",
    "data_base: list[tuple[str, str, int]] = [\n",
    "    (\"taimoor\", '123', 1),\n",
    "    (\"sirzia\", '345', 2),\n",
    "    (\"ameenbhai\", '678', 3)\n",
    "]\n",
    "\n",
    "# Take user input\n",
    "input_user: str = input(\"Enter user name: \")\n",
    "input_password: str = input(\"Enter user password: \")\n",
    "input_id: int = int(input(\"Enter user id: \"))  # Convert to int\n",
    "\n",
    "# Check credentials\n",
    "for row in data_base:\n",
    "    user, password, id = row\n",
    "    if input_user == user and input_password == password and input_id == id:\n",
    "        print(\"Valid User\")\n",
    "        break\n",
    "else:\n",
    "    print(\"Not Found or Invalid Input\")\n"
   ]
  },
  {
   "cell_type": "code",
   "execution_count": 4,
   "id": "cf5c95cd-efc2-4d9c-8544-99b4743d5582",
   "metadata": {},
   "outputs": [
    {
     "name": "stdout",
     "output_type": "stream",
     "text": [
      "Sir Zia\n",
      "Sir Ameen Alam\n",
      "Sir Qasim\n",
      "Hello World\n"
     ]
    }
   ],
   "source": [
    "names: list[str] = [\"Sir Zia\", \"Sir Ameen Alam\", \"Sir Qasim\"]\n",
    "\n",
    "for name in names:\n",
    "    print(name)\n",
    "else: \n",
    "    print(\"Hello World\")"
   ]
  },
  {
   "cell_type": "code",
   "execution_count": 8,
   "id": "06ff9755-7c78-430f-bf41-0dfa64b2aa24",
   "metadata": {},
   "outputs": [
    {
     "name": "stdout",
     "output_type": "stream",
     "text": [
      "Alice, thats was a great trick\n",
      "David, thats was a great trick\n",
      "Carolina, thats was a great trick\n",
      "I can't wait to see your next trick, Carolina.\n",
      "\n"
     ]
    }
   ],
   "source": [
    "magicians: list[str] = [\"alice\", \"david\", \"carolina\"]\n",
    "\n",
    "for magician in magicians:\n",
    "    print(f\"{magician.title()}, thats was a great trick\")\n",
    "\n",
    "print(f\"I can't wait to see your next trick, {magician.title()}.\\n\")"
   ]
  },
  {
   "cell_type": "code",
   "execution_count": 2,
   "id": "ae14f8b5",
   "metadata": {},
   "outputs": [
    {
     "data": {
      "text/plain": [
       "[(0, 'alice'), (1, 'david'), (2, 'carolina')]"
      ]
     },
     "execution_count": 2,
     "metadata": {},
     "output_type": "execute_result"
    }
   ],
   "source": [
    "magicians: list[str] = [\"alice\", \"david\", \"carolina\"]\n",
    "\n",
    "list(enumerate(magicians))"
   ]
  },
  {
   "cell_type": "code",
   "execution_count": 3,
   "id": "fad2a1be",
   "metadata": {},
   "outputs": [
    {
     "name": "stdout",
     "output_type": "stream",
     "text": [
      "0 alice\n",
      "1 david\n",
      "2 carolina\n"
     ]
    }
   ],
   "source": [
    "magicians: list[str] = [\"alice\", \"david\", \"carolina\"]\n",
    "\n",
    "for index, name in enumerate(magicians):\n",
    "    print(index, name)\n"
   ]
  },
  {
   "cell_type": "markdown",
   "id": "2d81de0c-cc60-48f8-9917-3bc651de135f",
   "metadata": {},
   "source": [
    "# Numbers with loop\n",
    "* `range(start,end,step)`"
   ]
  },
  {
   "cell_type": "code",
   "execution_count": 2,
   "id": "f818e71e-ed79-4cd3-9f4b-e017e00c6a88",
   "metadata": {},
   "outputs": [
    {
     "data": {
      "text/plain": [
       "range(0, 10)"
      ]
     },
     "execution_count": 2,
     "metadata": {},
     "output_type": "execute_result"
    }
   ],
   "source": [
    "range(10)"
   ]
  },
  {
   "cell_type": "code",
   "execution_count": 4,
   "id": "67f8de5e-8ce6-450b-b10a-6f8db6d8f4d0",
   "metadata": {},
   "outputs": [
    {
     "data": {
      "text/plain": [
       "[0, 1, 2, 3, 4, 5, 6, 7, 8, 9, 10, 11]"
      ]
     },
     "execution_count": 4,
     "metadata": {},
     "output_type": "execute_result"
    }
   ],
   "source": [
    "list(range(12))"
   ]
  },
  {
   "cell_type": "code",
   "execution_count": 16,
   "id": "ec0d255d-b5d1-4af1-809c-c314427a45ab",
   "metadata": {},
   "outputs": [
    {
     "data": {
      "text/plain": [
       "[2, 4, 6, 8, 10, 12, 14, 16, 18, 20]"
      ]
     },
     "execution_count": 16,
     "metadata": {},
     "output_type": "execute_result"
    }
   ],
   "source": [
    "list(range(2,22,2))"
   ]
  },
  {
   "cell_type": "code",
   "execution_count": 9,
   "id": "66105009",
   "metadata": {},
   "outputs": [
    {
     "ename": "AttributeError",
     "evalue": "'int' object has no attribute 'append'",
     "output_type": "error",
     "traceback": [
      "\u001b[1;31m---------------------------------------------------------------------------\u001b[0m",
      "\u001b[1;31mAttributeError\u001b[0m                            Traceback (most recent call last)",
      "Cell \u001b[1;32mIn[9], line 4\u001b[0m\n\u001b[0;32m      2\u001b[0m \u001b[38;5;28;01mfor\u001b[39;00m value \u001b[38;5;129;01min\u001b[39;00m \u001b[38;5;28mrange\u001b[39m(\u001b[38;5;241m1\u001b[39m, \u001b[38;5;241m11\u001b[39m):\n\u001b[0;32m      3\u001b[0m     square \u001b[38;5;241m=\u001b[39m value \u001b[38;5;241m*\u001b[39m\u001b[38;5;241m*\u001b[39m \u001b[38;5;241m2\u001b[39m\n\u001b[1;32m----> 4\u001b[0m     \u001b[43msquare\u001b[49m\u001b[38;5;241;43m.\u001b[39;49m\u001b[43mappend\u001b[49m(square)\n\u001b[0;32m      5\u001b[0m \u001b[38;5;28mprint\u001b[39m(squares)\n",
      "\u001b[1;31mAttributeError\u001b[0m: 'int' object has no attribute 'append'"
     ]
    }
   ],
   "source": [
    "squares: list[int] = []\n",
    "for value in range(1, 11):\n",
    "    square = value ** 2\n",
    "    square.append(square)\n",
    "print(squares)\n"
   ]
  }
 ],
 "metadata": {
  "kernelspec": {
   "display_name": "my-app",
   "language": "python",
   "name": "python3"
  },
  "language_info": {
   "codemirror_mode": {
    "name": "ipython",
    "version": 3
   },
   "file_extension": ".py",
   "mimetype": "text/x-python",
   "name": "python",
   "nbconvert_exporter": "python",
   "pygments_lexer": "ipython3",
   "version": "3.12.0"
  }
 },
 "nbformat": 4,
 "nbformat_minor": 5
}
