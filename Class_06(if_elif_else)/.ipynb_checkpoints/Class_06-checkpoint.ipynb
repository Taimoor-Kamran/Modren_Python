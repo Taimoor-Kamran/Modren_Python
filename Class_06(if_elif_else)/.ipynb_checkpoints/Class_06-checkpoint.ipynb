{
 "cells": [
  {
   "cell_type": "markdown",
   "metadata": {},
   "source": [
    "# If-else-elif\n",
    "\n",
    "```\n",
    "if logic:\n",
    "    True_block\n",
    "else:\n",
    "    False_block\n",
    "```\n",
    "\n",
    "# comprehensive if-else\n",
    "\n",
    "```\n",
    "True_block if logic else False_block\n",
    "```\n",
    "\n",
    "* if\n",
    "* if-else\n",
    "* if-elif-else"
   ]
  },
  {
   "cell_type": "code",
   "execution_count": 1,
   "metadata": {},
   "outputs": [
    {
     "name": "stdout",
     "output_type": "stream",
     "text": [
      "Pakistan Zindabad\n"
     ]
    }
   ],
   "source": [
    "if True:\n",
    "    print(\"Pakistan Zindabad\")\n",
    "else:\n",
    "    print(\"Hello World\")"
   ]
  },
  {
   "cell_type": "code",
   "execution_count": 5,
   "metadata": {},
   "outputs": [
    {
     "data": {
      "text/plain": [
       "'else block run'"
      ]
     },
     "execution_count": 5,
     "metadata": {},
     "output_type": "execute_result"
    }
   ],
   "source": [
    "print(\"Pakistan zindabad\") if False else (\"else block run\")"
   ]
  },
  {
   "cell_type": "code",
   "execution_count": 7,
   "metadata": {},
   "outputs": [
    {
     "name": "stdout",
     "output_type": "stream",
     "text": [
      "Pakistan zindabad\n"
     ]
    }
   ],
   "source": [
    "print(\"Pakistan zindabad\") if True else (\"else block run\")\n"
   ]
  },
  {
   "cell_type": "markdown",
   "metadata": {},
   "source": [
    "# compression operator\n",
    "\n",
    "* == \n",
    "* >=\n",
    "* <= \n",
    "* !=\n",
    "\n",
    "## logic\n",
    "\n",
    "* and\n",
    "* or\n",
    "* not\n"
   ]
  },
  {
   "cell_type": "code",
   "execution_count": 9,
   "metadata": {},
   "outputs": [
    {
     "name": "stdout",
     "output_type": "stream",
     "text": [
      "True pakistan block\n",
      "1\n",
      "2\n"
     ]
    }
   ],
   "source": [
    "if True:\n",
    "    print(\"True pakistan block\")\n",
    "\n",
    "print(1)\n",
    "print(2)"
   ]
  },
  {
   "cell_type": "code",
   "execution_count": 10,
   "metadata": {},
   "outputs": [
    {
     "name": "stdout",
     "output_type": "stream",
     "text": [
      "1\n",
      "2\n"
     ]
    }
   ],
   "source": [
    "if False:\n",
    "    print(\"False Pakistani Block\")\n",
    "\n",
    "print(\"1\")\n",
    "print(\"2\")"
   ]
  },
  {
   "cell_type": "code",
   "execution_count": 14,
   "metadata": {},
   "outputs": [
    {
     "name": "stdout",
     "output_type": "stream",
     "text": [
      "True Block\n"
     ]
    }
   ],
   "source": [
    "if True:\n",
    "    print(\"True Block\")\n",
    "elif False:\n",
    "    print(\"elif logic1\")\n",
    "elif False:\n",
    "    print(\"elif logic2\")\n",
    "elif False:\n",
    "    print(\"elif logic3\")\n",
    "else:\n",
    "    print(\"final else block\")"
   ]
  },
  {
   "cell_type": "code",
   "execution_count": 22,
   "metadata": {},
   "outputs": [
    {
     "name": "stdout",
     "output_type": "stream",
     "text": [
      "elif logic1\n"
     ]
    }
   ],
   "source": [
    "if False:\n",
    "    print(\"True Block\")\n",
    "elif True:\n",
    "    print(\"elif logic1\")\n",
    "elif False:\n",
    "    print(\"elif logic2\")\n",
    "elif False:\n",
    "    print(\"elif logic3\")\n",
    "else:\n",
    "    print(\"final else block\")"
   ]
  },
  {
   "cell_type": "code",
   "execution_count": 24,
   "metadata": {},
   "outputs": [
    {
     "name": "stdout",
     "output_type": "stream",
     "text": [
      "elif logic2\n"
     ]
    }
   ],
   "source": [
    "if False:\n",
    "    print(\"True Block\")\n",
    "elif False:\n",
    "    print(\"elif logic1\")\n",
    "elif True:\n",
    "    print(\"elif logic2\")\n",
    "elif False:\n",
    "    print(\"elif logic3\")\n",
    "else:\n",
    "    print(\"final else block\")"
   ]
  },
  {
   "cell_type": "code",
   "execution_count": 26,
   "metadata": {},
   "outputs": [
    {
     "name": "stdout",
     "output_type": "stream",
     "text": [
      "elif logic3\n"
     ]
    }
   ],
   "source": [
    "if False:\n",
    "    print(\"True Block\")\n",
    "elif False:\n",
    "    print(\"elif logic1\")\n",
    "elif False:\n",
    "    print(\"elif logic2\")\n",
    "elif True:\n",
    "    print(\"elif logic3\")\n",
    "else:\n",
    "    print(\"final else block\")"
   ]
  },
  {
   "cell_type": "code",
   "execution_count": 28,
   "metadata": {},
   "outputs": [
    {
     "name": "stdout",
     "output_type": "stream",
     "text": [
      "final else block\n"
     ]
    }
   ],
   "source": [
    "if False:\n",
    "    print(\"True Block\")\n",
    "elif False:\n",
    "    print(\"elif logic1\")\n",
    "elif False:\n",
    "    print(\"elif logic2\")\n",
    "elif False:\n",
    "    print(\"elif logic3\")\n",
    "else:\n",
    "    print(\"final else block\")"
   ]
  },
  {
   "cell_type": "markdown",
   "metadata": {},
   "source": [
    "# Grading Rule"
   ]
  },
  {
   "cell_type": "code",
   "execution_count": 20,
   "metadata": {},
   "outputs": [
    {
     "name": "stdin",
     "output_type": "stream",
     "text": [
      "Enter Your Pecentage:\t 40\n"
     ]
    },
    {
     "name": "stdout",
     "output_type": "stream",
     "text": [
      "Dear Students your percentage is 40 now your calcualted grade is:\t D\n",
      "D\n"
     ]
    }
   ],
   "source": [
    "from typing import Union\n",
    "\n",
    "per : Union[int, float] = int(input(\"Enter Your Pecentage:\\t\"))\n",
    "grade: Union[str, None] = None\n",
    "\n",
    "if per >= 80:\n",
    "    grade = \"A+\"\n",
    "elif per >= 70:\n",
    "    grade = \"A\"\n",
    "elif per >= 60:\n",
    "    grade = \"B\"\n",
    "elif per >= 50:\n",
    "    grade = \"C\"\n",
    "elif per >= 40:\n",
    "    grade = \"D\"\n",
    "elif per >= 33:\n",
    "    grade = \"E\"        \n",
    "else:\n",
    "    grade = \"Fail\"\n",
    "    \n",
    "print(f\"Dear Students your percentage is {per} now your calcualted grade is:\\t {grade}\")\n",
    "print(grade)"
   ]
  },
  {
   "cell_type": "code",
   "execution_count": 63,
   "metadata": {},
   "outputs": [
    {
     "name": "stdout",
     "output_type": "stream",
     "text": [
      "[88, 99.9, 50, 51, 65, 70]\n",
      "['A+', 'A+', 'C', 'C', 'B', 'A']\n"
     ]
    }
   ],
   "source": [
    "\n",
    "PerType = Union[float, int]\n",
    "\n",
    "percentage: list[PerType] = [88, 99.9, 50, 51, 65, 70]\n",
    "\n",
    "grades: list[str] = []\n",
    "\n",
    "for per in percentage:\n",
    "    grade : str = \"\"\n",
    "\n",
    "    if (per >= 0) and (per < 33):\n",
    "        grade = \"Fail\"\n",
    "    elif (per >= 33) and (per < 40):\n",
    "        grade = \"E\"\n",
    "    elif (per >= 40) and (per < 50):\n",
    "        grade = \"D\"\n",
    "    elif (per >= 50) and (per < 60):\n",
    "        grade = \"C\"\n",
    "    elif (per >= 60) and (per < 70):\n",
    "        grade = \"B\"\n",
    "    elif (per >= 70) and (per < 80):\n",
    "        grade = \"A\"        \n",
    "    elif (per >= 80) and (per <= 100):\n",
    "        grade = \"A+\"\n",
    "\n",
    "    grades.append(grade)\n",
    "\n",
    "\n",
    "print(percentage)\n",
    "print(grades)"
   ]
  },
  {
   "cell_type": "code",
   "execution_count": 50,
   "metadata": {},
   "outputs": [
    {
     "data": {
      "text/plain": [
       "<zip at 0x251f1e56a80>"
      ]
     },
     "execution_count": 50,
     "metadata": {},
     "output_type": "execute_result"
    }
   ],
   "source": [
    "zip(percentage, grades)"
   ]
  }
 ],
 "metadata": {
  "kernelspec": {
   "display_name": "Python 3 (ipykernel)",
   "language": "python",
   "name": "python3"
  },
  "language_info": {
   "codemirror_mode": {
    "name": "ipython",
    "version": 3
   },
   "file_extension": ".py",
   "mimetype": "text/x-python",
   "name": "python",
   "nbconvert_exporter": "python",
   "pygments_lexer": "ipython3",
   "version": "3.12.7"
  }
 },
 "nbformat": 4,
 "nbformat_minor": 4
}
