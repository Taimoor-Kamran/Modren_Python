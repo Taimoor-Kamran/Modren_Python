{
 "cells": [
  {
   "cell_type": "markdown",
   "metadata": {},
   "source": [
    "Python divides the operators in the following groups:\n",
    "\n",
    "* Arithmetic operators\n",
    "* Assignment operators\n",
    "* Comparison operators\n",
    "* Logical operators\n",
    "* Identity operators\n",
    "* MembersShip operators\n",
    "* Bitwise operators"
   ]
  },
  {
   "cell_type": "code",
   "execution_count": 8,
   "metadata": {},
   "outputs": [
    {
     "name": "stdout",
     "output_type": "stream",
     "text": [
      "Channels:\n",
      " - defaults\n",
      "Platform: win-64\n",
      "Collecting package metadata (repodata.json): ...working... done\n",
      "Solving environment: ...working... done\n",
      "\n",
      "## Package Plan ##\n",
      "\n",
      "  environment location: C:\\Users\\DELL\\anaconda3\\envs\\my-app\n",
      "\n",
      "  added / updated specs:\n",
      "    - lxml\n",
      "\n",
      "\n",
      "The following packages will be downloaded:\n",
      "\n",
      "    package                    |            build\n",
      "    ---------------------------|-----------------\n",
      "    libxml2-2.13.5             |       h24da03e_0         2.9 MB\n",
      "    lxml-5.3.0                 |  py312h395c83e_1         1.1 MB\n",
      "    ------------------------------------------------------------\n",
      "                                           Total:         4.0 MB\n",
      "\n",
      "The following NEW packages will be INSTALLED:\n",
      "\n",
      "  libiconv           pkgs/main/win-64::libiconv-1.16-h2bbff1b_3 \n",
      "  libxml2            pkgs/main/win-64::libxml2-2.13.5-h24da03e_0 \n",
      "  libxslt            pkgs/main/win-64::libxslt-1.1.41-h0739af5_0 \n",
      "  lxml               pkgs/main/win-64::lxml-5.3.0-py312h395c83e_1 \n",
      "\n",
      "\n",
      "\n",
      "Downloading and Extracting Packages: ...working...\n",
      "libxml2-2.13.5       | 2.9 MB    |            |   0% \n",
      "\n",
      "lxml-5.3.0           | 1.1 MB    |            |   0% \u001b[A\n",
      "libxml2-2.13.5       | 2.9 MB    | #2         |  12% \n",
      "libxml2-2.13.5       | 2.9 MB    | #8         |  18% \n",
      "libxml2-2.13.5       | 2.9 MB    | ##1        |  22% \n",
      "libxml2-2.13.5       | 2.9 MB    | ##4        |  24% \n",
      "libxml2-2.13.5       | 2.9 MB    | ##6        |  26% \n",
      "libxml2-2.13.5       | 2.9 MB    | ##8        |  29% \n",
      "libxml2-2.13.5       | 2.9 MB    | ###        |  30% \n",
      "libxml2-2.13.5       | 2.9 MB    | ###1       |  32% \n",
      "libxml2-2.13.5       | 2.9 MB    | ###3       |  34% \n",
      "libxml2-2.13.5       | 2.9 MB    | ###5       |  35% \n",
      "libxml2-2.13.5       | 2.9 MB    | ###6       |  37% \n",
      "libxml2-2.13.5       | 2.9 MB    | ###8       |  38% \n",
      "libxml2-2.13.5       | 2.9 MB    | ####       |  40% \n",
      "libxml2-2.13.5       | 2.9 MB    | ####1      |  42% \n",
      "libxml2-2.13.5       | 2.9 MB    | ####3      |  43% \n",
      "libxml2-2.13.5       | 2.9 MB    | ####4      |  45% \n",
      "libxml2-2.13.5       | 2.9 MB    | ####6      |  47% \n",
      "libxml2-2.13.5       | 2.9 MB    | ####8      |  48% \n",
      "libxml2-2.13.5       | 2.9 MB    | ####9      |  50% \n",
      "libxml2-2.13.5       | 2.9 MB    | #####1     |  51% \n",
      "libxml2-2.13.5       | 2.9 MB    | #####2     |  53% \n",
      "\n",
      "lxml-5.3.0           | 1.1 MB    | ####2      |  43% \u001b[A\n",
      "libxml2-2.13.5       | 2.9 MB    | #####4     |  55% \n",
      "\n",
      "lxml-5.3.0           | 1.1 MB    | ####5      |  45% \u001b[A\n",
      "libxml2-2.13.5       | 2.9 MB    | #####5     |  56% \n",
      "\n",
      "lxml-5.3.0           | 1.1 MB    | ####6      |  47% \u001b[A\n",
      "libxml2-2.13.5       | 2.9 MB    | #####6     |  57% \n",
      "\n",
      "lxml-5.3.0           | 1.1 MB    | ####9      |  49% \u001b[A\n",
      "libxml2-2.13.5       | 2.9 MB    | #####8     |  58% \n",
      "libxml2-2.13.5       | 2.9 MB    | ######     |  61% \n",
      "\n",
      "lxml-5.3.0           | 1.1 MB    | #####2     |  52% \u001b[A\n",
      "libxml2-2.13.5       | 2.9 MB    | ######1    |  62% \n",
      "\n",
      "lxml-5.3.0           | 1.1 MB    | #####6     |  56% \u001b[A\n",
      "libxml2-2.13.5       | 2.9 MB    | ######3    |  63% \n",
      "libxml2-2.13.5       | 2.9 MB    | ######4    |  64% \n",
      "\n",
      "lxml-5.3.0           | 1.1 MB    | #####9     |  59% \u001b[A\n",
      "libxml2-2.13.5       | 2.9 MB    | ######6    |  67% \n",
      "\n",
      "lxml-5.3.0           | 1.1 MB    | ######1    |  62% \u001b[A\n",
      "libxml2-2.13.5       | 2.9 MB    | ######8    |  68% \n",
      "libxml2-2.13.5       | 2.9 MB    | ######9    |  69% \n",
      "libxml2-2.13.5       | 2.9 MB    | #######    |  70% \n",
      "\n",
      "lxml-5.3.0           | 1.1 MB    | ######4    |  65% \u001b[A\n",
      "libxml2-2.13.5       | 2.9 MB    | #######1   |  71% \n",
      "libxml2-2.13.5       | 2.9 MB    | #######2   |  72% \n",
      "\n",
      "lxml-5.3.0           | 1.1 MB    | ######8    |  69% \u001b[A\n",
      "libxml2-2.13.5       | 2.9 MB    | #######3   |  74% \n",
      "\n",
      "lxml-5.3.0           | 1.1 MB    | #######1   |  71% \u001b[A\n",
      "libxml2-2.13.5       | 2.9 MB    | #######4   |  75% \n",
      "libxml2-2.13.5       | 2.9 MB    | #######5   |  76% \n",
      "\n",
      "lxml-5.3.0           | 1.1 MB    | #######4   |  74% \u001b[A\n",
      "\n",
      "lxml-5.3.0           | 1.1 MB    | #######5   |  75% \u001b[A\n",
      "libxml2-2.13.5       | 2.9 MB    | #######6   |  77% \n",
      "libxml2-2.13.5       | 2.9 MB    | #######7   |  78% \n",
      "\n",
      "lxml-5.3.0           | 1.1 MB    | #######8   |  78% \u001b[A\n",
      "libxml2-2.13.5       | 2.9 MB    | #######9   |  79% \n",
      "\n",
      "lxml-5.3.0           | 1.1 MB    | ########   |  81% \u001b[A\n",
      "libxml2-2.13.5       | 2.9 MB    | ########1  |  81% \n",
      "\n",
      "lxml-5.3.0           | 1.1 MB    | ########2  |  82% \u001b[A\n",
      "libxml2-2.13.5       | 2.9 MB    | ########2  |  82% \n",
      "\n",
      "lxml-5.3.0           | 1.1 MB    | ########6  |  86% \u001b[A\n",
      "libxml2-2.13.5       | 2.9 MB    | ########3  |  83% \n",
      "libxml2-2.13.5       | 2.9 MB    | ########4  |  84% \n",
      "\n",
      "lxml-5.3.0           | 1.1 MB    | ########9  |  89% \u001b[A\n",
      "libxml2-2.13.5       | 2.9 MB    | ########5  |  86% \n",
      "\n",
      "lxml-5.3.0           | 1.1 MB    | #########1 |  92% \u001b[A\n",
      "libxml2-2.13.5       | 2.9 MB    | ########7  |  87% \n",
      "\n",
      "lxml-5.3.0           | 1.1 MB    | #########4 |  95% \u001b[A\n",
      "libxml2-2.13.5       | 2.9 MB    | ########8  |  88% \n",
      "libxml2-2.13.5       | 2.9 MB    | ########9  |  89% \n",
      "\n",
      "lxml-5.3.0           | 1.1 MB    | #########7 |  97% \u001b[A\n",
      "\n",
      "lxml-5.3.0           | 1.1 MB    | #########8 |  99% \u001b[A\n",
      "libxml2-2.13.5       | 2.9 MB    | #########  |  90% \n",
      "\n",
      "lxml-5.3.0           | 1.1 MB    | ########## | 100% \u001b[A\n",
      "libxml2-2.13.5       | 2.9 MB    | #########1 |  91% \n",
      "libxml2-2.13.5       | 2.9 MB    | #########2 |  92% \n",
      "\n",
      "lxml-5.3.0           | 1.1 MB    | ########## | 100% \u001b[A\n",
      "libxml2-2.13.5       | 2.9 MB    | #########3 |  94% \n",
      "libxml2-2.13.5       | 2.9 MB    | #########4 |  95% \n",
      "libxml2-2.13.5       | 2.9 MB    | #########5 |  96% \n",
      "libxml2-2.13.5       | 2.9 MB    | #########6 |  97% \n",
      "libxml2-2.13.5       | 2.9 MB    | #########7 |  98% \n",
      "libxml2-2.13.5       | 2.9 MB    | #########8 |  99% \n",
      "libxml2-2.13.5       | 2.9 MB    | ########## | 100% \n",
      "libxml2-2.13.5       | 2.9 MB    | ########## | 100% \n",
      "libxml2-2.13.5       | 2.9 MB    | ########## | 100% \n",
      "                                                     \n",
      "\n",
      "\n",
      "                                                     \u001b[A done\n",
      "Preparing transaction: done\n",
      "Verifying transaction: done\n",
      "Executing transaction: done\n"
     ]
    }
   ],
   "source": [
    "!conda install lxml -y"
   ]
  },
  {
   "cell_type": "code",
   "execution_count": 1,
   "metadata": {},
   "outputs": [
    {
     "data": {
      "text/html": [
       "<div>\n",
       "<style scoped>\n",
       "    .dataframe tbody tr th:only-of-type {\n",
       "        vertical-align: middle;\n",
       "    }\n",
       "\n",
       "    .dataframe tbody tr th {\n",
       "        vertical-align: top;\n",
       "    }\n",
       "\n",
       "    .dataframe thead th {\n",
       "        text-align: right;\n",
       "    }\n",
       "</style>\n",
       "<table border=\"1\" class=\"dataframe\">\n",
       "  <thead>\n",
       "    <tr style=\"text-align: right;\">\n",
       "      <th></th>\n",
       "      <th>Operator</th>\n",
       "      <th>Name</th>\n",
       "      <th>Example</th>\n",
       "      <th>Try it</th>\n",
       "    </tr>\n",
       "  </thead>\n",
       "  <tbody>\n",
       "    <tr>\n",
       "      <th>0</th>\n",
       "      <td>+</td>\n",
       "      <td>Addition</td>\n",
       "      <td>x + y</td>\n",
       "      <td>Try it »</td>\n",
       "    </tr>\n",
       "    <tr>\n",
       "      <th>1</th>\n",
       "      <td>-</td>\n",
       "      <td>Subtraction</td>\n",
       "      <td>x - y</td>\n",
       "      <td>Try it »</td>\n",
       "    </tr>\n",
       "    <tr>\n",
       "      <th>2</th>\n",
       "      <td>*</td>\n",
       "      <td>Multiplication</td>\n",
       "      <td>x * y</td>\n",
       "      <td>Try it »</td>\n",
       "    </tr>\n",
       "    <tr>\n",
       "      <th>3</th>\n",
       "      <td>/</td>\n",
       "      <td>Division</td>\n",
       "      <td>x / y</td>\n",
       "      <td>Try it »</td>\n",
       "    </tr>\n",
       "    <tr>\n",
       "      <th>4</th>\n",
       "      <td>%</td>\n",
       "      <td>Modulus</td>\n",
       "      <td>x % y</td>\n",
       "      <td>Try it »</td>\n",
       "    </tr>\n",
       "    <tr>\n",
       "      <th>5</th>\n",
       "      <td>**</td>\n",
       "      <td>Exponentiation</td>\n",
       "      <td>x ** y</td>\n",
       "      <td>Try it »</td>\n",
       "    </tr>\n",
       "    <tr>\n",
       "      <th>6</th>\n",
       "      <td>//</td>\n",
       "      <td>Floor division</td>\n",
       "      <td>x // y</td>\n",
       "      <td>Try it »</td>\n",
       "    </tr>\n",
       "  </tbody>\n",
       "</table>\n",
       "</div>"
      ],
      "text/plain": [
       "  Operator            Name Example    Try it\n",
       "0        +        Addition   x + y  Try it »\n",
       "1        -     Subtraction   x - y  Try it »\n",
       "2        *  Multiplication   x * y  Try it »\n",
       "3        /        Division   x / y  Try it »\n",
       "4        %         Modulus   x % y  Try it »\n",
       "5       **  Exponentiation  x ** y  Try it »\n",
       "6       //  Floor division  x // y  Try it »"
      ]
     },
     "execution_count": 1,
     "metadata": {},
     "output_type": "execute_result"
    }
   ],
   "source": [
    "# !pip install pandas\n",
    "import pandas as pd\n",
    "\n",
    "table = pd.read_html('https://www.w3schools.com/python/python_operators.asp')\n",
    "table[0]"
   ]
  },
  {
   "cell_type": "code",
   "execution_count": 2,
   "metadata": {},
   "outputs": [
    {
     "name": "stdout",
     "output_type": "stream",
     "text": [
      "9\n",
      "5\n",
      "14\n",
      "3.5\n"
     ]
    }
   ],
   "source": [
    "a : int = 7\n",
    "b : int = 2\n",
    "\n",
    "print(a + b) # addition\n",
    "print(a - b) # subtraction\n",
    "print(a * b) # multiplication\n",
    "print(a / b) # division"
   ]
  },
  {
   "cell_type": "code",
   "execution_count": 4,
   "metadata": {},
   "outputs": [
    {
     "name": "stdout",
     "output_type": "stream",
     "text": [
      "2\n"
     ]
    }
   ],
   "source": [
    "a : int = 11\n",
    "b : int = 3\n",
    "\n",
    "print(a % 3)"
   ]
  },
  {
   "cell_type": "code",
   "execution_count": 6,
   "metadata": {},
   "outputs": [
    {
     "name": "stdout",
     "output_type": "stream",
     "text": [
      "4\n",
      "8\n"
     ]
    }
   ],
   "source": [
    "print(2 ** 2)\n",
    "print(2 ** 3)"
   ]
  },
  {
   "cell_type": "code",
   "execution_count": 7,
   "metadata": {},
   "outputs": [
    {
     "name": "stdout",
     "output_type": "stream",
     "text": [
      "4.0\n"
     ]
    }
   ],
   "source": [
    "print(12 / 3)"
   ]
  },
  {
   "cell_type": "code",
   "execution_count": 8,
   "metadata": {},
   "outputs": [
    {
     "name": "stdout",
     "output_type": "stream",
     "text": [
      "4.666666666666667\n"
     ]
    }
   ],
   "source": [
    "print(14 / 3)"
   ]
  },
  {
   "cell_type": "code",
   "execution_count": 9,
   "metadata": {},
   "outputs": [
    {
     "name": "stdout",
     "output_type": "stream",
     "text": [
      "4\n"
     ]
    }
   ],
   "source": [
    "print( 14 // 3)"
   ]
  },
  {
   "cell_type": "code",
   "execution_count": 10,
   "metadata": {},
   "outputs": [
    {
     "name": "stdout",
     "output_type": "stream",
     "text": [
      "4.0\n"
     ]
    }
   ],
   "source": [
    "print(14.8 // 3)"
   ]
  },
  {
   "cell_type": "code",
   "execution_count": null,
   "metadata": {},
   "outputs": [],
   "source": []
  }
 ],
 "metadata": {
  "kernelspec": {
   "display_name": "my-app",
   "language": "python",
   "name": "python3"
  },
  "language_info": {
   "codemirror_mode": {
    "name": "ipython",
    "version": 3
   },
   "file_extension": ".py",
   "mimetype": "text/x-python",
   "name": "python",
   "nbconvert_exporter": "python",
   "pygments_lexer": "ipython3",
   "version": "3.12.0"
  }
 },
 "nbformat": 4,
 "nbformat_minor": 2
}
