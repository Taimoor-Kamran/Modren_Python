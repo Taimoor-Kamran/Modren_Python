{
 "cells": [
  {
   "cell_type": "markdown",
   "metadata": {},
   "source": [
    "# Loop and input from user\n",
    "* while\n",
    "* for\n",
    "* controls\n",
    "    * breaks\n",
    "    * continue\n",
    "    * pass\n",
    "* input with input function\n",
    "* input from console\n",
    "\n",
    "# Loop Working on intractive data type\n",
    "* list\n",
    "* dictionary\n",
    "* tuple\n",
    "* string\n"
   ]
  },
  {
   "cell_type": "code",
   "execution_count": 2,
   "metadata": {},
   "outputs": [
    {
     "name": "stdout",
     "output_type": "stream",
     "text": [
      "1\n",
      "2\n",
      "3\n",
      "4\n",
      "5\n",
      "6\n"
     ]
    }
   ],
   "source": [
    "#                0,1,2,3,4,5\n",
    "l1: list[int] = [1,2,3,4,5,6]\n",
    "\n",
    "for n in l1:\n",
    "    print(n)"
   ]
  },
  {
   "cell_type": "code",
   "execution_count": null,
   "metadata": {},
   "outputs": [],
   "source": [
    "l1: list[int] = [1,2,3,4,5,6]\n",
    "\n",
    "for n in l1:\n",
    "    print(f\"current number {n}\")"
   ]
  }
 ],
 "metadata": {
  "kernelspec": {
   "display_name": "my-app",
   "language": "python",
   "name": "python3"
  },
  "language_info": {
   "codemirror_mode": {
    "name": "ipython",
    "version": 3
   },
   "file_extension": ".py",
   "mimetype": "text/x-python",
   "name": "python",
   "nbconvert_exporter": "python",
   "pygments_lexer": "ipython3",
   "version": "3.12.0"
  }
 },
 "nbformat": 4,
 "nbformat_minor": 2
}
