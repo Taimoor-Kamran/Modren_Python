{
 "cells": [
  {
   "cell_type": "markdown",
   "metadata": {},
   "source": [
    "# Loop and input from user\n",
    "* while\n",
    "* for\n",
    "* controls\n",
    "    * breaks\n",
    "    * continue\n",
    "    * pass\n",
    "* input with input function\n",
    "* input from console\n",
    "\n",
    "# Loop Working on intractive data type\n",
    "* list\n",
    "* dictionary\n",
    "* tuple\n",
    "* string\n"
   ]
  },
  {
   "cell_type": "code",
   "execution_count": 2,
   "metadata": {},
   "outputs": [
    {
     "name": "stdout",
     "output_type": "stream",
     "text": [
      "1\n",
      "2\n",
      "3\n",
      "4\n",
      "5\n",
      "6\n"
     ]
    }
   ],
   "source": [
    "#                0,1,2,3,4,5\n",
    "l1: list[int] = [1,2,3,4,5,6]\n",
    "\n",
    "for n in l1:\n",
    "    print(n)"
   ]
  },
  {
   "cell_type": "code",
   "execution_count": 8,
   "metadata": {},
   "outputs": [
    {
     "name": "stdout",
     "output_type": "stream",
     "text": [
      "current number : 1\n",
      "current number : 2\n",
      "current number : 3\n",
      "current number : 4\n",
      "current number : 5\n",
      "current number : 6\n"
     ]
    }
   ],
   "source": [
    "l1: list[int] = [1,2,3,4,5,6]\n",
    "\n",
    "for n in l1:\n",
    "    print(f\"current number : {n}\")"
   ]
  },
  {
   "cell_type": "code",
   "execution_count": 14,
   "metadata": {},
   "outputs": [
    {
     "name": "stdout",
     "output_type": "stream",
     "text": [
      "current String : P\n",
      "current String : a\n",
      "current String : k\n",
      "current String : i\n",
      "current String : s\n",
      "current String : t\n",
      "current String : a\n",
      "current String : n\n"
     ]
    }
   ],
   "source": [
    "l1: list[str] = \"Pakistan\"\n",
    "\n",
    "for c in l1:\n",
    "    print(f\"current String : {c}\")"
   ]
  },
  {
   "cell_type": "code",
   "execution_count": 15,
   "metadata": {},
   "outputs": [
    {
     "name": "stdout",
     "output_type": "stream",
     "text": [
      "dictinoary Keys : name and is value is Taimoor \n",
      "dictinoary Keys : fname and is value is Kamran\n"
     ]
    }
   ],
   "source": [
    "l1: dict[str, str] = {\"name\": \"Taimoor \", \"fname\": \"Kamran\"}\n",
    "\n",
    "for k in l1:\n",
    "    print(f\"dictinoary Keys : {k} and is value is {l1[k]}\")"
   ]
  },
  {
   "cell_type": "code",
   "execution_count": 23,
   "metadata": {},
   "outputs": [
    {
     "name": "stdout",
     "output_type": "stream",
     "text": [
      "value from list of set : 1\n",
      "value from list of set : 2\n",
      "value from list of set : 4\n"
     ]
    }
   ],
   "source": [
    "l1: list[set[int]] = list ({1,2,4,1,2,1,4,1,1,1})\n",
    "\n",
    "for k in l1:\n",
    "    print(f\"value from list of set : {k}\")"
   ]
  },
  {
   "cell_type": "markdown",
   "metadata": {},
   "source": [
    "# input from user\n",
    "* input function\n",
    "    * default type = string\n",
    "* sys.argv (for console input in abc.py file)\n",
    "    * default type = object "
   ]
  },
  {
   "cell_type": "code",
   "execution_count": 28,
   "metadata": {},
   "outputs": [
    {
     "name": "stdout",
     "output_type": "stream",
     "text": [
      "<class 'str'>\n",
      "welcome dear user Mr/Miss taimoor\n"
     ]
    }
   ],
   "source": [
    "name : str = input(\"what is your name: \\t\")\n",
    "\n",
    "print(type(name))\n",
    "\n",
    "print(f\"welcome dear user Mr/Miss {name}\")"
   ]
  },
  {
   "cell_type": "code",
   "execution_count": 30,
   "metadata": {},
   "outputs": [
    {
     "data": {
      "text/plain": [
       "['__add__',\n",
       " '__class__',\n",
       " '__class_getitem__',\n",
       " '__contains__',\n",
       " '__delattr__',\n",
       " '__dir__',\n",
       " '__doc__',\n",
       " '__eq__',\n",
       " '__format__',\n",
       " '__ge__',\n",
       " '__getattribute__',\n",
       " '__getitem__',\n",
       " '__getnewargs__',\n",
       " '__getstate__',\n",
       " '__gt__',\n",
       " '__hash__',\n",
       " '__init__',\n",
       " '__init_subclass__',\n",
       " '__iter__',\n",
       " '__le__',\n",
       " '__len__',\n",
       " '__lt__',\n",
       " '__mul__',\n",
       " '__ne__',\n",
       " '__new__',\n",
       " '__reduce__',\n",
       " '__reduce_ex__',\n",
       " '__repr__',\n",
       " '__rmul__',\n",
       " '__setattr__',\n",
       " '__sizeof__',\n",
       " '__str__',\n",
       " '__subclasshook__',\n",
       " 'count',\n",
       " 'index']"
      ]
     },
     "execution_count": 30,
     "metadata": {},
     "output_type": "execute_result"
    }
   ],
   "source": [
    "dir(tuple)"
   ]
  },
  {
   "cell_type": "code",
   "execution_count": 37,
   "metadata": {},
   "outputs": [
    {
     "name": "stdout",
     "output_type": "stream",
     "text": [
      "Welcome dear a s/o x!\n",
      "Welcome dear b s/o y!\n",
      "Welcome dear c s/o z!\n"
     ]
    }
   ],
   "source": [
    "names: list[str] = ['a','b','c']\n",
    "fname: list[str] = ['x','y','z']\n",
    "age: list[int] = [1,2,3]\n",
    "\n",
    "list(zip(name, fname, age))\n",
    "\n",
    "for name, fn, ag in zip(names, fname, age):\n",
    "    print(f\"Welcome dear {name} s/o {fn}!\")"
   ]
  },
  {
   "cell_type": "markdown",
   "metadata": {},
   "source": [
    "# While loop\n",
    "\n",
    "```\n",
    "while logic: # True/False\n",
    "loop_body\n",
    "```"
   ]
  },
  {
   "cell_type": "code",
   "execution_count": 40,
   "metadata": {},
   "outputs": [
    {
     "name": "stdout",
     "output_type": "stream",
     "text": [
      "current number is: 1\n",
      "current number is: 2\n",
      "current number is: 3\n",
      "current number is: 4\n",
      "current number is: 5\n",
      "current number is: 6\n",
      "current number is: 7\n",
      "current number is: 8\n",
      "current number is: 9\n"
     ]
    }
   ],
   "source": [
    "flage: bool = True\n",
    "\n",
    "current_number: int = 1\n",
    "\n",
    "while flage:\n",
    "    print(f\"current number is: {current_number}\")\n",
    "    current_number += 1\n",
    "\n",
    "    if current_number == 10:\n",
    "        break"
   ]
  },
  {
   "cell_type": "code",
   "execution_count": 49,
   "metadata": {},
   "outputs": [
    {
     "name": "stdout",
     "output_type": "stream",
     "text": [
      "current index is: 0 and list value is : 100\n",
      "current index is: 1 and list value is : 200\n",
      "current index is: 2 and list value is : 300\n"
     ]
    }
   ],
   "source": [
    "l1: list[int] = [100, 200, 300]\n",
    "\n",
    "index: int = 0\n",
    "\n",
    "while index < len(l1):\n",
    "    print(f\"current index is: {index} and list value is : {l1[index]}\")\n",
    "    index += 1"
   ]
  },
  {
   "cell_type": "code",
   "execution_count": null,
   "metadata": {},
   "outputs": [],
   "source": [
    "data : list[dict[str, str]] = []\n",
    "\n",
    "flag: bool = True\n",
    "\n",
    "while flag:\n",
    "    print(\"Write quite or exit to stop this program\")\n",
    "    name : str = input(\"Your good name \\t\")\n",
    "    education: str = input(\"Your Last education \\t\")\n",
    "\n",
    "    if name in ['exit', 'quite', 'close', 'stop'] or name in ['exit', 'quite', 'close', 'stop',]:\n",
    "        flag=False\n",
    "        break\n",
    "    data.append({\"name\": name, \"education\" : education})\n",
    "\n",
    "display(data)"
   ]
  }
 ],
 "metadata": {
  "kernelspec": {
   "display_name": "my-app",
   "language": "python",
   "name": "python3"
  },
  "language_info": {
   "codemirror_mode": {
    "name": "ipython",
    "version": 3
   },
   "file_extension": ".py",
   "mimetype": "text/x-python",
   "name": "python",
   "nbconvert_exporter": "python",
   "pygments_lexer": "ipython3",
   "version": "3.12.0"
  }
 },
 "nbformat": 4,
 "nbformat_minor": 2
}
