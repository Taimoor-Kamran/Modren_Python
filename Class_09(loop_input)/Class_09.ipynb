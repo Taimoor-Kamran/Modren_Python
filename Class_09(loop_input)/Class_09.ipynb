{
 "cells": [
  {
   "cell_type": "markdown",
   "metadata": {},
   "source": [
    "# Loop and input from user\n",
    "* while\n",
    "* for\n",
    "* controls\n",
    "    * breaks\n",
    "    * continue\n",
    "    * pass\n",
    "* input with input function\n",
    "* input from console\n",
    "\n",
    "# Loop Working on intractive data type\n",
    "* list\n",
    "* dictionary\n",
    "* tuple\n",
    "* string\n"
   ]
  },
  {
   "cell_type": "code",
   "execution_count": 2,
   "metadata": {},
   "outputs": [
    {
     "name": "stdout",
     "output_type": "stream",
     "text": [
      "1\n",
      "2\n",
      "3\n",
      "4\n",
      "5\n",
      "6\n"
     ]
    }
   ],
   "source": [
    "#                0,1,2,3,4,5\n",
    "l1: list[int] = [1,2,3,4,5,6]\n",
    "\n",
    "for n in l1:\n",
    "    print(n)"
   ]
  },
  {
   "cell_type": "code",
   "execution_count": 8,
   "metadata": {},
   "outputs": [
    {
     "name": "stdout",
     "output_type": "stream",
     "text": [
      "current number : 1\n",
      "current number : 2\n",
      "current number : 3\n",
      "current number : 4\n",
      "current number : 5\n",
      "current number : 6\n"
     ]
    }
   ],
   "source": [
    "l1: list[int] = [1,2,3,4,5,6]\n",
    "\n",
    "for n in l1:\n",
    "    print(f\"current number : {n}\")"
   ]
  },
  {
   "cell_type": "code",
   "execution_count": 14,
   "metadata": {},
   "outputs": [
    {
     "name": "stdout",
     "output_type": "stream",
     "text": [
      "current String : P\n",
      "current String : a\n",
      "current String : k\n",
      "current String : i\n",
      "current String : s\n",
      "current String : t\n",
      "current String : a\n",
      "current String : n\n"
     ]
    }
   ],
   "source": [
    "l1: list[str] = \"Pakistan\"\n",
    "\n",
    "for c in l1:\n",
    "    print(f\"current String : {c}\")"
   ]
  },
  {
   "cell_type": "code",
   "execution_count": 15,
   "metadata": {},
   "outputs": [
    {
     "name": "stdout",
     "output_type": "stream",
     "text": [
      "dictinoary Keys : name and is value is Taimoor \n",
      "dictinoary Keys : fname and is value is Kamran\n"
     ]
    }
   ],
   "source": [
    "l1: dict[str, str] = {\"name\": \"Taimoor \", \"fname\": \"Kamran\"}\n",
    "\n",
    "for k in l1:\n",
    "    print(f\"dictinoary Keys : {k} and is value is {l1[k]}\")"
   ]
  },
  {
   "cell_type": "code",
   "execution_count": 22,
   "metadata": {},
   "outputs": [
    {
     "name": "stdout",
     "output_type": "stream",
     "text": [
      "value from list of set : 1\n",
      "value from list of set : 2\n",
      "value from list of set : 4\n"
     ]
    }
   ],
   "source": [
    "l1: list[set[int]] = list ({1,2,4,1,2,1,4,1,1,1})\n",
    "\n",
    "for k in l1:\n",
    "    print(f\"value from list of set : {k}\")"
   ]
  }
 ],
 "metadata": {
  "kernelspec": {
   "display_name": "my-app",
   "language": "python",
   "name": "python3"
  },
  "language_info": {
   "codemirror_mode": {
    "name": "ipython",
    "version": 3
   },
   "file_extension": ".py",
   "mimetype": "text/x-python",
   "name": "python",
   "nbconvert_exporter": "python",
   "pygments_lexer": "ipython3",
   "version": "3.12.0"
  }
 },
 "nbformat": 4,
 "nbformat_minor": 2
}
