{
 "cells": [
  {
   "cell_type": "code",
   "execution_count": 1,
   "metadata": {},
   "outputs": [
    {
     "name": "stdout",
     "output_type": "stream",
     "text": [
      "list_b: [1, 2, 3, 4]\n"
     ]
    }
   ],
   "source": [
    "list_a = [1,2,3]\n",
    "list_b = list_a\n",
    "list_a.append(4)\n",
    "print(\"list_b:\", list_b)"
   ]
  },
  {
   "cell_type": "markdown",
   "metadata": {},
   "source": [
    "# Addressing Changes without Function Calls"
   ]
  },
  {
   "cell_type": "code",
   "execution_count": 3,
   "metadata": {},
   "outputs": [
    {
     "name": "stdout",
     "output_type": "stream",
     "text": [
      "Before modification: 10 140720525232856\n",
      "After modification: 11 140720525232888\n"
     ]
    }
   ],
   "source": [
    "x = 10\n",
    "print(\"Before modification:\", x, id(x))\n",
    "x += 1\n",
    "print(\"After modification:\", x, id(x))"
   ]
  },
  {
   "cell_type": "code",
   "execution_count": 22,
   "metadata": {},
   "outputs": [
    {
     "name": "stdout",
     "output_type": "stream",
     "text": [
      "num1 value before 5 address 140720525232696\n",
      "num1 value is 6 address 140720525232728\n",
      "Orignal Variable Value is 5 address of a 140720525232696\n"
     ]
    }
   ],
   "source": [
    "a : int = 5\n",
    "\n",
    "def abc(num1:int)->None:\n",
    "    print(f\"num1 value before {num1} address {id(num1)}\")\n",
    "    num1 = 6\n",
    "    print(f\"num1 value is {num1} address {id(num1)}\")\n",
    "\n",
    "\n",
    "abc(a)\n",
    "print(f\"Orignal Variable Value is {a} address of a {id(a)}\") "
   ]
  },
  {
   "cell_type": "code",
   "execution_count": 23,
   "metadata": {},
   "outputs": [
    {
     "name": "stdout",
     "output_type": "stream",
     "text": [
      "num1 value is [7, 200]\n",
      "[1, 2, 3, 4, 5]\n"
     ]
    }
   ],
   "source": [
    "a : list = [1,2,3,4,5]\n",
    "\n",
    "def abc(num1:int)->None:\n",
    "    num1 = [7]\n",
    "    num1.append(200)\n",
    "    print(\"num1 value is\", num1)\n",
    "\n",
    "\n",
    "abc(a)\n",
    "\n",
    "print(a)"
   ]
  },
  {
   "cell_type": "code",
   "execution_count": 3,
   "metadata": {},
   "outputs": [
    {
     "name": "stdout",
     "output_type": "stream",
     "text": [
      "X value is 7 and X address is 140720519580280\n",
      "b value is 7 and b address is 140720519580280\n",
      "X value is 200 and X address is 140720519586456\n"
     ]
    }
   ],
   "source": [
    "x : int = 7\n",
    "\n",
    "b = x \n",
    "\n",
    "print(f\"X value is {x} and X address is {id(x)}\")\n",
    "print(f\"b value is {b} and b address is {id(b)}\")\n",
    "\n",
    "b = 200 # update then it will change address\n",
    "\n",
    "print(f\"X value is {b} and X address is {id(b)}\")"
   ]
  },
  {
   "cell_type": "code",
   "execution_count": 5,
   "metadata": {},
   "outputs": [
    {
     "name": "stdout",
     "output_type": "stream",
     "text": [
      "x value is 7 and x address 140720519580280\n",
      "x value is 7 and x address 140720519580280\n",
      "x value is 200 and x address is 140720519586456\n"
     ]
    }
   ],
   "source": [
    "x : int = 7\n",
    "\n",
    "b : int = 7\n",
    "\n",
    "print(f\"x value is {x} and x address {id(x)}\")\n",
    "print(f\"x value is {b} and x address {id(b)}\")\n",
    "\n",
    "b = 200\n",
    "\n",
    "print(f\"x value is {b} and x address is {id(b)}\")"
   ]
  },
  {
   "cell_type": "code",
   "execution_count": 12,
   "metadata": {},
   "outputs": [
    {
     "name": "stdout",
     "output_type": "stream",
     "text": [
      "x value is 7 and x address 140720519580280\n",
      "x value is 7 and x address 140720519580280\n",
      "x value is 200 and x address is 140720519586456\n"
     ]
    }
   ],
   "source": [
    "x : int = 7\n",
    "\n",
    "b : int = int(7)\n",
    "\n",
    "print(f\"x value is {x} and x address {id(x)}\")\n",
    "print(f\"x value is {b} and x address {id(b)}\")\n",
    "\n",
    "b = 200\n",
    "\n",
    "print(f\"x value is {b} and x address is {id(b)}\")"
   ]
  }
 ],
 "metadata": {
  "kernelspec": {
   "display_name": "Python 3",
   "language": "python",
   "name": "python3"
  },
  "language_info": {
   "codemirror_mode": {
    "name": "ipython",
    "version": 3
   },
   "file_extension": ".py",
   "mimetype": "text/x-python",
   "name": "python",
   "nbconvert_exporter": "python",
   "pygments_lexer": "ipython3",
   "version": "3.12.6"
  }
 },
 "nbformat": 4,
 "nbformat_minor": 2
}
