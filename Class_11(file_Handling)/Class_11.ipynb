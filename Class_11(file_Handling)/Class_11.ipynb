{
 "cells": [
  {
   "cell_type": "code",
   "execution_count": 2,
   "metadata": {},
   "outputs": [
    {
     "name": "stdout",
     "output_type": "stream",
     "text": [
      "list_b [1, 2, 3, 4]\n"
     ]
    }
   ],
   "source": [
    "list_a:list[int] = [1,2,3]\n",
    "list_b = list_a\n",
    "list_a.append(4)\n",
    "print(\"list_b\", list_a) # Output: list_b: [1,2,3,4]"
   ]
  },
  {
   "cell_type": "code",
   "execution_count": 3,
   "metadata": {},
   "outputs": [
    {
     "name": "stdout",
     "output_type": "stream",
     "text": [
      "num_b: 5\n"
     ]
    }
   ],
   "source": [
    "num_a:int = 5\n",
    "num_b = num_a\n",
    "num_a += 1\n",
    "print(\"num_b:\", num_b)"
   ]
  },
  {
   "cell_type": "markdown",
   "metadata": {},
   "source": [
    "# Addressing Changes without Function Call"
   ]
  },
  {
   "cell_type": "code",
   "execution_count": 5,
   "metadata": {},
   "outputs": [
    {
     "name": "stdout",
     "output_type": "stream",
     "text": [
      "Before Modification: 10 140719866645208\n",
      "After Modification: 11 140719866645240\n"
     ]
    }
   ],
   "source": [
    "x = 10\n",
    "print(\"Before Modification:\", x, id(x))\n",
    "x += 1\n",
    "print(\"After Modification:\", x, id(x))"
   ]
  },
  {
   "cell_type": "code",
   "execution_count": null,
   "metadata": {},
   "outputs": [
    {
     "name": "stdout",
     "output_type": "stream",
     "text": [
      "value start of function 5 address 140719866645048\n",
      "value end of function6 address 140719866645080\n",
      "value end of function 5 address of a 140719866645048\n"
     ]
    }
   ],
   "source": [
    "a : int = 5\n",
    "\n",
    "print(f\"First Assignment of variable value is {id(a)}\")\n",
    "\n",
    "def abc(num1:int)-> None:\n",
    "    print(f\"value start of function {num1} address {id(num1)}\")\n",
    "    num1 = 6\n",
    "    print(f\"value end of function{num1} address {id(num1)}\")\n",
    "\n",
    "abc(a) # Pass by value imutable\n",
    "\n",
    "print(f\"end of program variable value is {a} address of a {id(a)}\")"
   ]
  },
  {
   "cell_type": "code",
   "execution_count": 13,
   "metadata": {},
   "outputs": [
    {
     "name": "stdout",
     "output_type": "stream",
     "text": [
      "num1 value is [1, 2, 3, 4, 200]\n",
      "[1, 2, 3, 4, 200]\n"
     ]
    }
   ],
   "source": [
    "a: list[int] = [1,2,3,4]\n",
    "\n",
    "def abc(num1: list[int])->None:\n",
    "    num1.append(200)\n",
    "    print(f\"num1 value is\", num1)\n",
    "\n",
    "abc(a)\n",
    "print(a)"
   ]
  },
  {
   "cell_type": "code",
   "execution_count": 15,
   "metadata": {},
   "outputs": [
    {
     "name": "stdout",
     "output_type": "stream",
     "text": [
      "num1 value is [7, 200]\n",
      "[1, 2, 3, 4]\n"
     ]
    }
   ],
   "source": [
    "a: list[int] = [1,2,3,4]\n",
    "\n",
    "def abc(num1: list[int])->None:\n",
    "    num1 = [7]\n",
    "    num1.append(200)\n",
    "    print(f\"num1 value is\", num1)\n",
    "\n",
    "abc(a)\n",
    "print(a)"
   ]
  }
 ],
 "metadata": {
  "kernelspec": {
   "display_name": "Python 3",
   "language": "python",
   "name": "python3"
  },
  "language_info": {
   "codemirror_mode": {
    "name": "ipython",
    "version": 3
   },
   "file_extension": ".py",
   "mimetype": "text/x-python",
   "name": "python",
   "nbconvert_exporter": "python",
   "pygments_lexer": "ipython3",
   "version": "3.12.6"
  }
 },
 "nbformat": 4,
 "nbformat_minor": 2
}
