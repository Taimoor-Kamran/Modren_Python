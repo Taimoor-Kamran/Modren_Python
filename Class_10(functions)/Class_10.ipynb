{
 "cells": [
  {
   "cell_type": "markdown",
   "metadata": {},
   "source": [
    "# Function \n",
    "* pre-define function\n",
    "    * provided by in language\n",
    "* user-define function\n",
    "    * custom function\n",
    "## Similar properties on both typd\n",
    "* Return and None-return function\n",
    "    * Return\n",
    "        we can assign this function output in any variable\n",
    "    * None_Return\n",
    "        * only run we can't assign value to variable\n",
    "\n",
    "## components\n",
    "* function declaration\n",
    "* function body\n",
    "* function calling\n",
    "\n",
    "### Syntax function\n",
    "\n",
    "```\n",
    "def function_name(param1:type, param2:type,...)=>Return type:\n",
    "    function_body\n",
    "\n",
    "function_name(arg1, arg2)\n",
    "```\n",
    "\n",
    "### Syntax lambda function\n",
    "\n",
    "*   one line function\n",
    "*   without name\n",
    "*   only use in this line\n",
    "```\n",
    "lambda param1, param2 : function_body\n",
    "\n",
    "```\n"
   ]
  },
  {
   "cell_type": "markdown",
   "metadata": {},
   "source": [
    "## Pre-define function\n",
    "\n",
    "* print\n",
    "* len\n",
    "* id\n",
    "* dir\n",
    "* chr\n",
    "* ord\n",
    "* exec"
   ]
  },
  {
   "cell_type": "markdown",
   "metadata": {},
   "source": [
    "## Return and None-return function"
   ]
  },
  {
   "cell_type": "code",
   "execution_count": 1,
   "metadata": {},
   "outputs": [
    {
     "data": {
      "text/plain": [
       "'Pakistan'"
      ]
     },
     "metadata": {},
     "output_type": "display_data"
    }
   ],
   "source": [
    "a : str = \"Pakistan\"\n",
    "\n",
    "display(a)"
   ]
  },
  {
   "cell_type": "code",
   "execution_count": 3,
   "metadata": {},
   "outputs": [
    {
     "data": {
      "text/plain": [
       "8"
      ]
     },
     "metadata": {},
     "output_type": "display_data"
    }
   ],
   "source": [
    "a : int = len(\"pakistan\")\n",
    "\n",
    "display(a)"
   ]
  },
  {
   "cell_type": "markdown",
   "metadata": {},
   "source": [
    "## components\n",
    "* function declaration\n",
    "* function body\n",
    "* function calling\n",
    "\n",
    "```\n",
    "def function_name(param1:type, param2:type,...)=>Return type: declaration\n",
    "    function_body\n",
    "\n",
    "function_name(arg1, arg2)\n",
    "```"
   ]
  },
  {
   "cell_type": "markdown",
   "metadata": {},
   "source": [
    "# Create simple function any argument (default function)"
   ]
  },
  {
   "cell_type": "code",
   "execution_count": 8,
   "metadata": {},
   "outputs": [
    {
     "name": "stdout",
     "output_type": "stream",
     "text": [
      "PIAIC Generative Artifical Intelligence\n",
      "Python Crash Course\n"
     ]
    }
   ],
   "source": [
    "def piaic()->None:\n",
    "    # function body start\n",
    "    print(\"PIAIC Generative Artifical Intelligence\") # Statment 1\n",
    "    print(\"Python Crash Course\") # Statment 2\n",
    "    # function body end\n",
    "\n",
    "piaic()"
   ]
  },
  {
   "cell_type": "code",
   "execution_count": 9,
   "metadata": {},
   "outputs": [
    {
     "name": "stdout",
     "output_type": "stream",
     "text": [
      "PIAIC Generative Artifical Intelligence\n",
      "Python Crash Course\n",
      "PIAIC Generative Artifical Intelligence\n",
      "Python Crash Course\n"
     ]
    }
   ],
   "source": [
    "piaic()\n",
    "piaic()"
   ]
  },
  {
   "cell_type": "markdown",
   "metadata": {},
   "source": [
    "# Required parameters funciton"
   ]
  },
  {
   "cell_type": "code",
   "execution_count": null,
   "metadata": {},
   "outputs": [
    {
     "data": {
      "text/plain": [
       "27"
      ]
     },
     "execution_count": 10,
     "metadata": {},
     "output_type": "execute_result"
    }
   ],
   "source": [
    "#                   param1     param2\n",
    "\n",
    "def add_two_numbers(num1:int, num2:int,)->int:\n",
    "    return num1 + num2\n",
    "\n",
    "add_two_numbers(7, 20) # arg1, arg2"
   ]
  },
  {
   "cell_type": "markdown",
   "metadata": {},
   "source": [
    "# function with optional parameters"
   ]
  },
  {
   "cell_type": "code",
   "execution_count": 13,
   "metadata": {},
   "outputs": [
    {
     "name": "stdout",
     "output_type": "stream",
     "text": [
      "7 2\n"
     ]
    },
    {
     "data": {
      "text/plain": [
       "9"
      ]
     },
     "execution_count": 13,
     "metadata": {},
     "output_type": "execute_result"
    }
   ],
   "source": [
    "def add_two_numbers(num1: int, num2: int = 0) -> int:\n",
    "    print(num1, num2)\n",
    "    return num1 + num2\n",
    "\n",
    "add_two_numbers(7, 2)"
   ]
  },
  {
   "cell_type": "markdown",
   "metadata": {},
   "source": [
    "\n",
    "### Syntax lambda function\n",
    "\n",
    "*   one line function\n",
    "*   without name\n",
    "*   only use in this line\n",
    "```\n",
    "lambda param1, param2 : function_body\n",
    "\n",
    "```"
   ]
  },
  {
   "cell_type": "code",
   "execution_count": 15,
   "metadata": {},
   "outputs": [
    {
     "data": {
      "text/plain": [
       "15"
      ]
     },
     "execution_count": 15,
     "metadata": {},
     "output_type": "execute_result"
    }
   ],
   "source": [
    "a = lambda num1, num2 : num1 + num2\n",
    "\n",
    "a(7,8)"
   ]
  },
  {
   "cell_type": "code",
   "execution_count": 18,
   "metadata": {},
   "outputs": [
    {
     "data": {
      "text/plain": [
       "[1, 4, 9, 16, 25, 36, 49, 64, 81, 100]"
      ]
     },
     "execution_count": 18,
     "metadata": {},
     "output_type": "execute_result"
    }
   ],
   "source": [
    "data: list[int] = [1,2,3,4,5,6,7,8,9,10]\n",
    "\n",
    "data = list(map(lambda x:x**2, data))\n",
    "\n",
    "data"
   ]
  },
  {
   "cell_type": "code",
   "execution_count": 20,
   "metadata": {},
   "outputs": [
    {
     "data": {
      "text/plain": [
       "[2, 4, 6, 8, 10]"
      ]
     },
     "execution_count": 20,
     "metadata": {},
     "output_type": "execute_result"
    }
   ],
   "source": [
    "data: list[int] = [1,2,3,4,5,6,7,8,9,10]\n",
    "\n",
    "data = list(filter(lambda x:x%2==0, data))\n",
    "\n",
    "data"
   ]
  },
  {
   "cell_type": "code",
   "execution_count": 21,
   "metadata": {},
   "outputs": [
    {
     "name": "stdout",
     "output_type": "stream",
     "text": [
      "30\n"
     ]
    }
   ],
   "source": [
    "from typing import Callable\n",
    "\n",
    "add: Callable[[int, int], int] = lambda x, y: x + y\n",
    "result = add(10, 20) # result will be 30\n",
    "print(result)"
   ]
  },
  {
   "cell_type": "markdown",
   "metadata": {},
   "source": [
    "## Generator Function\n",
    "* iterate on element one by one\n",
    "* stop after each iteration\n",
    "* remember old iteration value (last iterate value )\n",
    "* next iterate\n",
    "    * go farward from last iterate value"
   ]
  },
  {
   "cell_type": "code",
   "execution_count": 30,
   "metadata": {},
   "outputs": [
    {
     "name": "stdout",
     "output_type": "stream",
     "text": [
      "<generator object my_range at 0x0000029015C23B50>\n"
     ]
    }
   ],
   "source": [
    "## Generator Function\n",
    "def my_range(start:int, end:int, step: int= 1):\n",
    "    for i in range(start, end+1, step):\n",
    "        yield i # Generator fucntion\n",
    "\n",
    "a = my_range(1, 10)\n",
    "print(a)\n",
    "# print(list(a))\n",
    "\n"
   ]
  },
  {
   "cell_type": "code",
   "execution_count": null,
   "metadata": {},
   "outputs": [
    {
     "name": "stdout",
     "output_type": "stream",
     "text": [
      "<generator object my_range at 0x0000029015CF22F0>\n",
      "1\n",
      "2\n",
      "3\n",
      "4\n"
     ]
    }
   ],
   "source": [
    "a = my_range(1, 10)\n",
    "print(a)\n",
    "print(next(a))\n",
    "print(next(a))\n",
    "print(next(a))\n",
    "print(next(a))\n",
    "print(next(\"Pakistan\"))\n",
    "print(next(a))"
   ]
  }
 ],
 "metadata": {
  "kernelspec": {
   "display_name": "my-app",
   "language": "python",
   "name": "python3"
  },
  "language_info": {
   "codemirror_mode": {
    "name": "ipython",
    "version": 3
   },
   "file_extension": ".py",
   "mimetype": "text/x-python",
   "name": "python",
   "nbconvert_exporter": "python",
   "pygments_lexer": "ipython3",
   "version": "3.12.0"
  }
 },
 "nbformat": 4,
 "nbformat_minor": 2
}
