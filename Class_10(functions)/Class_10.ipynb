{
 "cells": [
  {
   "cell_type": "markdown",
   "metadata": {},
   "source": [
    "# Function \n",
    "* pre-define function\n",
    "    * provided by in language\n",
    "* user-define function\n",
    "    * custom function\n",
    "## Similar properties on both typd\n",
    "* Return and None-return function\n",
    "    * Return\n",
    "        we can assign this function output in any variable\n",
    "    * None_Return\n",
    "        * only run we can't assign value to variable\n",
    "\n",
    "## components\n",
    "* function declaration\n",
    "* function body\n",
    "* function calling\n",
    "\n",
    "```\n",
    "def function_name(param1:type, param2:type,...)=>Return type:\n",
    "    function_body\n",
    "\n",
    "function_name(arg1, arg2)\n",
    "```"
   ]
  }
 ],
 "metadata": {
  "language_info": {
   "name": "python"
  }
 },
 "nbformat": 4,
 "nbformat_minor": 2
}
