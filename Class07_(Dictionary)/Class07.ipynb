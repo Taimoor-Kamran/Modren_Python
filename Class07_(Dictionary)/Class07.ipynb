{
 "cells": [
  {
   "cell_type": "code",
   "execution_count": 1,
   "metadata": {},
   "outputs": [
    {
     "data": {
      "text/plain": [
       "'Taimoor'"
      ]
     },
     "execution_count": 1,
     "metadata": {},
     "output_type": "execute_result"
    }
   ],
   "source": [
    "# List\n",
    "\n",
    "data: list[str] = [\"Kamran\", \"Taimoor\", \"MSDS\"]\n",
    "\n",
    "data[1]"
   ]
  },
  {
   "cell_type": "code",
   "execution_count": 3,
   "metadata": {},
   "outputs": [
    {
     "name": "stdout",
     "output_type": "stream",
     "text": [
      "{1, 2, 3, 4, 5, 7, 10}\n"
     ]
    }
   ],
   "source": [
    "data: set = {7,1,2,5,4,3,5,10,1,2,1,1,1,3,3,2,1}\n",
    "\n",
    "print(data)"
   ]
  },
  {
   "cell_type": "code",
   "execution_count": 8,
   "metadata": {},
   "outputs": [
    {
     "data": {
      "text/plain": [
       "['clear',\n",
       " 'copy',\n",
       " 'fromkeys',\n",
       " 'get',\n",
       " 'items',\n",
       " 'keys',\n",
       " 'pop',\n",
       " 'popitem',\n",
       " 'setdefault',\n",
       " 'update',\n",
       " 'values']"
      ]
     },
     "execution_count": 8,
     "metadata": {},
     "output_type": "execute_result"
    }
   ],
   "source": [
    "[i for i in dir(data) if \"__\" not in i]"
   ]
  },
  {
   "cell_type": "markdown",
   "metadata": {},
   "source": [
    "# Dictionary\n",
    "* key:value (items)\n",
    "    * key replacement of indexes\n",
    "    * value item\n",
    "\n",
    "* dict_variable[key]\n",
    "    * dict_variable[new_key] = new_value\n",
    "        * add new value\n",
    "        * update value"
   ]
  },
  {
   "cell_type": "code",
   "execution_count": 13,
   "metadata": {},
   "outputs": [
    {
     "name": "stdout",
     "output_type": "stream",
     "text": [
      "{'education': 'MSDS', 'fname': 'Kamran ', 'name': 'Taimoor'}\n"
     ]
    }
   ],
   "source": [
    "from typing import Dict\n",
    "import pprint\n",
    "# List                  \n",
    "data: Dict[str,str] = {\"fname\": \"Kamran \",\n",
    "                        \"name\" : \"Taimoor\", \n",
    "                        \"education\" : \"MSDS\"\n",
    "                        }\n",
    "\n",
    "pprint.pprint(data)\n"
   ]
  },
  {
   "cell_type": "code",
   "execution_count": 12,
   "metadata": {},
   "outputs": [
    {
     "name": "stdout",
     "output_type": "stream",
     "text": [
      "{'education': 'MSDS', 'fname': 'Kamran', 'name': 'Taimoor'}\n"
     ]
    }
   ],
   "source": [
    "from typing import Dict, Union, Optional\n",
    "import pprint\n",
    "# List     \n",
    "\n",
    "key = Union[int, str] # create custom tyep\n",
    "Value = Union[int, str, list, dict, tuple, set]\n",
    "\n",
    "\n",
    "data: Dict[key,Value] = {\"fname\": \"Kamran\",\n",
    "                        \"name\" : \"Taimoor\", \n",
    "                        \"education\" : \"MSDS\"\n",
    "                        }\n",
    "\n",
    "pprint.pprint(data)\n"
   ]
  },
  {
   "cell_type": "code",
   "execution_count": null,
   "metadata": {},
   "outputs": [
    {
     "name": "stdout",
     "output_type": "stream",
     "text": [
      "{100: 'Pakistan', 'education': 'MSDS', 'fname': 'Kamran', 'name': 'Taimoor'}\n",
      "Taimoor\n",
      "Kamran\n",
      "MSDS\n"
     ]
    }
   ],
   "source": [
    "from typing import Dict, Union, Optional\n",
    "import pprint\n",
    "# List     \n",
    "\n",
    "key = Union[int, str] # create custom tyep\n",
    "Value = Union[int, str, list, dict, tuple, set]\n",
    "\n",
    "\n",
    "data: Dict[key,Value] = {\"fname\": \"Kamran\",\n",
    "                        \"name\" : \"Taimoor\", \n",
    "                        \"education\" : \"MSDS\",\n",
    "                        100 : \"Pakistan\"\n",
    "                        }\n",
    "\n",
    "pprint.pprint(data)\n",
    "print(data[\"name\"])\n",
    "print(data[\"fname\"])\n",
    "print(data[\"education\"])\n",
    "print(data[0]) # index = key"
   ]
  },
  {
   "cell_type": "code",
   "execution_count": 5,
   "metadata": {},
   "outputs": [
    {
     "name": "stdout",
     "output_type": "stream",
     "text": [
      "{'abc': [1, 2, 3],\n",
      " 'cde': {'a': 1, 'b': 2},\n",
      " 'education': 'MSDS',\n",
      " 'efg': (1, 2, 3),\n",
      " 'fname': 'Kamran',\n",
      " 'name': 'Taimoor',\n",
      " 'xyz': {1, 2, 3}}\n",
      "Taimoor\n",
      "Kamran\n",
      "MSDS\n"
     ]
    }
   ],
   "source": [
    "from typing import Dict, Union, Optional\n",
    "import pprint\n",
    "# List     \n",
    "\n",
    "key = Union[int, str] # create custom tyep\n",
    "Value = Union[int, str, list, dict, tuple, set]\n",
    "\n",
    "\n",
    "data: Dict[key,Value] = {\"fname\": \"Kamran\",\n",
    "                        \"name\" : \"Taimoor\", \n",
    "                        \"education\" : \"MSDS\",\n",
    "                        \"abc\": [1,2,3],\n",
    "                        \"xyz\": {1,2,3},\n",
    "                        \"efg\": (1,2,3),\n",
    "                        \"cde\": {\"a\":1, \"b\":2}\n",
    "                        # [0,1,2] : \"Pakistan\" # error\n",
    "                        # (0,1,2) : \"Pakistan\" # error\n",
    "                        # {0,1,2} : \"Pakistan\" # error\n",
    "                        }\n",
    "\n",
    "pprint.pprint(data)\n",
    "print(data[\"name\"])\n",
    "print(data[\"fname\"])\n",
    "print(data[\"education\"])\n",
    "# print(data[0]) # index = key"
   ]
  },
  {
   "cell_type": "code",
   "execution_count": 15,
   "metadata": {},
   "outputs": [
    {
     "data": {
      "text/plain": [
       "1"
      ]
     },
     "execution_count": 15,
     "metadata": {},
     "output_type": "execute_result"
    }
   ],
   "source": [
    "from typing import Dict, Union, Optional\n",
    "import pprint\n",
    "# List     \n",
    "\n",
    "key = Union[int, str] # create custom tyep\n",
    "Value = Union[int, str, list, dict, tuple, set]\n",
    "\n",
    "\n",
    "data: Dict[key,Value] = {\"fname\": \"Kamran\",\n",
    "                        \"name\" : \"Taimoor\", \n",
    "                        \"education\" : \"MSDS\",\n",
    "                        \"abc\": [1,2,3],\n",
    "                        \"xyz\": {1,2,3},\n",
    "                        \"efg\": (1,2,3),\n",
    "                        \"cde\": {\"a\":1, \"b\":2}\n",
    "                        # [0,1,2] : \"Pakistan\" # error\n",
    "                        # (0,1,2) : \"Pakistan\" # error\n",
    "                        # {0,1,2} : \"Pakistan\" # error\n",
    "                        }\n",
    "\n",
    "\n",
    "data['efg'][0]"
   ]
  },
  {
   "cell_type": "code",
   "execution_count": 17,
   "metadata": {},
   "outputs": [
    {
     "name": "stdout",
     "output_type": "stream",
     "text": [
      "{'name': 'Taimoor', 'fname': 'Kamran', 'education': 'Intermdiate'}\n"
     ]
    }
   ],
   "source": [
    "from typing import Dict, Union, Optional\n",
    "import pprint\n",
    "# List     \n",
    "\n",
    "key = Union[int, str] # create custom tyep\n",
    "Value = Union[int, str, list, dict, tuple, set]\n",
    "\n",
    "data:dict[key, Value] = {}\n",
    "\n",
    "data['name'] = \"Taimoor\"\n",
    "data['fname'] = \"Kamran\"\n",
    "data[\"education\"] = \"Intermdiate\"\n",
    "\n",
    "print(data)"
   ]
  },
  {
   "cell_type": "code",
   "execution_count": null,
   "metadata": {},
   "outputs": [
    {
     "name": "stdout",
     "output_type": "stream",
     "text": [
      "{'fname': 'Kamran', 'name': 'Taimoor', 'education': 'MSDS'}\n",
      "{'fname': 'Kamran', 'name': 'Sameer', 'education': 'MSDS'}\n"
     ]
    }
   ],
   "source": [
    "from typing import Dict, Union, Optional\n",
    "import pprint\n",
    "# List     \n",
    "\n",
    "key = Union[int, str] # create custom tyep\n",
    "Value = Union[int, str, list, dict, tuple, set]\n",
    "\n",
    "data: Dict[key,Value] = {\"name\" : \"Taimoor\",\n",
    "                         \"fname\": \"Kamran\",\n",
    "                        \"education\" : \"MSDS\",}\n",
    "\n",
    "print(data)\n",
    "\n",
    "data[\"name\"] = \"Sameer\"\n",
    "\n",
    "print(data)"
   ]
  },
  {
   "cell_type": "code",
   "execution_count": 21,
   "metadata": {},
   "outputs": [
    {
     "name": "stdout",
     "output_type": "stream",
     "text": [
      "NA\n",
      "Taimoor\n"
     ]
    },
    {
     "data": {
      "text/plain": [
       "['clear',\n",
       " 'copy',\n",
       " 'fromkeys',\n",
       " 'get',\n",
       " 'items',\n",
       " 'keys',\n",
       " 'pop',\n",
       " 'popitem',\n",
       " 'setdefault',\n",
       " 'update',\n",
       " 'values']"
      ]
     },
     "execution_count": 21,
     "metadata": {},
     "output_type": "execute_result"
    }
   ],
   "source": [
    "from typing import Dict, Union, Optional\n",
    "import pprint\n",
    "# List     \n",
    "\n",
    "key = Union[int, str] # create custom tyep\n",
    "Value = Union[int, str, list, dict, tuple, set]\n",
    "\n",
    "data: Dict[key,Value] = {\"name\" : \"Taimoor\",\n",
    "                         \"fname\": \"Kamran\",\n",
    "                        \"education\" : \"MSDS\",}\n",
    "\n",
    "print(data.get(\"Pakistan\", \"NA\"))\n",
    "print(data.get(\"name\", \"NA\"))\n",
    "\n",
    "[i for i in dir(data) if \"__\" not in i]"
   ]
  },
  {
   "cell_type": "code",
   "execution_count": 22,
   "metadata": {},
   "outputs": [
    {
     "name": "stdout",
     "output_type": "stream",
     "text": [
      "name\n",
      "fname\n",
      "education\n"
     ]
    }
   ],
   "source": [
    "from typing import Dict, Union, Optional\n",
    "import pprint\n",
    "# List     \n",
    "\n",
    "key = Union[int, str] # create custom tyep\n",
    "Value = Union[int, str, list, dict, tuple, set]\n",
    "\n",
    "data: Dict[key,Value] = {\"name\" : \"Taimoor\",\n",
    "                         \"fname\": \"Kamran\",\n",
    "                        \"education\" : \"MSDS\",}\n",
    "\n",
    "for d in data:\n",
    "    print(d)\n",
    "\n",
    "# [i for i in dir(data) if \"__\" not in i]"
   ]
  },
  {
   "cell_type": "code",
   "execution_count": 33,
   "metadata": {},
   "outputs": [
    {
     "name": "stdout",
     "output_type": "stream",
     "text": [
      "name Taimoor\n",
      "fname Kamran\n",
      "education MSDS\n",
      "dict_keys(['name', 'fname', 'education'])\n",
      "dict_values(['Taimoor', 'Kamran', 'MSDS'])\n",
      "dict_items([('name', 'Taimoor'), ('fname', 'Kamran'), ('education', 'MSDS')])\n"
     ]
    }
   ],
   "source": [
    "from typing import Dict, Union, Optional\n",
    "import pprint\n",
    "# List     \n",
    "\n",
    "key = Union[int, str] # create custom tyep\n",
    "Value = Union[int, str, list, dict, tuple, set]\n",
    "\n",
    "data: Dict[key,Value] = {\"name\" : \"Taimoor\",\n",
    "                         \"fname\": \"Kamran\",\n",
    "                        \"education\" : \"MSDS\",}\n",
    "\n",
    "for k in data.keys():\n",
    "    print(k, data[k])\n",
    "\n",
    "print(data.keys())\n",
    "print(data.values())\n",
    "print(data.items())"
   ]
  },
  {
   "cell_type": "code",
   "execution_count": 34,
   "metadata": {},
   "outputs": [
    {
     "name": "stdout",
     "output_type": "stream",
     "text": [
      "dict_keys(['name', 'fname', 'education'])\n",
      "dict_values(['Taimoor', 'Kamran', 'MSDS'])\n",
      "dict_items([('name', 'Taimoor'), ('fname', 'Kamran'), ('education', 'MSDS')])\n",
      "Taimoor\n",
      "Kamran\n",
      "MSDS\n"
     ]
    }
   ],
   "source": [
    "from typing import Dict, Union, Optional\n",
    "import pprint\n",
    "# List     \n",
    "\n",
    "key = Union[int, str] # create custom tyep\n",
    "Value = Union[int, str, list, dict, tuple, set]\n",
    "\n",
    "data: Dict[key,Value] = {\"name\" : \"Taimoor\",\n",
    "                         \"fname\": \"Kamran\",\n",
    "                        \"education\" : \"MSDS\",}\n",
    "\n",
    "print(data.keys())\n",
    "print(data.values())\n",
    "print(data.items())\n",
    "\n",
    "for v in data.values():\n",
    "    print(v)\n"
   ]
  },
  {
   "cell_type": "code",
   "execution_count": 36,
   "metadata": {},
   "outputs": [
    {
     "name": "stdout",
     "output_type": "stream",
     "text": [
      "dict_keys(['name', 'fname', 'education'])\n",
      "dict_values(['Taimoor', 'Kamran', 'MSDS'])\n",
      "dict_items([('name', 'Taimoor'), ('fname', 'Kamran'), ('education', 'MSDS')])\n",
      "name Taimoor\n",
      "fname Kamran\n",
      "education MSDS\n"
     ]
    }
   ],
   "source": [
    "from typing import Dict, Union, Optional\n",
    "import pprint\n",
    "# List     \n",
    "\n",
    "key = Union[int, str] # create custom tyep\n",
    "Value = Union[int, str, list, dict, tuple, set]\n",
    "\n",
    "data: Dict[key,Value] = {\"name\" : \"Taimoor\",\n",
    "                         \"fname\": \"Kamran\",\n",
    "                        \"education\" : \"MSDS\",}\n",
    "\n",
    "print(data.keys())\n",
    "print(data.values())\n",
    "print(data.items())\n",
    "\n",
    "\n",
    "for k, v in data.items():\n",
    "    print(k, v)"
   ]
  },
  {
   "cell_type": "code",
   "execution_count": 39,
   "metadata": {},
   "outputs": [
    {
     "data": {
      "text/plain": [
       "{'Taimoor': 'name', 'Kamran': 'fname', 'MSDS': 'education'}"
      ]
     },
     "execution_count": 39,
     "metadata": {},
     "output_type": "execute_result"
    }
   ],
   "source": [
    "{k:v for v,k in data.items()}"
   ]
  },
  {
   "cell_type": "code",
   "execution_count": 41,
   "metadata": {},
   "outputs": [
    {
     "name": "stdout",
     "output_type": "stream",
     "text": [
      "9 7\n"
     ]
    }
   ],
   "source": [
    "a : int  = 7\n",
    "b : int  = 9\n",
    "\n",
    "a, b = b, a\n",
    "\n",
    "print(a, b)"
   ]
  },
  {
   "cell_type": "code",
   "execution_count": null,
   "metadata": {},
   "outputs": [],
   "source": [
    "keys: list[str] = ['id', 'name', 'fname', 'course']\n",
    "\n",
    "data: dict[key, Value] = {}"
   ]
  },
  {
   "cell_type": "code",
   "execution_count": null,
   "metadata": {},
   "outputs": [],
   "source": []
  }
 ],
 "metadata": {
  "kernelspec": {
   "display_name": "my-app",
   "language": "python",
   "name": "python3"
  },
  "language_info": {
   "codemirror_mode": {
    "name": "ipython",
    "version": 3
   },
   "file_extension": ".py",
   "mimetype": "text/x-python",
   "name": "python",
   "nbconvert_exporter": "python",
   "pygments_lexer": "ipython3",
   "version": "3.12.0"
  }
 },
 "nbformat": 4,
 "nbformat_minor": 2
}
