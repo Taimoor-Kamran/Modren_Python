{
 "cells": [
  {
   "cell_type": "code",
   "execution_count": 14,
   "metadata": {},
   "outputs": [
    {
     "data": {
      "text/plain": [
       "'Taimoor'"
      ]
     },
     "execution_count": 14,
     "metadata": {},
     "output_type": "execute_result"
    }
   ],
   "source": [
    "# List\n",
    "\n",
    "data: list[str] = [\"Kamran\", \"Taimoor\", \"MSDS\"]\n",
    "\n",
    "data[1]"
   ]
  },
  {
   "cell_type": "markdown",
   "metadata": {},
   "source": [
    "# Dictionary\n",
    "* key:value (items)\n",
    "    * key replacement of indexes\n",
    "    * value item\n",
    "\n",
    "* dict_variable[key]\n",
    "    * dict_variable[new_key] = new_value\n",
    "        * add new value\n",
    "        * update value"
   ]
  },
  {
   "cell_type": "code",
   "execution_count": 13,
   "metadata": {},
   "outputs": [
    {
     "name": "stdout",
     "output_type": "stream",
     "text": [
      "{'education': 'MSDS', 'fname': 'Kamran ', 'name': 'Taimoor'}\n"
     ]
    }
   ],
   "source": [
    "from typing import Dict\n",
    "import pprint\n",
    "# List                  \n",
    "data: Dict[str,str] = {\"fname\": \"Kamran \",\n",
    "                        \"name\" : \"Taimoor\", \n",
    "                        \"education\" : \"MSDS\"\n",
    "                        }\n",
    "\n",
    "pprint.pprint(data)\n"
   ]
  },
  {
   "cell_type": "code",
   "execution_count": 12,
   "metadata": {},
   "outputs": [
    {
     "name": "stdout",
     "output_type": "stream",
     "text": [
      "{'education': 'MSDS', 'fname': 'Kamran', 'name': 'Taimoor'}\n"
     ]
    }
   ],
   "source": [
    "from typing import Dict, Union, Optional\n",
    "import pprint\n",
    "# List     \n",
    "\n",
    "key = Union[int, str] # create custom tyep\n",
    "Value = Union[int, str, list, dict, tuple, set]\n",
    "\n",
    "\n",
    "data: Dict[key,Value] = {\"fname\": \"Kamran\",\n",
    "                        \"name\" : \"Taimoor\", \n",
    "                        \"education\" : \"MSDS\"\n",
    "                        }\n",
    "\n",
    "pprint.pprint(data)\n"
   ]
  },
  {
   "cell_type": "code",
   "execution_count": null,
   "metadata": {},
   "outputs": [
    {
     "name": "stdout",
     "output_type": "stream",
     "text": [
      "{100: 'Pakistan', 'education': 'MSDS', 'fname': 'Kamran', 'name': 'Taimoor'}\n",
      "Taimoor\n",
      "Kamran\n",
      "MSDS\n"
     ]
    }
   ],
   "source": [
    "from typing import Dict, Union, Optional\n",
    "import pprint\n",
    "# List     \n",
    "\n",
    "key = Union[int, str] # create custom tyep\n",
    "Value = Union[int, str, list, dict, tuple, set]\n",
    "\n",
    "\n",
    "data: Dict[key,Value] = {\"fname\": \"Kamran\",\n",
    "                        \"name\" : \"Taimoor\", \n",
    "                        \"education\" : \"MSDS\",\n",
    "                        100 : \"Pakistan\"\n",
    "                        }\n",
    "\n",
    "pprint.pprint(data)\n",
    "print(data[\"name\"])\n",
    "print(data[\"fname\"])\n",
    "print(data[\"education\"])\n",
    "print(data[0]) # index = key"
   ]
  }
 ],
 "metadata": {
  "kernelspec": {
   "display_name": "my-app",
   "language": "python",
   "name": "python3"
  },
  "language_info": {
   "codemirror_mode": {
    "name": "ipython",
    "version": 3
   },
   "file_extension": ".py",
   "mimetype": "text/x-python",
   "name": "python",
   "nbconvert_exporter": "python",
   "pygments_lexer": "ipython3",
   "version": "3.12.0"
  }
 },
 "nbformat": 4,
 "nbformat_minor": 2
}
