{
 "cells": [
  {
   "cell_type": "code",
   "execution_count": 2,
   "metadata": {},
   "outputs": [],
   "source": [
    "# List\n",
    "\n",
    "data: list[str] = [\"Kamran Sattar\", \"Taimoor Kamran\", \"MSDS\"]"
   ]
  },
  {
   "cell_type": "markdown",
   "metadata": {},
   "source": [
    "# Dictionary\n",
    "* key:value (items)\n",
    "    * key replacement of indexes\n",
    "    * value item\n",
    "\n",
    "* dict_variable[key]\n",
    "    * dict_variable[new_key] = new_value\n",
    "        * add new value\n",
    "        * update value"
   ]
  },
  {
   "cell_type": "code",
   "execution_count": null,
   "metadata": {},
   "outputs": [
    {
     "data": {
      "text/plain": [
       "{'fname': 'Kamran Sattar', 'name': 'Taimoor Kamran', 'education': 'MSDS'}"
      ]
     },
     "metadata": {},
     "output_type": "display_data"
    }
   ],
   "source": [
    "from typing import Dict\n",
    "import pprint\n",
    "# List                  \n",
    "data: Dict[str,str] = {\"fname\": \"Kamran Sattar\",\n",
    "                        \"name\" : \"Taimoor Kamran\", \n",
    "                        \"education\" : \"MSDS\"\n",
    "                        }\n",
    "\n",
    "pprint.pprint(data)\n"
   ]
  }
 ],
 "metadata": {
  "kernelspec": {
   "display_name": "my-app",
   "language": "python",
   "name": "python3"
  },
  "language_info": {
   "codemirror_mode": {
    "name": "ipython",
    "version": 3
   },
   "file_extension": ".py",
   "mimetype": "text/x-python",
   "name": "python",
   "nbconvert_exporter": "python",
   "pygments_lexer": "ipython3",
   "version": "3.12.0"
  }
 },
 "nbformat": 4,
 "nbformat_minor": 2
}
