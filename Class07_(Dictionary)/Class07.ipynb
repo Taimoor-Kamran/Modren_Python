{
 "cells": [
  {
   "cell_type": "code",
   "execution_count": 7,
   "metadata": {},
   "outputs": [
    {
     "data": {
      "text/plain": [
       "'Taimoor Kamran'"
      ]
     },
     "execution_count": 7,
     "metadata": {},
     "output_type": "execute_result"
    }
   ],
   "source": [
    "# List\n",
    "\n",
    "data: list[str] = [\"Kamran Sattar\", \"Taimoor Kamran\", \"MSDS\"]\n",
    "\n",
    "data[1]"
   ]
  },
  {
   "cell_type": "markdown",
   "metadata": {},
   "source": [
    "# Dictionary\n",
    "* key:value (items)\n",
    "    * key replacement of indexes\n",
    "    * value item\n",
    "\n",
    "* dict_variable[key]\n",
    "    * dict_variable[new_key] = new_value\n",
    "        * add new value\n",
    "        * update value"
   ]
  },
  {
   "cell_type": "code",
   "execution_count": 5,
   "metadata": {},
   "outputs": [
    {
     "name": "stdout",
     "output_type": "stream",
     "text": [
      "{'education': 'MSDS', 'fname': 'Kamran Sattar', 'name': 'Taimoor Kamran'}\n"
     ]
    }
   ],
   "source": [
    "from typing import Dict\n",
    "import pprint\n",
    "# List                  \n",
    "data: Dict[str,str] = {\"fname\": \"Kamran Sattar\",\n",
    "                        \"name\" : \"Taimoor Kamran\", \n",
    "                        \"education\" : \"MSDS\"\n",
    "                        }\n",
    "\n",
    "pprint.pprint(data)\n"
   ]
  },
  {
   "cell_type": "code",
   "execution_count": 6,
   "metadata": {},
   "outputs": [
    {
     "name": "stdout",
     "output_type": "stream",
     "text": [
      "{'education': 'MSDS', 'fname': 'Kamran Sattar', 'name': 'Taimoor Kamran'}\n"
     ]
    }
   ],
   "source": [
    "from typing import Dict, Union, Optional\n",
    "import pprint\n",
    "# List     \n",
    "\n",
    "key = Union[int, str] # create custom tyep\n",
    "Value = Union[int, str, list, dict, tuple, set]\n",
    "\n",
    "\n",
    "data: Dict[key,Value] = {\"fname\": \"Kamran Sattar\",\n",
    "                        \"name\" : \"Taimoor Kamran\", \n",
    "                        \"education\" : \"MSDS\"\n",
    "                        }\n",
    "\n",
    "pprint.pprint(data)\n"
   ]
  },
  {
   "cell_type": "code",
   "execution_count": null,
   "metadata": {},
   "outputs": [
    {
     "name": "stdout",
     "output_type": "stream",
     "text": [
      "{'education': 'MSDS', 'fname': 'Kamran Sattar', 'name': 'Taimoor Kamran'}\n",
      "Taimoor Kamran\n"
     ]
    }
   ],
   "source": [
    "from typing import Dict, Union, Optional\n",
    "import pprint\n",
    "# List     \n",
    "\n",
    "key = Union[int, str] # create custom tyep\n",
    "Value = Union[int, str, list, dict, tuple, set]\n",
    "\n",
    "\n",
    "data: Dict[key,Value] = {\"fname\": \"Kamran Sattar\",\n",
    "                        \"name\" : \"Taimoor Kamran\", \n",
    "                        \"education\" : \"MSDS\"\n",
    "                        }\n",
    "\n",
    "pprint.pprint(data)\n",
    "print(data[\"name\"])\n",
    "print(data[\"fname\"])\n",
    "print(data[\"name\"])"
   ]
  }
 ],
 "metadata": {
  "kernelspec": {
   "display_name": "my-app",
   "language": "python",
   "name": "python3"
  },
  "language_info": {
   "codemirror_mode": {
    "name": "ipython",
    "version": 3
   },
   "file_extension": ".py",
   "mimetype": "text/x-python",
   "name": "python",
   "nbconvert_exporter": "python",
   "pygments_lexer": "ipython3",
   "version": "3.12.0"
  }
 },
 "nbformat": 4,
 "nbformat_minor": 2
}
