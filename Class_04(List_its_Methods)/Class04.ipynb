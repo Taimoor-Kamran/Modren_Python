{
 "cells": [
  {
   "cell_type": "code",
   "execution_count": null,
   "metadata": {},
   "outputs": [],
   "source": [
    "name1 : str = \"Sir Zia Khan\"\n",
    "name2 : str = \"Sir Ameen Alam\"\n",
    "name3 : str = \"Sir Qasim\""
   ]
  },
  {
   "cell_type": "markdown",
   "metadata": {},
   "source": [
    "# List\n",
    "* dynamic length\n",
    "* hetrogenous data types (Multiple type)\n",
    "* index\n",
    "    * postive 0 to n-1 \n",
    "    * negative -1 to length"
   ]
  },
  {
   "cell_type": "code",
   "execution_count": null,
   "metadata": {},
   "outputs": [
    {
     "name": "stdout",
     "output_type": "stream",
     "text": [
      "Sir Qaism\n"
     ]
    }
   ],
   "source": [
    "names : list[str] = [\"Sir Zia Khan\", \"Sir Ameen Alam\", \"Sir Qaism\", \"Sir Hamza Alvi\", \"Sir Bilal Attari\", \"Sir Uzair\", \"Sir Osama\"]\n",
    "print(names[-1])"
   ]
  }
 ],
 "metadata": {
  "kernelspec": {
   "display_name": "my-app",
   "language": "python",
   "name": "python3"
  },
  "language_info": {
   "codemirror_mode": {
    "name": "ipython",
    "version": 3
   },
   "file_extension": ".py",
   "mimetype": "text/x-python",
   "name": "python",
   "nbconvert_exporter": "python",
   "pygments_lexer": "ipython3",
   "version": "3.12.0"
  }
 },
 "nbformat": 4,
 "nbformat_minor": 2
}
