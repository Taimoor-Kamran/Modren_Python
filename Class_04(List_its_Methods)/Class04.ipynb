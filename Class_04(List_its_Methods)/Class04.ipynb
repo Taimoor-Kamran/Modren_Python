{
 "cells": [
  {
   "cell_type": "code",
   "execution_count": null,
   "metadata": {},
   "outputs": [],
   "source": [
    "name1 : str = \"Sir Zia Khan\"\n",
    "name2 : str = \"Sir Ameen Alam\"\n",
    "name3 : str = \"Sir Qasim\""
   ]
  },
  {
   "cell_type": "markdown",
   "metadata": {},
   "source": [
    "# List\n",
    "* dynamic length\n",
    "* hetrogenous data types (Multiple type)\n",
    "* index\n",
    "    * postive 0 to n-1 \n",
    "    * negative -1 to length\n",
    "* Slicing\n",
    "    * variable : `names[start:end:step]`\n",
    "    * start : int = include\n",
    "    * end : int = n-1\n",
    "    * step : int = sequence"
   ]
  },
  {
   "cell_type": "code",
   "execution_count": 5,
   "metadata": {},
   "outputs": [
    {
     "name": "stdout",
     "output_type": "stream",
     "text": [
      "Sir Uzair\n"
     ]
    }
   ],
   "source": [
    "names : list[str] = [\"Sir Zia Khan\", \"Sir Ameen Alam\", \"Sir Qaism\", \"Sir Hamza Alvi\", \"Sir Bilal Attari\", \"Sir Uzair\", \"Sir Osama\"]\n",
    "print(names[-2])"
   ]
  },
  {
   "cell_type": "code",
   "execution_count": 20,
   "metadata": {},
   "outputs": [
    {
     "name": "stdout",
     "output_type": "stream",
     "text": [
      "<class 'list'>\n",
      "<class 'int'>\n",
      "Founder of PIAIC SIR ZIA KHAN\n"
     ]
    }
   ],
   "source": [
    "from typing import Any\n",
    "\n",
    "# ->                    0                     1             2\n",
    "\n",
    "names : list[Any] = [\"Sir Ameen Alma\", \"Sir Zia Khan\", \"Sir Qasim\" , 20 , True]\n",
    "\n",
    "# <-                    -3                  -2              -1\n",
    "\n",
    "\n",
    "print(type(names))\n",
    "print(type(names[-2]))\n",
    "\n",
    "print(f'Founder of PIAIC {names[-4].upper()}')"
   ]
  },
  {
   "cell_type": "code",
   "execution_count": 22,
   "metadata": {},
   "outputs": [
    {
     "data": {
      "text/plain": [
       "['a', 'b', 'c', 'd', 'e', 'f', 'g', 'h']"
      ]
     },
     "execution_count": 22,
     "metadata": {},
     "output_type": "execute_result"
    }
   ],
   "source": [
    "list(\"abcdefgh\")"
   ]
  },
  {
   "cell_type": "code",
   "execution_count": 21,
   "metadata": {},
   "outputs": [
    {
     "name": "stdout",
     "output_type": "stream",
     "text": [
      "['A', 'B', 'C', 'D', 'E', 'F', 'G', 'H', 'I', 'J', 'K', 'L', 'M', 'N', 'O', 'P', 'Q', 'R', 'S', 'T', 'U', 'V', 'W', 'X', 'Y', 'Z']\n"
     ]
    }
   ],
   "source": [
    "character : list[str]  =  list(\"ABCDEFGHIJKLMNOPQRSTUVWXYZ\")\n",
    "print(character)"
   ]
  },
  {
   "cell_type": "code",
   "execution_count": 38,
   "metadata": {},
   "outputs": [
    {
     "name": "stdout",
     "output_type": "stream",
     "text": [
      "['C', 'D', 'E', 'F', 'G', 'H', 'I', 'J', 'K']\n",
      "['G', 'H', 'I', 'J', 'K']\n",
      "['F']\n"
     ]
    }
   ],
   "source": [
    "characters : list[str] = ['A', 'B', 'C', 'D', 'E', 'F', 'G', 'H', 'I', 'J', 'K', 'L', 'M', 'N', 'O', 'P', 'Q', 'R', 'S', 'T', 'U', 'V', 'W', 'X', 'Y', 'Z']\n",
    "\n",
    "print(characters[2:-15])\n",
    "print(characters[-20:-15])\n",
    "print(characters[5:10:7])"
   ]
  },
  {
   "cell_type": "code",
   "execution_count": 5,
   "metadata": {},
   "outputs": [
    {
     "name": "stdout",
     "output_type": "stream",
     "text": [
      "['A', 'C', 'E', 'G', 'I', 'K', 'M', 'O', 'Q', 'S', 'U', 'W', 'Y']\n"
     ]
    }
   ],
   "source": [
    "characters : list[str] = ['A', 'B', 'C', 'D', 'E', 'F', 'G', 'H', 'I', 'J', 'K', 'L', 'M', 'N', 'O', 'P', 'Q', 'R', 'S', 'T', 'U', 'V', 'W', 'X', 'Y', 'Z']\n",
    "\n",
    "print(characters[::2])"
   ]
  },
  {
   "cell_type": "code",
   "execution_count": null,
   "metadata": {},
   "outputs": [
    {
     "name": "stdout",
     "output_type": "stream",
     "text": [
      "['Z', 'Y', 'X', 'W', 'V', 'U', 'T', 'S', 'R', 'Q', 'P', 'O', 'N', 'M', 'L', 'K', 'J', 'I', 'H', 'G', 'F', 'E', 'D', 'C', 'B', 'A']\n"
     ]
    }
   ],
   "source": [
    "characters : list[str] = ['A', 'B', 'C', 'D', 'E', 'F', 'G', 'H', 'I', 'J', 'K', 'L', 'M', 'N', 'O', 'P', 'Q', 'R', 'S', 'T', 'U', 'V', 'W', 'X', 'Y', 'Z']\n",
    "\n",
    "print(characters[::-1]) # print reverse"
   ]
  },
  {
   "cell_type": "code",
   "execution_count": null,
   "metadata": {},
   "outputs": [
    {
     "name": "stdout",
     "output_type": "stream",
     "text": [
      "['B', 'C', 'D', 'E']\n"
     ]
    }
   ],
   "source": [
    "characters : list[str] = ['A', 'B', 'C', 'D', 'E', 'F', 'G', 'H']\n",
    "\n",
    "print(characters[1: -3]) # ['B', 'C', 'D', 'E']\n"
   ]
  },
  {
   "cell_type": "code",
   "execution_count": null,
   "metadata": {},
   "outputs": [
    {
     "name": "stdout",
     "output_type": "stream",
     "text": [
      "[]\n"
     ]
    }
   ],
   "source": [
    "characters : list[str] = ['A', 'B', 'C', 'D', 'E', 'F', 'G', 'H']\n",
    "\n",
    "print(characters[-1: -5]) # []"
   ]
  },
  {
   "cell_type": "markdown",
   "metadata": {},
   "source": [
    "List methods"
   ]
  },
  {
   "cell_type": "code",
   "execution_count": 30,
   "metadata": {},
   "outputs": [
    {
     "data": {
      "text/plain": [
       "['append',\n",
       " 'clear',\n",
       " 'copy',\n",
       " 'count',\n",
       " 'extend',\n",
       " 'index',\n",
       " 'insert',\n",
       " 'pop',\n",
       " 'remove',\n",
       " 'reverse',\n",
       " 'sort']"
      ]
     },
     "execution_count": 30,
     "metadata": {},
     "output_type": "execute_result"
    }
   ],
   "source": [
    "[i for i in dir(list) if\"__\" not in i]"
   ]
  },
  {
   "cell_type": "code",
   "execution_count": 47,
   "metadata": {},
   "outputs": [
    {
     "name": "stdout",
     "output_type": "stream",
     "text": [
      "[1, 2, 3]\n",
      "[]\n"
     ]
    }
   ],
   "source": [
    "a : list[str] = [1, 2, 3]\n",
    "print(a)\n",
    "a.clear() # remove all element but object is remain\n",
    "print(a)"
   ]
  },
  {
   "cell_type": "markdown",
   "metadata": {},
   "source": [
    "# Help \n",
    "* help(object)\n",
    "* object?\n",
    "* object??\n",
    "* ?object\n",
    "* ??object"
   ]
  },
  {
   "cell_type": "code",
   "execution_count": 31,
   "metadata": {},
   "outputs": [
    {
     "name": "stdout",
     "output_type": "stream",
     "text": [
      "Help on built-in function print in module builtins:\n",
      "\n",
      "print(*args, sep=' ', end='\\n', file=None, flush=False)\n",
      "    Prints the values to a stream, or to sys.stdout by default.\n",
      "\n",
      "    sep\n",
      "      string inserted between values, default a space.\n",
      "    end\n",
      "      string appended after the last value, default a newline.\n",
      "    file\n",
      "      a file-like object (stream); defaults to the current sys.stdout.\n",
      "    flush\n",
      "      whether to forcibly flush the stream.\n",
      "\n"
     ]
    }
   ],
   "source": [
    "help(print)"
   ]
  },
  {
   "cell_type": "code",
   "execution_count": 32,
   "metadata": {},
   "outputs": [
    {
     "name": "stdout",
     "output_type": "stream",
     "text": [
      "\u001b[1;31mSignature:\u001b[0m \u001b[0mprint\u001b[0m\u001b[1;33m(\u001b[0m\u001b[1;33m*\u001b[0m\u001b[0margs\u001b[0m\u001b[1;33m,\u001b[0m \u001b[0msep\u001b[0m\u001b[1;33m=\u001b[0m\u001b[1;34m' '\u001b[0m\u001b[1;33m,\u001b[0m \u001b[0mend\u001b[0m\u001b[1;33m=\u001b[0m\u001b[1;34m'\\n'\u001b[0m\u001b[1;33m,\u001b[0m \u001b[0mfile\u001b[0m\u001b[1;33m=\u001b[0m\u001b[1;32mNone\u001b[0m\u001b[1;33m,\u001b[0m \u001b[0mflush\u001b[0m\u001b[1;33m=\u001b[0m\u001b[1;32mFalse\u001b[0m\u001b[1;33m)\u001b[0m\u001b[1;33m\u001b[0m\u001b[1;33m\u001b[0m\u001b[0m\n",
      "\u001b[1;31mDocstring:\u001b[0m\n",
      "Prints the values to a stream, or to sys.stdout by default.\n",
      "\n",
      "sep\n",
      "  string inserted between values, default a space.\n",
      "end\n",
      "  string appended after the last value, default a newline.\n",
      "file\n",
      "  a file-like object (stream); defaults to the current sys.stdout.\n",
      "flush\n",
      "  whether to forcibly flush the stream.\n",
      "\u001b[1;31mType:\u001b[0m      builtin_function_or_method"
     ]
    }
   ],
   "source": [
    "print?"
   ]
  },
  {
   "cell_type": "code",
   "execution_count": null,
   "metadata": {},
   "outputs": [
    {
     "name": "stdout",
     "output_type": "stream",
     "text": [
      "['Sir Ameen Alam', 'Sir Zia Khan', 'Sir Qasim', 20, True]\n",
      "['Sir Ameen Alam Devops Engineer', 'Sir Zia Khan', 'Sir Qasim', 20, True]\n"
     ]
    }
   ],
   "source": [
    "\n",
    "# ->                    0                     1             2\n",
    "names : list[Any] = [\"Sir Ameen Alam\", \"Sir Zia Khan\", \"Sir Qasim\" , 20 , True]\n",
    "# <-                    -3                  -2              -1\n",
    "\n",
    "print(names)\n",
    "\n",
    "names[0] = \"Sir Ameen Alam Cloud Expert\" # mutable -> editable \n",
    "\n",
    "print(names)\n"
   ]
  },
  {
   "cell_type": "code",
   "execution_count": null,
   "metadata": {},
   "outputs": [
    {
     "name": "stdout",
     "output_type": "stream",
     "text": [
      "['Sir Ameen Alam', 'Sir Zia Khan', 'Sir Qasim', 20, True]\n",
      "['Sir Ameen Alam', 'Sir Zia Khan', 'Sir Qasim', True]\n"
     ]
    }
   ],
   "source": [
    "\n",
    "# ->                    0                     1             2\n",
    "names : list[Any] = [\"Sir Ameen Alam\", \"Sir Zia Khan\", \"Sir Qasim\" , 20 , True]\n",
    "# <-                    -3                  -2              -1\n",
    "\n",
    "print(names)\n",
    "\n",
    "del(names[3]) # delete 3 index value\n",
    "\n",
    "print(names)"
   ]
  },
  {
   "cell_type": "code",
   "execution_count": 28,
   "metadata": {},
   "outputs": [
    {
     "name": "stdout",
     "output_type": "stream",
     "text": [
      "Pakistan\n"
     ]
    },
    {
     "data": {
      "text/plain": [
       "None"
      ]
     },
     "metadata": {},
     "output_type": "display_data"
    }
   ],
   "source": [
    "a : str = print(\"Pakistan\") # none-return function\n",
    "display(a)"
   ]
  },
  {
   "cell_type": "code",
   "execution_count": 29,
   "metadata": {},
   "outputs": [
    {
     "data": {
      "text/plain": [
       "2137093985472"
      ]
     },
     "metadata": {},
     "output_type": "display_data"
    }
   ],
   "source": [
    "a : str = id(names) # return function\n",
    "display(a)"
   ]
  },
  {
   "cell_type": "code",
   "execution_count": 35,
   "metadata": {},
   "outputs": [
    {
     "data": {
      "text/plain": [
       "['Sir Ameen Alam', 'Sir Zia Khan', 'Sir Qasim', True]"
      ]
     },
     "execution_count": 35,
     "metadata": {},
     "output_type": "execute_result"
    }
   ],
   "source": [
    "\n",
    "# ->                    0                     1             2\n",
    "names : list[Any] = [\"Sir Ameen Alam\", \"Sir Zia Khan\", \"Sir Qasim\" , 20 , True]\n",
    "# <-                    -3                  -2              -1\n",
    "\n",
    "del names[3]\n",
    "names"
   ]
  },
  {
   "cell_type": "markdown",
   "metadata": {},
   "source": [
    "pop method\n"
   ]
  },
  {
   "cell_type": "code",
   "execution_count": 39,
   "metadata": {},
   "outputs": [
    {
     "name": "stdout",
     "output_type": "stream",
     "text": [
      "True\n",
      "['Sir Ameen Alam', 'Sir Zia Khan', 'Sir Qasim', 20]\n"
     ]
    }
   ],
   "source": [
    "\n",
    "# ->                    0                     1             2\n",
    "names : list[Any] = [\"Sir Ameen Alam\", \"Sir Zia Khan\", \"Sir Qasim\" , 20 , True]\n",
    "# <-                    -3                  -2              -1\n",
    "\n",
    "a : str = names.pop()\n",
    "\n",
    "print(a)\n",
    "print(names)"
   ]
  },
  {
   "cell_type": "markdown",
   "metadata": {},
   "source": [
    "## append method add element in last"
   ]
  },
  {
   "cell_type": "code",
   "execution_count": null,
   "metadata": {},
   "outputs": [
    {
     "name": "stdout",
     "output_type": "stream",
     "text": [
      "['Sir Zia', 'Sir Ameen Alam', 'Qasim']\n"
     ]
    }
   ],
   "source": [
    "names : list[str] = [\"Sir Osama\", \"\"]\n",
    "\n",
    "names.append(\"Sir Zia\")\n",
    "names.append(\"Sir Ameen Alam\")\n",
    "names.append(\"Qasim\")\n",
    "\n",
    "print(names)"
   ]
  },
  {
   "cell_type": "code",
   "execution_count": null,
   "metadata": {},
   "outputs": [
    {
     "name": "stdout",
     "output_type": "stream",
     "text": [
      "['a', 'Taimoor', 'b', 'c', 'd', 'e']\n"
     ]
    }
   ],
   "source": [
    "names : list[str] = ['a', 'b', 'c', 'd', 'e']\n",
    "\n",
    "names.insert(1, \"Taimoor\") # insert on particular position\n",
    "\n",
    "print(names)"
   ]
  },
  {
   "cell_type": "code",
   "execution_count": 49,
   "metadata": {},
   "outputs": [
    {
     "name": "stdout",
     "output_type": "stream",
     "text": [
      "['a', 'b', 'c']\n",
      "['a', 'b', 'c']\n"
     ]
    }
   ],
   "source": [
    "a : list[str] = ['a', 'b', 'c']\n",
    "b = a\n",
    "\n",
    "print(a)\n",
    "print(b)"
   ]
  },
  {
   "cell_type": "code",
   "execution_count": 55,
   "metadata": {},
   "outputs": [
    {
     "name": "stdout",
     "output_type": "stream",
     "text": [
      "['a', 'b', 'c']\n",
      "['a', 'b', 'c']\n",
      "['Pakistan', 'b', 'c']\n",
      "['Pakistan', 'b', 'c']\n"
     ]
    }
   ],
   "source": [
    "a : list[str] = ['a', 'b', 'c']\n",
    "b = a\n",
    "print(a)\n",
    "print(b)\n",
    "\n",
    "b[0] = \"Pakistan\" # change only only b varibale but both vairable updated\n",
    "\n",
    "print(a)\n",
    "print(b)\n"
   ]
  },
  {
   "cell_type": "code",
   "execution_count": 59,
   "metadata": {},
   "outputs": [
    {
     "name": "stdout",
     "output_type": "stream",
     "text": [
      "a ['a', 'b', 'c']\n",
      "b ['a', 'b', 'c']\n",
      "a ['a', 'b', 'c']\n",
      "b ['Pakistan', 'b', 'c']\n"
     ]
    }
   ],
   "source": [
    "a : list[str] = ['a', 'b', 'c']\n",
    "b = a.copy() # Deep Copy\n",
    "print(\"a\", a)\n",
    "print(\"b\", b)\n",
    "\n",
    "b[0] = \"Pakistan\" # change only only b varibale but both vairable updated\n",
    "\n",
    "print(\"a\", a)\n",
    "print(\"b\", b)\n"
   ]
  },
  {
   "cell_type": "code",
   "execution_count": 62,
   "metadata": {},
   "outputs": [
    {
     "name": "stdout",
     "output_type": "stream",
     "text": [
      "2\n",
      "3\n",
      "1\n"
     ]
    }
   ],
   "source": [
    "# count\n",
    "\n",
    "a : list[str] = ['a', 'a', 'a', 'b', 'c', 'c',]\n",
    "\n",
    "print(a.count(\"c\"))\n",
    "print(a.count(\"a\"))\n",
    "print(a.count(\"b\"))"
   ]
  },
  {
   "cell_type": "code",
   "execution_count": 64,
   "metadata": {},
   "outputs": [
    {
     "name": "stdout",
     "output_type": "stream",
     "text": [
      "['Sir Zia', 'Muhammad Qasim', ['Sir Inam', 'Sir Ameen Alam']]\n"
     ]
    }
   ],
   "source": [
    "names : list[str] = [\"Sir Zia\", \"Muhammad Qasim\",] # GenAI Founder members\n",
    "\n",
    "new_faculty_members : list[str] = ['Sir Inam', 'Sir Ameen Alam']\n",
    "\n",
    "names.append(new_faculty_members)\n",
    "\n",
    "print(names)"
   ]
  },
  {
   "cell_type": "code",
   "execution_count": 65,
   "metadata": {},
   "outputs": [
    {
     "name": "stdout",
     "output_type": "stream",
     "text": [
      "['Sir Zia', 'Muhammad Qasim', 'Sir Inam', 'Sir Ameen Alam']\n"
     ]
    }
   ],
   "source": [
    "names : list[str] = [\"Sir Zia\", \"Muhammad Qasim\",] # GenAI Founder members\n",
    "\n",
    "new_faculty_members : list[str] = ['Sir Inam', 'Sir Ameen Alam']\n",
    "\n",
    "names.extend(new_faculty_members)\n",
    "\n",
    "print(names)"
   ]
  },
  {
   "cell_type": "code",
   "execution_count": 68,
   "metadata": {},
   "outputs": [
    {
     "data": {
      "text/plain": [
       "['Sir Zia', 'Muhammad Qasim', 'Sir Ameen Alam']"
      ]
     },
     "execution_count": 68,
     "metadata": {},
     "output_type": "execute_result"
    }
   ],
   "source": [
    "names : list[str] = [\"Sir Zia\", \"Muhammad Qasim\", \"Sir Ameen Alam\", \"Taimoor\"]\n",
    "\n",
    "names.remove(\"Taimoor\") # remove with text value\n",
    "\n",
    "names"
   ]
  },
  {
   "cell_type": "code",
   "execution_count": 71,
   "metadata": {},
   "outputs": [
    {
     "data": {
      "text/plain": [
       "3"
      ]
     },
     "execution_count": 71,
     "metadata": {},
     "output_type": "execute_result"
    }
   ],
   "source": [
    "names : list[str] = [\"Sir Zia\", \"Muhammad Qasim\", \"Sir Ameen Alam\", \"Taimoor\"]\n",
    "\n",
    "names.index(\"Taimoor\") # remove with text value\n"
   ]
  },
  {
   "cell_type": "code",
   "execution_count": 77,
   "metadata": {},
   "outputs": [
    {
     "data": {
      "text/plain": [
       "4"
      ]
     },
     "execution_count": 77,
     "metadata": {},
     "output_type": "execute_result"
    }
   ],
   "source": [
    "names : list[str] = [\"Sir Zia\", \"Taimoor\", \"Muhammad Qasim\", \"Sir Ameen Alam\", \"Taimoor\"]\n",
    "\n",
    "names.index(\"Taimoor\" , 2) # remove with text value\n"
   ]
  },
  {
   "cell_type": "code",
   "execution_count": 81,
   "metadata": {},
   "outputs": [
    {
     "name": "stdout",
     "output_type": "stream",
     "text": [
      "['a', 'b', 'c', 'd', 'e']\n",
      "['e', 'd', 'c', 'b', 'a']\n"
     ]
    }
   ],
   "source": [
    "names : list[str] = [\"a\", \"b\", \"c\", \"d\", \"e\"]\n",
    "print(names)\n",
    "names.reverse() \n",
    "print(names)\n",
    "\n"
   ]
  },
  {
   "cell_type": "code",
   "execution_count": 82,
   "metadata": {},
   "outputs": [
    {
     "name": "stdout",
     "output_type": "stream",
     "text": [
      "['a', 'b', 'c', 'd', 'e']\n",
      "['a', 'b', 'c', 'd', 'e']\n"
     ]
    }
   ],
   "source": [
    "names : list[str] = [\"a\", \"b\", \"c\", \"d\", \"e\"]\n",
    "print(names)\n",
    "names.sort() \n",
    "print(names)\n",
    "\n"
   ]
  },
  {
   "cell_type": "code",
   "execution_count": 83,
   "metadata": {},
   "outputs": [
    {
     "name": "stdout",
     "output_type": "stream",
     "text": [
      "['a', 'b', 'c', 'd', 'e']\n",
      "['e', 'd', 'c', 'b', 'a']\n"
     ]
    }
   ],
   "source": [
    "names : list[str] = [\"a\", \"b\", \"c\", \"d\", \"e\"]\n",
    "print(names)\n",
    "names.sort(reverse=True) \n",
    "print(names)\n",
    "\n"
   ]
  }
 ],
 "metadata": {
  "kernelspec": {
   "display_name": "my-app",
   "language": "python",
   "name": "python3"
  },
  "language_info": {
   "codemirror_mode": {
    "name": "ipython",
    "version": 3
   },
   "file_extension": ".py",
   "mimetype": "text/x-python",
   "name": "python",
   "nbconvert_exporter": "python",
   "pygments_lexer": "ipython3",
   "version": "3.12.0"
  }
 },
 "nbformat": 4,
 "nbformat_minor": 2
}
