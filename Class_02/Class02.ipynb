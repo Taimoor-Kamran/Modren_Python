{
 "cells": [
  {
   "cell_type": "code",
   "execution_count": 4,
   "metadata": {},
   "outputs": [
    {
     "ename": "NameError",
     "evalue": "name 'name' is not defined",
     "output_type": "error",
     "traceback": [
      "\u001b[1;31m---------------------------------------------------------------------------\u001b[0m",
      "\u001b[1;31mNameError\u001b[0m                                 Traceback (most recent call last)",
      "Cell \u001b[1;32mIn[4], line 1\u001b[0m\n\u001b[1;32m----> 1\u001b[0m \u001b[38;5;28mprint\u001b[39m(\u001b[43mname\u001b[49m)\n",
      "\u001b[1;31mNameError\u001b[0m: name 'name' is not defined"
     ]
    }
   ],
   "source": [
    "print(name)"
   ]
  },
  {
   "cell_type": "code",
   "execution_count": 5,
   "metadata": {},
   "outputs": [
    {
     "name": "stdout",
     "output_type": "stream",
     "text": [
      "Muhammad Taimoor\n"
     ]
    }
   ],
   "source": [
    "name : str = \"Taimoor Kamran\"\n",
    "print(name)"
   ]
  },
  {
   "cell_type": "markdown",
   "metadata": {},
   "source": [
    "String Data Type in Python"
   ]
  },
  {
   "cell_type": "code",
   "execution_count": 11,
   "metadata": {},
   "outputs": [
    {
     "name": "stdout",
     "output_type": "stream",
     "text": [
      "<class 'str'>\n",
      "Taimoor Kamran\n",
      "<class 'str'>\n",
      "Taimoor Kamran\n",
      "<class 'str'>\n",
      "Taimoor Kamran\n"
     ]
    }
   ],
   "source": [
    "# boundries\n",
    "# string text 'string format', \"string format\", '''string format'''  \"\"\"string format\"\"\"\n",
    "\n",
    "name : str = 'Taimoor Kamran'\n",
    "print(type(name))\n",
    "print(name)\n",
    "name1 : str = \"Taimoor Kamran\"\n",
    "print(type(name1))\n",
    "print(name1)\n",
    "name2 : str = \"\"\"Taimoor Kamran\"\"\"\n",
    "print(type(name2))  \n",
    "print(name2)"
   ]
  },
  {
   "cell_type": "code",
   "execution_count": 12,
   "metadata": {},
   "outputs": [
    {
     "ename": "SyntaxError",
     "evalue": "invalid syntax (1066438536.py, line 1)",
     "output_type": "error",
     "traceback": [
      "\u001b[1;36m  Cell \u001b[1;32mIn[12], line 1\u001b[1;36m\u001b[0m\n\u001b[1;33m    message : str = `PIAIC Student Card \\n father's Name`\u001b[0m\n\u001b[1;37m                    ^\u001b[0m\n\u001b[1;31mSyntaxError\u001b[0m\u001b[1;31m:\u001b[0m invalid syntax\n"
     ]
    }
   ],
   "source": [
    "# Error\n",
    "message : str = `PIAIC Student Card \\n father's Name`"
   ]
  },
  {
   "cell_type": "code",
   "execution_count": 14,
   "metadata": {},
   "outputs": [
    {
     "name": "stdout",
     "output_type": "stream",
     "text": [
      "PIAIC Student Card \n",
      " father's Name\n"
     ]
    }
   ],
   "source": [
    "# if you want to use single quote this message should you need to use Double Quote \"\"\n",
    "message = \"PIAIC Student Card \\n father's Name\"\n",
    "print(message)\n"
   ]
  },
  {
   "cell_type": "code",
   "execution_count": 17,
   "metadata": {},
   "outputs": [
    {
     "name": "stdout",
     "output_type": "stream",
     "text": [
      "PIAIC \"Student Card\" \n",
      " father Name\n"
     ]
    }
   ],
   "source": [
    "# if you want to use Double quote this message should you need to use single Quote ''\n",
    "message = 'PIAIC \"Student Card\" \\n father Name'\n",
    "print(message)\n"
   ]
  },
  {
   "cell_type": "code",
   "execution_count": 18,
   "metadata": {},
   "outputs": [
    {
     "name": "stdout",
     "output_type": "stream",
     "text": [
      "PIAIC \"Student Card\" \n",
      " father's Name\n"
     ]
    }
   ],
   "source": [
    "# Convert any special character into simple character, place \\ before character\n",
    "message : str = 'PIAIC \"Student Card\" \\n father\\'s Name'\n",
    "print(message)"
   ]
  }
 ],
 "metadata": {
  "kernelspec": {
   "display_name": "my-app",
   "language": "python",
   "name": "python3"
  },
  "language_info": {
   "codemirror_mode": {
    "name": "ipython",
    "version": 3
   },
   "file_extension": ".py",
   "mimetype": "text/x-python",
   "name": "python",
   "nbconvert_exporter": "python",
   "pygments_lexer": "ipython3",
   "version": "3.12.0"
  }
 },
 "nbformat": 4,
 "nbformat_minor": 2
}
