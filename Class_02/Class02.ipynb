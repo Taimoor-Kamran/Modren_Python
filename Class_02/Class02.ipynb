{
 "cells": [
  {
   "cell_type": "code",
   "execution_count": 4,
   "metadata": {},
   "outputs": [
    {
     "ename": "NameError",
     "evalue": "name 'name' is not defined",
     "output_type": "error",
     "traceback": [
      "\u001b[1;31m---------------------------------------------------------------------------\u001b[0m",
      "\u001b[1;31mNameError\u001b[0m                                 Traceback (most recent call last)",
      "Cell \u001b[1;32mIn[4], line 1\u001b[0m\n\u001b[1;32m----> 1\u001b[0m \u001b[38;5;28mprint\u001b[39m(\u001b[43mname\u001b[49m)\n",
      "\u001b[1;31mNameError\u001b[0m: name 'name' is not defined"
     ]
    }
   ],
   "source": [
    "print(name)"
   ]
  },
  {
   "cell_type": "code",
   "execution_count": 5,
   "metadata": {},
   "outputs": [
    {
     "name": "stdout",
     "output_type": "stream",
     "text": [
      "Muhammad Taimoor\n"
     ]
    }
   ],
   "source": [
    "name : str = \"Taimoor Kamran\"\n",
    "print(name)"
   ]
  },
  {
   "cell_type": "markdown",
   "metadata": {},
   "source": [
    "String Data Type in Python"
   ]
  },
  {
   "cell_type": "code",
   "execution_count": 11,
   "metadata": {},
   "outputs": [
    {
     "name": "stdout",
     "output_type": "stream",
     "text": [
      "<class 'str'>\n",
      "Taimoor Kamran\n",
      "<class 'str'>\n",
      "Taimoor Kamran\n",
      "<class 'str'>\n",
      "Taimoor Kamran\n"
     ]
    }
   ],
   "source": [
    "# boundries\n",
    "# string text 'string format', \"string format\", '''string format'''  \"\"\"string format\"\"\"\n",
    "\n",
    "name : str = 'Taimoor Kamran'\n",
    "print(type(name))\n",
    "print(name)\n",
    "name1 : str = \"Taimoor Kamran\"\n",
    "print(type(name1))\n",
    "print(name1)\n",
    "name2 : str = \"\"\"Taimoor Kamran\"\"\"\n",
    "print(type(name2))  \n",
    "print(name2)"
   ]
  },
  {
   "cell_type": "code",
   "execution_count": 12,
   "metadata": {},
   "outputs": [
    {
     "ename": "SyntaxError",
     "evalue": "invalid syntax (1066438536.py, line 1)",
     "output_type": "error",
     "traceback": [
      "\u001b[1;36m  Cell \u001b[1;32mIn[12], line 1\u001b[1;36m\u001b[0m\n\u001b[1;33m    message : str = `PIAIC Student Card \\n father's Name`\u001b[0m\n\u001b[1;37m                    ^\u001b[0m\n\u001b[1;31mSyntaxError\u001b[0m\u001b[1;31m:\u001b[0m invalid syntax\n"
     ]
    }
   ],
   "source": [
    "# Error\n",
    "message : str = `PIAIC Student Card \\n father's Name`"
   ]
  },
  {
   "cell_type": "code",
   "execution_count": 14,
   "metadata": {},
   "outputs": [
    {
     "name": "stdout",
     "output_type": "stream",
     "text": [
      "PIAIC Student Card \n",
      " father's Name\n"
     ]
    }
   ],
   "source": [
    "# if you want to use single quote this message should you need to use Double Quote \"\"\n",
    "message = \"PIAIC Student Card \\n father's Name\"\n",
    "print(message)\n"
   ]
  },
  {
   "cell_type": "code",
   "execution_count": 17,
   "metadata": {},
   "outputs": [
    {
     "name": "stdout",
     "output_type": "stream",
     "text": [
      "PIAIC \"Student Card\" \n",
      " father Name\n"
     ]
    }
   ],
   "source": [
    "# if you want to use Double quote this message should you need to use single Quote ''\n",
    "message = 'PIAIC \"Student Card\" \\n father Name'\n",
    "print(message)\n"
   ]
  },
  {
   "cell_type": "code",
   "execution_count": 18,
   "metadata": {},
   "outputs": [
    {
     "name": "stdout",
     "output_type": "stream",
     "text": [
      "PIAIC \"Student Card\" \n",
      " father's Name\n"
     ]
    }
   ],
   "source": [
    "# Convert any special character into simple character, place \\ before character\n",
    "message : str = 'PIAIC \"Student Card\" \\n father\\'s Name'\n",
    "print(message)"
   ]
  },
  {
   "cell_type": "markdown",
   "metadata": {},
   "source": [
    "String Concatination\n"
   ]
  },
  {
   "cell_type": "code",
   "execution_count": 35,
   "metadata": {},
   "outputs": [
    {
     "name": "stdout",
     "output_type": "stream",
     "text": [
      "PIAIC Student Card \n",
      "Student Name: Taimoor Kamran\n",
      "Father Name: Kamran Sattar\n",
      "Age: 18\n",
      "education: Master in Data Science\n"
     ]
    }
   ],
   "source": [
    "name : str = \"Taimoor Kamran\"\n",
    "fname : str = \"Kamran Sattar\"\n",
    "education : str = \"Master in Data Science\"\n",
    "age : int = 18\n",
    "\n",
    "card : str = \"PIAIC Student Card \\nStudent Name: \" + name + \"\\nFather Name: \" + fname + \"\\nAge: \" + str(age) + \"\\neducation: \" + education\n",
    "print(card)"
   ]
  },
  {
   "cell_type": "code",
   "execution_count": 37,
   "metadata": {},
   "outputs": [
    {
     "name": "stdout",
     "output_type": "stream",
     "text": [
      "27\n"
     ]
    }
   ],
   "source": [
    "# First Line Code\n",
    "print(15 + 7 + 5)"
   ]
  },
  {
   "cell_type": "code",
   "execution_count": 38,
   "metadata": {},
   "outputs": [
    {
     "name": "stdout",
     "output_type": "stream",
     "text": [
      "24\n"
     ]
    }
   ],
   "source": [
    "# if you want to change line our code \n",
    "print(15 + \\\n",
    "      7 + \\\n",
    "        2)"
   ]
  },
  {
   "cell_type": "code",
   "execution_count": 40,
   "metadata": {},
   "outputs": [
    {
     "name": "stdout",
     "output_type": "stream",
     "text": [
      "PIAIC Student Card \n",
      "Student Name: Taimoor Kamran\n",
      "Age: 18\n",
      "education: Master in Data Science\n"
     ]
    }
   ],
   "source": [
    "name : str = \"Taimoor Kamran\"\n",
    "fname : str = \"Kamran Sattar\"\n",
    "education : str = \"Master in Data Science\"\n",
    "age : int = 18\n",
    "\n",
    "card : str = \"PIAIC Student Card \\nStudent Name: \" + name +\\\n",
    "\"\\nAge: \" + str(age) +\\\n",
    "      \"\\neducation: \" + education\n",
    "print(card)"
   ]
  }
 ],
 "metadata": {
  "kernelspec": {
   "display_name": "my-app",
   "language": "python",
   "name": "python3"
  },
  "language_info": {
   "codemirror_mode": {
    "name": "ipython",
    "version": 3
   },
   "file_extension": ".py",
   "mimetype": "text/x-python",
   "name": "python",
   "nbconvert_exporter": "python",
   "pygments_lexer": "ipython3",
   "version": "3.12.0"
  }
 },
 "nbformat": 4,
 "nbformat_minor": 2
}
