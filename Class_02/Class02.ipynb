{
 "cells": [
  {
   "cell_type": "code",
   "execution_count": 4,
   "metadata": {},
   "outputs": [
    {
     "ename": "NameError",
     "evalue": "name 'name' is not defined",
     "output_type": "error",
     "traceback": [
      "\u001b[1;31m---------------------------------------------------------------------------\u001b[0m",
      "\u001b[1;31mNameError\u001b[0m                                 Traceback (most recent call last)",
      "Cell \u001b[1;32mIn[4], line 1\u001b[0m\n\u001b[1;32m----> 1\u001b[0m \u001b[38;5;28mprint\u001b[39m(\u001b[43mname\u001b[49m)\n",
      "\u001b[1;31mNameError\u001b[0m: name 'name' is not defined"
     ]
    }
   ],
   "source": [
    "print(name)"
   ]
  },
  {
   "cell_type": "code",
   "execution_count": 5,
   "metadata": {},
   "outputs": [
    {
     "name": "stdout",
     "output_type": "stream",
     "text": [
      "Muhammad Taimoor\n"
     ]
    }
   ],
   "source": [
    "name : str = \"Taimoor Kamran\"\n",
    "print(name)"
   ]
  },
  {
   "cell_type": "markdown",
   "metadata": {},
   "source": [
    "String Data Type in Python\n"
   ]
  },
  {
   "cell_type": "code",
   "execution_count": 11,
   "metadata": {},
   "outputs": [
    {
     "name": "stdout",
     "output_type": "stream",
     "text": [
      "<class 'str'>\n",
      "Taimoor Kamran\n",
      "<class 'str'>\n",
      "Taimoor Kamran\n",
      "<class 'str'>\n",
      "Taimoor Kamran\n"
     ]
    }
   ],
   "source": [
    "# boundries\n",
    "# string text 'string format', \"string format\", '''string format'''  \"\"\"string format\"\"\"\n",
    "\n",
    "name : str = 'Taimoor Kamran'\n",
    "print(type(name))\n",
    "print(name)\n",
    "name1 : str = \"Taimoor Kamran\"\n",
    "print(type(name1))\n",
    "print(name1)\n",
    "name2 : str = \"\"\"Taimoor Kamran\"\"\"\n",
    "print(type(name2))  \n",
    "print(name2)"
   ]
  },
  {
   "cell_type": "code",
   "execution_count": 12,
   "metadata": {},
   "outputs": [
    {
     "ename": "SyntaxError",
     "evalue": "invalid syntax (1066438536.py, line 1)",
     "output_type": "error",
     "traceback": [
      "\u001b[1;36m  Cell \u001b[1;32mIn[12], line 1\u001b[1;36m\u001b[0m\n\u001b[1;33m    message : str = `PIAIC Student Card \\n father's Name`\u001b[0m\n\u001b[1;37m                    ^\u001b[0m\n\u001b[1;31mSyntaxError\u001b[0m\u001b[1;31m:\u001b[0m invalid syntax\n"
     ]
    }
   ],
   "source": [
    "# Error\n",
    "message : str = `PIAIC Student Card \\n father's Name`"
   ]
  },
  {
   "cell_type": "code",
   "execution_count": 14,
   "metadata": {},
   "outputs": [
    {
     "name": "stdout",
     "output_type": "stream",
     "text": [
      "PIAIC Student Card \n",
      " father's Name\n"
     ]
    }
   ],
   "source": [
    "# if you want to use single quote this message should you need to use Double Quote \"\"\n",
    "message = \"PIAIC Student Card \\n father's Name\"\n",
    "print(message)\n"
   ]
  },
  {
   "cell_type": "code",
   "execution_count": 17,
   "metadata": {},
   "outputs": [
    {
     "name": "stdout",
     "output_type": "stream",
     "text": [
      "PIAIC \"Student Card\" \n",
      " father Name\n"
     ]
    }
   ],
   "source": [
    "# if you want to use Double quote this message should you need to use single Quote ''\n",
    "message = 'PIAIC \"Student Card\" \\n father Name'\n",
    "print(message)\n"
   ]
  },
  {
   "cell_type": "code",
   "execution_count": 18,
   "metadata": {},
   "outputs": [
    {
     "name": "stdout",
     "output_type": "stream",
     "text": [
      "PIAIC \"Student Card\" \n",
      " father's Name\n"
     ]
    }
   ],
   "source": [
    "# Convert any special character into simple character, place \\ before character\n",
    "message : str = 'PIAIC \"Student Card\" \\n father\\'s Name'\n",
    "print(message)"
   ]
  },
  {
   "cell_type": "markdown",
   "metadata": {},
   "source": [
    "String Concatination\n"
   ]
  },
  {
   "cell_type": "code",
   "execution_count": 35,
   "metadata": {},
   "outputs": [
    {
     "name": "stdout",
     "output_type": "stream",
     "text": [
      "PIAIC Student Card \n",
      "Student Name: Taimoor Kamran\n",
      "Father Name: Kamran Sattar\n",
      "Age: 18\n",
      "education: Master in Data Science\n"
     ]
    }
   ],
   "source": [
    "name : str = \"Taimoor Kamran\"\n",
    "fname : str = \"Kamran Sattar\"\n",
    "education : str = \"Master in Data Science\"\n",
    "age : int = 18\n",
    "\n",
    "card : str = \"PIAIC Student Card \\nStudent Name: \" + name + \"\\nFather Name: \" + fname + \"\\nAge: \" + str(age) + \"\\neducation: \" + education\n",
    "print(card)"
   ]
  },
  {
   "cell_type": "code",
   "execution_count": 37,
   "metadata": {},
   "outputs": [
    {
     "name": "stdout",
     "output_type": "stream",
     "text": [
      "27\n"
     ]
    }
   ],
   "source": [
    "# First Line Code\n",
    "print(15 + 7 + 5)"
   ]
  },
  {
   "cell_type": "code",
   "execution_count": 38,
   "metadata": {},
   "outputs": [
    {
     "name": "stdout",
     "output_type": "stream",
     "text": [
      "24\n"
     ]
    }
   ],
   "source": [
    "# if you want to change line our code \n",
    "print(15 + \\\n",
    "      7 + \\\n",
    "        2)"
   ]
  },
  {
   "cell_type": "code",
   "execution_count": 40,
   "metadata": {},
   "outputs": [
    {
     "name": "stdout",
     "output_type": "stream",
     "text": [
      "PIAIC Student Card \n",
      "Student Name: Taimoor Kamran\n",
      "Age: 18\n",
      "education: Master in Data Science\n"
     ]
    }
   ],
   "source": [
    "name : str = \"Taimoor Kamran\"\n",
    "fname : str = \"Kamran Sattar\"\n",
    "education : str = \"Master in Data Science\"\n",
    "age : int = 18\n",
    "\n",
    "card : str = \"PIAIC Student Card \\nStudent Name: \" + name +\\\n",
    "\"\\nAge: \" + str(age) +\\\n",
    "      \"\\neducation: \" + education\n",
    "print(card)"
   ]
  },
  {
   "cell_type": "markdown",
   "metadata": {},
   "source": [
    "Define Mulitline String \"\"\" \"\"\", ''' '''\n"
   ]
  },
  {
   "cell_type": "code",
   "execution_count": 51,
   "metadata": {},
   "outputs": [
    {
     "name": "stdout",
     "output_type": "stream",
     "text": [
      " \n",
      "    PIAIC Students Card  \n",
      "    Student Name: Taimoor Kamran\n",
      "    Father's Name: Kamran Sattar\n",
      "    Age: 18\n",
      "    Education: Master in Data Science\n",
      "\n"
     ]
    }
   ],
   "source": [
    "name : str = \"Taimoor Kamran\"\n",
    "fname : str = \"Kamran Sattar\"\n",
    "age : int = 18\n",
    "education : str = \"Master in Data Science\"\n",
    "\n",
    "card : str = f\"\"\" \n",
    "    PIAIC Students Card  \n",
    "    Student Name: {name}\n",
    "    Father's Name: {fname}\n",
    "    Age: {age}\n",
    "    Education: {education}\n",
    "\"\"\" \n",
    "\n",
    "print(card)"
   ]
  },
  {
   "cell_type": "code",
   "execution_count": 62,
   "metadata": {},
   "outputs": [
    {
     "name": "stdout",
     "output_type": "stream",
     "text": [
      " \n",
      "    PIAIC Students Card  \n",
      "    Student Name: Taimoor Kamran\n",
      "    Father's Name: Kamran Sattar\n",
      "    Age: 18\n",
      "    Education: Master in Data Science\n",
      "\n",
      "    Total: 32\n",
      "\n",
      "\n"
     ]
    }
   ],
   "source": [
    "name : str = \"Taimoor Kamran\"\n",
    "fname : str = \"Kamran Sattar\"\n",
    "age : int = 18\n",
    "education : str = \"Master in Data Science\"\n",
    "\n",
    "card : str = f\"\"\" \n",
    "    PIAIC Students Card  \n",
    "    Student Name: {name}\n",
    "    Father's Name: {fname}\n",
    "    Age: {age}\n",
    "    Education: {education}\n",
    "\n",
    "    Total: {2 + 8 + 9 + 13}\n",
    "\n",
    "\"\"\" \n",
    "\n",
    "print(card)"
   ]
  },
  {
   "cell_type": "markdown",
   "metadata": {},
   "source": [
    "F-string and Jinja style\n"
   ]
  },
  {
   "cell_type": "code",
   "execution_count": 57,
   "metadata": {},
   "outputs": [
    {
     "data": {
      "text/plain": [
       "'\\n    student Name: Taimoor Kamran\\n'"
      ]
     },
     "execution_count": 57,
     "metadata": {},
     "output_type": "execute_result"
    }
   ],
   "source": [
    "# Jinja String\n",
    "f\"\"\"\n",
    "    student Name: {name}\n",
    "\"\"\""
   ]
  },
  {
   "cell_type": "code",
   "execution_count": 60,
   "metadata": {},
   "outputs": [
    {
     "data": {
      "text/plain": [
       "'\\n    student Name: {name}\\n'"
      ]
     },
     "execution_count": 60,
     "metadata": {},
     "output_type": "execute_result"
    }
   ],
   "source": [
    "# Jinja String\n",
    "f\"\"\"\n",
    "    student Name: {{name}}\n",
    "\"\"\""
   ]
  },
  {
   "cell_type": "code",
   "execution_count": 68,
   "metadata": {},
   "outputs": [
    {
     "name": "stdout",
     "output_type": "stream",
     "text": [
      "\"\n",
      "PIAIC Student Card\n",
      "Student Name : Taimoor Kamran\n",
      "Father Name : Kamran Sattar\n",
      "Age : 18\n",
      "Education : Master in Data Science    \n",
      "\n"
     ]
    }
   ],
   "source": [
    "name : str = \"Taimoor Kamran\"\n",
    "fname : str = \"Kamran Sattar\"\n",
    "age : int = 18\n",
    "education : str = \"Master in Data Science\"\n",
    "\n",
    "card : str = f\"\"\"\"\n",
    "PIAIC Student Card\n",
    "Student Name : %s\n",
    "Father Name : %s\n",
    "Age : %d\n",
    "Education : %s    \n",
    "\"\"\" % (name, fname, age, education)\n",
    "\n",
    "print(card)"
   ]
  },
  {
   "cell_type": "code",
   "execution_count": 69,
   "metadata": {},
   "outputs": [
    {
     "data": {
      "text/plain": [
       "['__add__',\n",
       " '__class__',\n",
       " '__contains__',\n",
       " '__delattr__',\n",
       " '__dir__',\n",
       " '__doc__',\n",
       " '__eq__',\n",
       " '__format__',\n",
       " '__ge__',\n",
       " '__getattribute__',\n",
       " '__getitem__',\n",
       " '__getnewargs__',\n",
       " '__getstate__',\n",
       " '__gt__',\n",
       " '__hash__',\n",
       " '__init__',\n",
       " '__init_subclass__',\n",
       " '__iter__',\n",
       " '__le__',\n",
       " '__len__',\n",
       " '__lt__',\n",
       " '__mod__',\n",
       " '__mul__',\n",
       " '__ne__',\n",
       " '__new__',\n",
       " '__reduce__',\n",
       " '__reduce_ex__',\n",
       " '__repr__',\n",
       " '__rmod__',\n",
       " '__rmul__',\n",
       " '__setattr__',\n",
       " '__sizeof__',\n",
       " '__str__',\n",
       " '__subclasshook__',\n",
       " 'capitalize',\n",
       " 'casefold',\n",
       " 'center',\n",
       " 'count',\n",
       " 'encode',\n",
       " 'endswith',\n",
       " 'expandtabs',\n",
       " 'find',\n",
       " 'format',\n",
       " 'format_map',\n",
       " 'index',\n",
       " 'isalnum',\n",
       " 'isalpha',\n",
       " 'isascii',\n",
       " 'isdecimal',\n",
       " 'isdigit',\n",
       " 'isidentifier',\n",
       " 'islower',\n",
       " 'isnumeric',\n",
       " 'isprintable',\n",
       " 'isspace',\n",
       " 'istitle',\n",
       " 'isupper',\n",
       " 'join',\n",
       " 'ljust',\n",
       " 'lower',\n",
       " 'lstrip',\n",
       " 'maketrans',\n",
       " 'partition',\n",
       " 'removeprefix',\n",
       " 'removesuffix',\n",
       " 'replace',\n",
       " 'rfind',\n",
       " 'rindex',\n",
       " 'rjust',\n",
       " 'rpartition',\n",
       " 'rsplit',\n",
       " 'rstrip',\n",
       " 'split',\n",
       " 'splitlines',\n",
       " 'startswith',\n",
       " 'strip',\n",
       " 'swapcase',\n",
       " 'title',\n",
       " 'translate',\n",
       " 'upper',\n",
       " 'zfill']"
      ]
     },
     "execution_count": 69,
     "metadata": {},
     "output_type": "execute_result"
    }
   ],
   "source": [
    "dir(str)"
   ]
  },
  {
   "cell_type": "code",
   "execution_count": 71,
   "metadata": {},
   "outputs": [
    {
     "data": {
      "text/plain": [
       "['capitalize',\n",
       " 'casefold',\n",
       " 'center',\n",
       " 'count',\n",
       " 'encode',\n",
       " 'endswith',\n",
       " 'expandtabs',\n",
       " 'find',\n",
       " 'format',\n",
       " 'format_map',\n",
       " 'index',\n",
       " 'isalnum',\n",
       " 'isalpha',\n",
       " 'isascii',\n",
       " 'isdecimal',\n",
       " 'isdigit',\n",
       " 'isidentifier',\n",
       " 'islower',\n",
       " 'isnumeric',\n",
       " 'isprintable',\n",
       " 'isspace',\n",
       " 'istitle',\n",
       " 'isupper',\n",
       " 'join',\n",
       " 'ljust',\n",
       " 'lower',\n",
       " 'lstrip',\n",
       " 'maketrans',\n",
       " 'partition',\n",
       " 'removeprefix',\n",
       " 'removesuffix',\n",
       " 'replace',\n",
       " 'rfind',\n",
       " 'rindex',\n",
       " 'rjust',\n",
       " 'rpartition',\n",
       " 'rsplit',\n",
       " 'rstrip',\n",
       " 'split',\n",
       " 'splitlines',\n",
       " 'startswith',\n",
       " 'strip',\n",
       " 'swapcase',\n",
       " 'title',\n",
       " 'translate',\n",
       " 'upper',\n",
       " 'zfill']"
      ]
     },
     "execution_count": 71,
     "metadata": {},
     "output_type": "execute_result"
    }
   ],
   "source": [
    "[i for i in dir(str) if \"__\" not in i]"
   ]
  },
  {
   "cell_type": "code",
   "execution_count": 102,
   "metadata": {},
   "outputs": [
    {
     "name": "stdout",
     "output_type": "stream",
     "text": [
      "Taimoor kamran\n",
      "taimoor kamran\n",
      "TAIMOOR KAMRAN\n",
      "taimoor kamran\n",
      "tAIMOOR KAMRAN\n",
      "Taimoor kamran\n"
     ]
    }
   ],
   "source": [
    "name : str = \"Taimoor kamran\"\n",
    "\n",
    "print(name.capitalize())\n",
    "print(name.lower())\n",
    "print(name.upper())\n",
    "print(name.casefold())\n",
    "print(name.swapcase())\n",
    "print(name.format())"
   ]
  },
  {
   "cell_type": "code",
   "execution_count": 104,
   "metadata": {},
   "outputs": [
    {
     "data": {
      "text/plain": [
       "'Pakistan value a 7 and value b 8'"
      ]
     },
     "execution_count": 104,
     "metadata": {},
     "output_type": "execute_result"
    }
   ],
   "source": [
    "a = 7\n",
    "b = 8\n",
    "\n",
    "\"Pakistan value a {} and value b {}\".format(a, b)"
   ]
  },
  {
   "cell_type": "code",
   "execution_count": 106,
   "metadata": {},
   "outputs": [
    {
     "name": "stdout",
     "output_type": "stream",
     "text": [
      "\"\n",
      "PIAIC Student Card\n",
      "Student Name : Taimoor Kamran\n",
      "Father Name : Kamran Sattar\n",
      "Age : 18\n",
      "Education : Master in Data Science    \n",
      "\n"
     ]
    }
   ],
   "source": [
    "name : str = \"Taimoor Kamran\"\n",
    "fname : str = \"Kamran Sattar\"\n",
    "age : int = 18\n",
    "education : str = \"Master in Data Science\"\n",
    "\n",
    "card : str = \"\"\"\"\n",
    "PIAIC Student Card\n",
    "Student Name : {b}\n",
    "Father Name : {a}\n",
    "Age : {d}\n",
    "Education : {c}    \n",
    "\"\"\".format(b=name, a=fname, d=age, c=education)\n",
    "\n",
    "print(card)"
   ]
  },
  {
   "cell_type": "markdown",
   "metadata": {},
   "source": [
    "Explore String Methods and Attributes\n",
    "\n",
    "pre-define global function we have used\n",
    "* print\n",
    "* type\n",
    "* id\n",
    "* dir\n",
    "* len"
   ]
  },
  {
   "cell_type": "code",
   "execution_count": 109,
   "metadata": {},
   "outputs": [
    {
     "name": "stdout",
     "output_type": "stream",
     "text": [
      "['capitalize', 'casefold', 'center', 'count', 'encode', 'endswith', 'expandtabs', 'find', 'format', 'format_map', 'index', 'isalnum', 'isalpha', 'isascii', 'isdecimal', 'isdigit', 'isidentifier', 'islower', 'isnumeric', 'isprintable', 'isspace', 'istitle', 'isupper', 'join', 'ljust', 'lower', 'lstrip', 'maketrans', 'partition', 'removeprefix', 'removesuffix', 'replace', 'rfind', 'rindex', 'rjust', 'rpartition', 'rsplit', 'rstrip', 'split', 'splitlines', 'startswith', 'strip', 'swapcase', 'title', 'translate', 'upper', 'zfill']\n",
      "47\n",
      "['capitalize', 'casefold', 'center', 'count', 'encode', 'endswith', 'expandtabs', 'find', 'format', 'format_map', 'index', 'isalnum', 'isalpha', 'isascii', 'isdecimal', 'isdigit', 'isidentifier', 'islower', 'isnumeric', 'isprintable', 'isspace', 'istitle', 'isupper', 'join', 'ljust', 'lower', 'lstrip', 'maketrans', 'partition', 'removeprefix', 'removesuffix', 'replace', 'rfind', 'rindex', 'rjust', 'rpartition', 'rsplit', 'rstrip', 'split', 'splitlines', 'startswith', 'strip', 'swapcase', 'title', 'translate', 'upper', 'zfill']\n"
     ]
    }
   ],
   "source": [
    "a: list[str] = [i for i in dir(str) if \"__\" not in i] \n",
    "print(a)\n",
    "print(len(a))\n",
    "print(a)"
   ]
  },
  {
   "cell_type": "code",
   "execution_count": 114,
   "metadata": {},
   "outputs": [
    {
     "name": "stdout",
     "output_type": "stream",
     "text": [
      "MuHammAd QasIm\n",
      "Muhammad qasim\n"
     ]
    }
   ],
   "source": [
    "name : str = \"MuHammAd QasIm\"\n",
    "print(name)\n",
    "print(name.capitalize())"
   ]
  },
  {
   "cell_type": "code",
   "execution_count": 113,
   "metadata": {},
   "outputs": [
    {
     "name": "stdout",
     "output_type": "stream",
     "text": [
      "MuHammAd QasIm\n",
      "muhammad qasim\n"
     ]
    }
   ],
   "source": [
    "name : str = \"MuHammAd QasIm\"\n",
    "print(name)\n",
    "print(name.casefold())"
   ]
  },
  {
   "cell_type": "code",
   "execution_count": 118,
   "metadata": {},
   "outputs": [
    {
     "data": {
      "text/plain": [
       "'          MuHammAd QasIm        '"
      ]
     },
     "metadata": {},
     "output_type": "display_data"
    },
    {
     "data": {
      "text/plain": [
       "'MuHammAd QasIm        '"
      ]
     },
     "metadata": {},
     "output_type": "display_data"
    }
   ],
   "source": [
    "name : str = \"          MuHammAd QasIm        \"\n",
    "display(name)\n",
    "display(name.lstrip())"
   ]
  },
  {
   "cell_type": "code",
   "execution_count": 119,
   "metadata": {},
   "outputs": [
    {
     "data": {
      "text/plain": [
       "'          MuHammAd QasIm        '"
      ]
     },
     "metadata": {},
     "output_type": "display_data"
    },
    {
     "data": {
      "text/plain": [
       "'          MuHammAd QasIm'"
      ]
     },
     "metadata": {},
     "output_type": "display_data"
    }
   ],
   "source": [
    "name : str = \"          MuHammAd QasIm        \"\n",
    "display(name)\n",
    "display(name.rstrip())"
   ]
  },
  {
   "cell_type": "code",
   "execution_count": 121,
   "metadata": {},
   "outputs": [
    {
     "data": {
      "text/plain": [
       "'          MuHammAd TaImOoR        '"
      ]
     },
     "metadata": {},
     "output_type": "display_data"
    },
    {
     "data": {
      "text/plain": [
       "'MuHammAd TaImOoR'"
      ]
     },
     "metadata": {},
     "output_type": "display_data"
    }
   ],
   "source": [
    "name : str = \"          MuHammAd TaImOoR        \"\n",
    "display(name)\n",
    "display(name.strip())"
   ]
  },
  {
   "cell_type": "code",
   "execution_count": 128,
   "metadata": {},
   "outputs": [
    {
     "name": "stdout",
     "output_type": "stream",
     "text": [
      "          MuHammAd TaImOoR        \n"
     ]
    },
    {
     "data": {
      "text/plain": [
       "'      MuHammAd TaImOoR      '"
      ]
     },
     "metadata": {},
     "output_type": "display_data"
    }
   ],
   "source": [
    "import re\n",
    "\n",
    "name : str = \"          MuHammAd TaImOoR        \"\n",
    "\n",
    "print(name)\n",
    "\n",
    "name1 : str = re.sub(' {2,100}', '      ', name)\n",
    "display(name1)"
   ]
  },
  {
   "cell_type": "code",
   "execution_count": 129,
   "metadata": {},
   "outputs": [
    {
     "data": {
      "text/plain": [
       "'MuHammAd TaImOoR'"
      ]
     },
     "metadata": {},
     "output_type": "display_data"
    },
    {
     "data": {
      "text/plain": [
       "'Muhammad Taimoor'"
      ]
     },
     "metadata": {},
     "output_type": "display_data"
    }
   ],
   "source": [
    "name : str = \"MuHammAd TaImOoR\"\n",
    "display(name)\n",
    "display(name.title())\n"
   ]
  },
  {
   "cell_type": "code",
   "execution_count": 132,
   "metadata": {},
   "outputs": [
    {
     "data": {
      "text/plain": [
       "'Taimoor Kamran'"
      ]
     },
     "metadata": {},
     "output_type": "display_data"
    },
    {
     "name": "stdout",
     "output_type": "stream",
     "text": [
      "Hello, Taimoor Kamran\n"
     ]
    }
   ],
   "source": [
    "first_name: str = \"Taimoor\"\n",
    "last_name: str = \"Kamran\"\n",
    "full_name: str = f\"{first_name} {last_name}\"\n",
    "display(full_name)\n",
    "print(f\"Hello, {full_name.title()}\")"
   ]
  },
  {
   "cell_type": "markdown",
   "metadata": {},
   "source": [
    "\\t\n",
    "\\n\n",
    "\\b"
   ]
  },
  {
   "cell_type": "code",
   "execution_count": 134,
   "metadata": {},
   "outputs": [
    {
     "name": "stdout",
     "output_type": "stream",
     "text": [
      "Name: \t\t Taimoor Kamran\n"
     ]
    }
   ],
   "source": [
    "print(\"Name: \\t\\t Taimoor Kamran\")"
   ]
  },
  {
   "cell_type": "code",
   "execution_count": 135,
   "metadata": {},
   "outputs": [
    {
     "name": "stdout",
     "output_type": "stream",
     "text": [
      "Name: \n",
      "\n",
      " Taimoor Kamran\n"
     ]
    }
   ],
   "source": [
    "print(\"Name: \\n\\n Taimoor Kamran\")\n"
   ]
  },
  {
   "cell_type": "code",
   "execution_count": 139,
   "metadata": {},
   "outputs": [
    {
     "name": "stdout",
     "output_type": "stream",
     "text": [
      "Name:Taimoor Kamran\n"
     ]
    }
   ],
   "source": [
    "print(\"Name: \\bTaimoor Kamran\")\n"
   ]
  },
  {
   "cell_type": "code",
   "execution_count": null,
   "metadata": {},
   "outputs": [],
   "source": [
    "nostrach_url : str = 'https://nostrach.com'\n",
    "nostrach_url.removeprefix('https://')"
   ]
  }
 ],
 "metadata": {
  "kernelspec": {
   "display_name": "my-app",
   "language": "python",
   "name": "python3"
  },
  "language_info": {
   "codemirror_mode": {
    "name": "ipython",
    "version": 3
   },
   "file_extension": ".py",
   "mimetype": "text/x-python",
   "name": "python",
   "nbconvert_exporter": "python",
   "pygments_lexer": "ipython3",
   "version": "3.12.0"
  }
 },
 "nbformat": 4,
 "nbformat_minor": 2
}
