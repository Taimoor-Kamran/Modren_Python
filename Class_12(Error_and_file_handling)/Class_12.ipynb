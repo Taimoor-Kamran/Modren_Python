{
 "cells": [
  {
   "cell_type": "code",
   "execution_count": 2,
   "metadata": {},
   "outputs": [
    {
     "name": "stdout",
     "output_type": "stream",
     "text": [
      "logic1\n",
      "logic2\n",
      "2.5\n",
      "1\n",
      "Zero Division Error!\n",
      "logic4\n",
      "logic5\n"
     ]
    }
   ],
   "source": [
    "print(\"logic1\")\n",
    "print(\"logic2\")\n",
    "\n",
    "l1:list[int] = [1,2,3]\n",
    "\n",
    "try:\n",
    "    print(5/2) \n",
    "    print(l1[0])\n",
    "    print(xyz)\n",
    "except (ZeroDivisionError, IndexError,NameError):\n",
    "    print(\"Zero Division Error!\")\n",
    "print(\"logic4\")\n",
    "print(\"logic5\")\n"
   ]
  },
  {
   "cell_type": "code",
   "execution_count": 6,
   "metadata": {},
   "outputs": [
    {
     "name": "stdout",
     "output_type": "stream",
     "text": [
      "logic1\n",
      "logic2\n",
      "2.5\n",
      "1\n",
      "Name not defined\n",
      "logic4\n",
      "logic5\n"
     ]
    }
   ],
   "source": [
    "print(\"logic1\")\n",
    "print(\"logic2\")\n",
    "\n",
    "l1:list[int] = [1,2,3]\n",
    "\n",
    "try:\n",
    "    print(5/2) \n",
    "    print(l1[0])\n",
    "    print(xyz)\n",
    "except (ZeroDivisionError):\n",
    "    print(\"Zero Division Error!\")\n",
    "except IndexError:\n",
    "    print(\"Index Error!\")\n",
    "except NameError:\n",
    "    print(\"Name not defined\")\n",
    "except:\n",
    "    print(\"Something is wrong\")\n",
    "print(\"logic4\")\n",
    "print(\"logic5\")\n"
   ]
  },
  {
   "cell_type": "code",
   "execution_count": 12,
   "metadata": {},
   "outputs": [
    {
     "name": "stdout",
     "output_type": "stream",
     "text": [
      "Something is wrong!\n",
      "list index out of range\n"
     ]
    }
   ],
   "source": [
    "try:\n",
    "    # print(age)\n",
    "    print(l1[200])\n",
    "except Exception as e:\n",
    "    print(f\"Something is wrong!\\n{e}\")"
   ]
  },
  {
   "cell_type": "code",
   "execution_count": 13,
   "metadata": {},
   "outputs": [
    {
     "ename": "Exception",
     "evalue": "Hello World",
     "output_type": "error",
     "traceback": [
      "\u001b[1;31m---------------------------------------------------------------------------\u001b[0m",
      "\u001b[1;31mException\u001b[0m                                 Traceback (most recent call last)",
      "Cell \u001b[1;32mIn[13], line 1\u001b[0m\n\u001b[1;32m----> 1\u001b[0m \u001b[38;5;28;01mraise\u001b[39;00m \u001b[38;5;167;01mException\u001b[39;00m(\u001b[38;5;124m\"\u001b[39m\u001b[38;5;124mHello World\u001b[39m\u001b[38;5;124m\"\u001b[39m)\n",
      "\u001b[1;31mException\u001b[0m: Hello World"
     ]
    }
   ],
   "source": [
    "raise Exception(\"Hello World\")"
   ]
  },
  {
   "cell_type": "code",
   "execution_count": 17,
   "metadata": {},
   "outputs": [
    {
     "name": "stdout",
     "output_type": "stream",
     "text": [
      "Taimoor 1 18\n"
     ]
    }
   ],
   "source": [
    "class StudentCard():\n",
    "    def __init__(self, roll_no:int, name:str, age:int) ->None:\n",
    "        if age < 18 or age > 60:\n",
    "            raise StudentAgeError(\"Your are not eligible for this program\")\n",
    "        self.roll_no = roll_no\n",
    "        self.name = name\n",
    "        self.age = age\n",
    "\n",
    "\n",
    "class StudentAgeError(Exception):\n",
    "    pass\n",
    "\n",
    "student1 = StudentCard(1, \"Taimoor\", 18)\n",
    "\n",
    "print(student1.name, student1.roll_no, student1.age)"
   ]
  },
  {
   "cell_type": "code",
   "execution_count": 25,
   "metadata": {},
   "outputs": [
    {
     "ename": "StudentAgeError",
     "evalue": "Your are not eligible for this program",
     "output_type": "error",
     "traceback": [
      "\u001b[1;31m---------------------------------------------------------------------------\u001b[0m",
      "\u001b[1;31mStudentAgeError\u001b[0m                           Traceback (most recent call last)",
      "Cell \u001b[1;32mIn[25], line 1\u001b[0m\n\u001b[1;32m----> 1\u001b[0m student1 \u001b[38;5;241m=\u001b[39m \u001b[43mStudentCard\u001b[49m\u001b[43m(\u001b[49m\u001b[38;5;241;43m1\u001b[39;49m\u001b[43m,\u001b[49m\u001b[43m \u001b[49m\u001b[38;5;124;43m\"\u001b[39;49m\u001b[38;5;124;43mGeorge\u001b[39;49m\u001b[38;5;124;43m\"\u001b[39;49m\u001b[43m,\u001b[49m\u001b[43m \u001b[49m\u001b[38;5;241;43m62\u001b[39;49m\u001b[43m)\u001b[49m\n\u001b[0;32m      3\u001b[0m \u001b[38;5;28mprint\u001b[39m(student1\u001b[38;5;241m.\u001b[39mname, student1\u001b[38;5;241m.\u001b[39mroll_no, student1\u001b[38;5;241m.\u001b[39mage)\n",
      "Cell \u001b[1;32mIn[17], line 4\u001b[0m, in \u001b[0;36mStudentCard.__init__\u001b[1;34m(self, roll_no, name, age)\u001b[0m\n\u001b[0;32m      2\u001b[0m \u001b[38;5;28;01mdef\u001b[39;00m\u001b[38;5;250m \u001b[39m\u001b[38;5;21m__init__\u001b[39m(\u001b[38;5;28mself\u001b[39m, roll_no:\u001b[38;5;28mint\u001b[39m, name:\u001b[38;5;28mstr\u001b[39m, age:\u001b[38;5;28mint\u001b[39m) \u001b[38;5;241m-\u001b[39m\u001b[38;5;241m>\u001b[39m\u001b[38;5;28;01mNone\u001b[39;00m:\n\u001b[0;32m      3\u001b[0m     \u001b[38;5;28;01mif\u001b[39;00m age \u001b[38;5;241m<\u001b[39m \u001b[38;5;241m18\u001b[39m \u001b[38;5;129;01mor\u001b[39;00m age \u001b[38;5;241m>\u001b[39m \u001b[38;5;241m60\u001b[39m:\n\u001b[1;32m----> 4\u001b[0m         \u001b[38;5;28;01mraise\u001b[39;00m StudentAgeError(\u001b[38;5;124m\"\u001b[39m\u001b[38;5;124mYour are not eligible for this program\u001b[39m\u001b[38;5;124m\"\u001b[39m)\n\u001b[0;32m      5\u001b[0m     \u001b[38;5;28mself\u001b[39m\u001b[38;5;241m.\u001b[39mroll_no \u001b[38;5;241m=\u001b[39m roll_no\n\u001b[0;32m      6\u001b[0m     \u001b[38;5;28mself\u001b[39m\u001b[38;5;241m.\u001b[39mname \u001b[38;5;241m=\u001b[39m name\n",
      "\u001b[1;31mStudentAgeError\u001b[0m: Your are not eligible for this program"
     ]
    }
   ],
   "source": [
    "student1 = StudentCard(1, \"George\", 62)\n",
    "\n",
    "print(student1.name, student1.roll_no, student1.age)"
   ]
  },
  {
   "cell_type": "code",
   "execution_count": null,
   "metadata": {},
   "outputs": [
    {
     "ename": "StudentAgeError",
     "evalue": "Your are not eligible for this program",
     "output_type": "error",
     "traceback": [
      "\u001b[1;31m---------------------------------------------------------------------------\u001b[0m",
      "\u001b[1;31mStudentAgeError\u001b[0m                           Traceback (most recent call last)",
      "Cell \u001b[1;32mIn[24], line 1\u001b[0m\n\u001b[1;32m----> 1\u001b[0m student1 \u001b[38;5;241m=\u001b[39m \u001b[43mStudentCard\u001b[49m\u001b[43m(\u001b[49m\u001b[38;5;241;43m1\u001b[39;49m\u001b[43m,\u001b[49m\u001b[43m \u001b[49m\u001b[38;5;124;43m\"\u001b[39;49m\u001b[38;5;124;43mAlien\u001b[39;49m\u001b[38;5;124;43m\"\u001b[39;49m\u001b[43m,\u001b[49m\u001b[43m \u001b[49m\u001b[38;5;241;43m16\u001b[39;49m\u001b[43m)\u001b[49m\n\u001b[0;32m      3\u001b[0m \u001b[38;5;28mprint\u001b[39m(student1\u001b[38;5;241m.\u001b[39mname, student1\u001b[38;5;241m.\u001b[39mroll_no, student1\u001b[38;5;241m.\u001b[39mage)\n",
      "Cell \u001b[1;32mIn[17], line 4\u001b[0m, in \u001b[0;36mStudentCard.__init__\u001b[1;34m(self, roll_no, name, age)\u001b[0m\n\u001b[0;32m      2\u001b[0m \u001b[38;5;28;01mdef\u001b[39;00m\u001b[38;5;250m \u001b[39m\u001b[38;5;21m__init__\u001b[39m(\u001b[38;5;28mself\u001b[39m, roll_no:\u001b[38;5;28mint\u001b[39m, name:\u001b[38;5;28mstr\u001b[39m, age:\u001b[38;5;28mint\u001b[39m) \u001b[38;5;241m-\u001b[39m\u001b[38;5;241m>\u001b[39m\u001b[38;5;28;01mNone\u001b[39;00m:\n\u001b[0;32m      3\u001b[0m     \u001b[38;5;28;01mif\u001b[39;00m age \u001b[38;5;241m<\u001b[39m \u001b[38;5;241m18\u001b[39m \u001b[38;5;129;01mor\u001b[39;00m age \u001b[38;5;241m>\u001b[39m \u001b[38;5;241m60\u001b[39m:\n\u001b[1;32m----> 4\u001b[0m         \u001b[38;5;28;01mraise\u001b[39;00m StudentAgeError(\u001b[38;5;124m\"\u001b[39m\u001b[38;5;124mYour are not eligible for this program\u001b[39m\u001b[38;5;124m\"\u001b[39m)\n\u001b[0;32m      5\u001b[0m     \u001b[38;5;28mself\u001b[39m\u001b[38;5;241m.\u001b[39mroll_no \u001b[38;5;241m=\u001b[39m roll_no\n\u001b[0;32m      6\u001b[0m     \u001b[38;5;28mself\u001b[39m\u001b[38;5;241m.\u001b[39mname \u001b[38;5;241m=\u001b[39m name\n",
      "\u001b[1;31mStudentAgeError\u001b[0m: Your are not eligible for this program"
     ]
    }
   ],
   "source": [
    "student1 = StudentCard(1, \"Alien\", 16)\n",
    "\n",
    "print(student1.name, student1.roll_no, student1.age)"
   ]
  },
  {
   "cell_type": "markdown",
   "metadata": {},
   "source": [
    "# File Handling\n",
    "\n",
    "<img src=\"https://net-informations.com/python/file/img/modes.png\">"
   ]
  },
  {
   "cell_type": "code",
   "execution_count": 2,
   "metadata": {},
   "outputs": [
    {
     "data": {
      "text/plain": [
       "<_io.TextIOWrapper name='./abc.txt' mode='r' encoding='cp1252'>"
      ]
     },
     "execution_count": 2,
     "metadata": {},
     "output_type": "execute_result"
    }
   ],
   "source": [
    "open(\"./abc.txt\")"
   ]
  },
  {
   "cell_type": "code",
   "execution_count": 9,
   "metadata": {},
   "outputs": [
    {
     "data": {
      "text/plain": [
       "<_io.TextIOWrapper name='./abc.txt' mode='r' encoding='cp1252'>"
      ]
     },
     "execution_count": 9,
     "metadata": {},
     "output_type": "execute_result"
    }
   ],
   "source": [
    "data = open(\"./abc.txt\")\n",
    "data"
   ]
  },
  {
   "cell_type": "code",
   "execution_count": null,
   "metadata": {},
   "outputs": [
    {
     "data": {
      "text/plain": [
       "['_CHUNK_SIZE',\n",
       " '_checkClosed',\n",
       " '_checkReadable',\n",
       " '_checkSeekable',\n",
       " '_checkWritable',\n",
       " '_finalizing',\n",
       " 'buffer',\n",
       " 'close',\n",
       " 'closed',\n",
       " 'detach',\n",
       " 'encoding',\n",
       " 'errors',\n",
       " 'fileno',\n",
       " 'flush',\n",
       " 'isatty',\n",
       " 'line_buffering',\n",
       " 'mode',\n",
       " 'name',\n",
       " 'newlines',\n",
       " 'read',\n",
       " 'readable',\n",
       " 'readline',\n",
       " 'readlines',\n",
       " 'reconfigure',\n",
       " 'seek',\n",
       " 'seekable',\n",
       " 'tell',\n",
       " 'truncate',\n",
       " 'writable',\n",
       " 'write',\n",
       " 'write_through',\n",
       " 'writelines']"
      ]
     },
     "execution_count": 10,
     "metadata": {},
     "output_type": "execute_result"
    }
   ],
   "source": [
    "[i for i in dir(data) if \"__\" not in i]"
   ]
  },
  {
   "cell_type": "code",
   "execution_count": 13,
   "metadata": {},
   "outputs": [
    {
     "data": {
      "text/plain": [
       "_io.TextIOWrapper"
      ]
     },
     "execution_count": 13,
     "metadata": {},
     "output_type": "execute_result"
    }
   ],
   "source": [
    "type(data)"
   ]
  },
  {
   "cell_type": "code",
   "execution_count": 20,
   "metadata": {},
   "outputs": [
    {
     "name": "stdout",
     "output_type": "stream",
     "text": [
      "line1\n",
      "line2\n"
     ]
    }
   ],
   "source": [
    "from typing import TextIO\n",
    "\n",
    "data:TextIO = open(\"./abc.txt\") # connectivity with abc.txt file\n",
    "print(data.read())"
   ]
  },
  {
   "cell_type": "code",
   "execution_count": 24,
   "metadata": {},
   "outputs": [
    {
     "name": "stdout",
     "output_type": "stream",
     "text": [
      "line1\n",
      "line2\n"
     ]
    },
    {
     "data": {
      "text/plain": [
       "<function TextIOWrapper.close()>"
      ]
     },
     "execution_count": 24,
     "metadata": {},
     "output_type": "execute_result"
    }
   ],
   "source": [
    "from typing import TextIO\n",
    "\n",
    "data:TextIO = open(\"./abc.txt\") # connectivity with abc.txt file\n",
    "print(data.read())\n",
    "\n",
    "data.close # close connnectivity"
   ]
  },
  {
   "cell_type": "code",
   "execution_count": 30,
   "metadata": {},
   "outputs": [
    {
     "name": "stdout",
     "output_type": "stream",
     "text": [
      "<class '_io.TextIOWrapper'>\n",
      "line1\n",
      "line2\n",
      "line2\n",
      "line2\n",
      "line2\n",
      "Pakistan zinda bad!\n"
     ]
    }
   ],
   "source": [
    "with open(\"abc.txt\") as file:\n",
    "    print(type(file))\n",
    "    print(file.read())\n",
    "\n",
    "print(\"Pakistan zinda bad!\")"
   ]
  },
  {
   "cell_type": "code",
   "execution_count": 31,
   "metadata": {},
   "outputs": [
    {
     "name": "stdout",
     "output_type": "stream",
     "text": [
      "<class '_io.TextIOWrapper'>\n",
      "line1\n",
      "\n"
     ]
    }
   ],
   "source": [
    "with open(\"abc.txt\") as file:\n",
    "    print(type(file))\n",
    "    print(file.readline())"
   ]
  }
 ],
 "metadata": {
  "kernelspec": {
   "display_name": "Python 3",
   "language": "python",
   "name": "python3"
  },
  "language_info": {
   "codemirror_mode": {
    "name": "ipython",
    "version": 3
   },
   "file_extension": ".py",
   "mimetype": "text/x-python",
   "name": "python",
   "nbconvert_exporter": "python",
   "pygments_lexer": "ipython3",
   "version": "3.12.6"
  }
 },
 "nbformat": 4,
 "nbformat_minor": 2
}
